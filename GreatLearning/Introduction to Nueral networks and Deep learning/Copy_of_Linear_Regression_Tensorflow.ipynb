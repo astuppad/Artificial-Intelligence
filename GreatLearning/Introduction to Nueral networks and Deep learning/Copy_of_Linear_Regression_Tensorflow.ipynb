{
  "nbformat": 4,
  "nbformat_minor": 0,
  "metadata": {
    "orig_nbformat": 2,
    "file_extension": ".py",
    "mimetype": "text/x-python",
    "name": "python",
    "npconvert_exporter": "python",
    "pygments_lexer": "ipython3",
    "version": 3,
    "colab": {
      "name": "Copy of Linear_Regression_Tensorflow.ipynb",
      "provenance": [],
      "collapsed_sections": []
    },
    "kernelspec": {
      "name": "python3",
      "display_name": "Python 3"
    }
  },
  "cells": [
    {
      "cell_type": "code",
      "metadata": {
        "id": "9JQzxCvdidGw",
        "colab_type": "code",
        "colab": {}
      },
      "source": [
        "import tensorflow as tf"
      ],
      "execution_count": 1,
      "outputs": []
    },
    {
      "cell_type": "code",
      "metadata": {
        "id": "dgRMQh8iiuRJ",
        "colab_type": "code",
        "colab": {}
      },
      "source": [
        "(features, actual_prices),_ = tf.keras.datasets.boston_housing.load_data(test_split=0)"
      ],
      "execution_count": 2,
      "outputs": []
    },
    {
      "cell_type": "code",
      "metadata": {
        "id": "5Cs-S77ujFba",
        "colab_type": "code",
        "colab": {
          "base_uri": "https://localhost:8080/",
          "height": 68
        },
        "outputId": "109e076e-cfd7-4429-8a4f-0666d67d3d70"
      },
      "source": [
        "print('Number of examples: ', features.shape[0])\n",
        "print('Number of features for each example: ', features.shape[1])\n",
        "print('Number of actual prices data: ', actual_prices.shape)"
      ],
      "execution_count": 3,
      "outputs": [
        {
          "output_type": "stream",
          "name": "stdout",
          "text": "Number of examples:  506\nNumber of features for each example:  13\nNumber of actual prices data:  (506,)\n"
        }
      ]
    },
    {
      "cell_type": "code",
      "metadata": {
        "id": "nNPas_P6jef5",
        "colab_type": "code",
        "colab": {
          "base_uri": "https://localhost:8080/",
          "height": 235
        },
        "outputId": "ff8da26d-a174-4f33-a5a9-52ffe81e70e6"
      },
      "source": [
        "# Building the graph\n",
        "# Define input data and placeholder\n",
        "# Input features\n",
        "x = tf.placeholder(shape=[None, 13], dtype=tf.float32, name='y-input')\n",
        "\n",
        "# Normalize the data\n",
        "x_n = tf.layers.batch_normalization(x, training=True)\n",
        "\n",
        "# Actual prices\n",
        "y_ = tf.placeholder(shape=[None], dtype=tf.float32, name='y-input')"
      ],
      "execution_count": 4,
      "outputs": [
        {
          "output_type": "stream",
          "name": "stdout",
          "text": "WARNING:tensorflow:From <ipython-input-4-8f0cd886e1ef>:7: batch_normalization (from tensorflow.python.layers.normalization) is deprecated and will be removed in a future version.\nInstructions for updating:\nUse keras.layers.batch_normalization instead.\nWARNING:tensorflow:From /opt/anaconda3/lib/python3.7/site-packages/tensorflow/python/framework/op_def_library.py:263: colocate_with (from tensorflow.python.framework.ops) is deprecated and will be removed in a future version.\nInstructions for updating:\nColocations handled automatically by placer.\n"
        }
      ]
    },
    {
      "cell_type": "code",
      "execution_count": 5,
      "metadata": {},
      "outputs": [],
      "source": [
        "# Define weights and bias\n",
        "W = tf.Variable(tf.zeros(shape=[13,1]), name='Weights')\n",
        "b = tf.Variable(tf.zeros(shape=[1]), name='Bias')"
      ]
    },
    {
      "cell_type": "code",
      "execution_count": 6,
      "metadata": {},
      "outputs": [],
      "source": [
        "# Prdiction\n",
        "y = tf.add(tf.matmul(x_n, W), b, name='output')"
      ]
    },
    {
      "cell_type": "code",
      "execution_count": 7,
      "metadata": {},
      "outputs": [],
      "source": [
        "# Loss (Cost) Function\n",
        "loss = tf.reduce_mean(tf.square(y-y_), name='loss')"
      ]
    },
    {
      "cell_type": "code",
      "execution_count": 8,
      "metadata": {},
      "outputs": [],
      "source": [
        "# GradientDescent Optimizer to minimize Loss\n",
        "train_op = tf.train.GradientDescentOptimizer(0.03).minimize(loss)"
      ]
    },
    {
      "cell_type": "code",
      "execution_count": 9,
      "metadata": {},
      "outputs": [],
      "source": [
        "# Excuting the graph\n",
        "# Lets start the graph execution\n",
        "sess = tf.Session()\n",
        "\n",
        "# variable need to be initialized before we can use them \n",
        "sess.run(tf.global_variables_initializer())\n",
        "\n",
        "#how many times data need to be shown to model\n",
        "training_epochs = 100"
      ]
    },
    {
      "cell_type": "code",
      "execution_count": 10,
      "metadata": {},
      "outputs": [
        {
          "output_type": "stream",
          "name": "stdout",
          "text": "Training loss at step:  0  is 592.14703\nTraining loss at step:  10  is 231.71227\nTraining loss at step:  20  is 121.856804\nTraining loss at step:  30  is 84.96823\nTraining loss at step:  40  is 84.55544\nTraining loss at step:  50  is 84.49244\nTraining loss at step:  60  is 84.4652\nTraining loss at step:  70  is 84.44976\nTraining loss at step:  80  is 84.44013\nTraining loss at step:  90  is 84.433846\n"
        }
      ],
      "source": [
        "for epoch in range(training_epochs):\n",
        "    _, train_loss = sess.run([train_op, loss], feed_dict={x:features, y_:actual_prices})\n",
        "\n",
        "    if epoch % 10 == 0:\n",
        "        print('Training loss at step: ', epoch, ' is', train_loss)"
      ]
    },
    {
      "cell_type": "code",
      "execution_count": 11,
      "metadata": {},
      "outputs": [
        {
          "output_type": "execute_result",
          "data": {
            "text/plain": "array([  1.23247,   0.     ,   8.14   ,   0.     ,   0.538  ,   6.142  ,\n        91.7    ,   3.9769 ,   4.     , 307.     ,  21.     , 396.9    ,\n        18.72   ])"
          },
          "metadata": {},
          "execution_count": 11
        }
      ],
      "source": [
        "features[0]"
      ]
    },
    {
      "cell_type": "code",
      "execution_count": 12,
      "metadata": {},
      "outputs": [],
      "source": [
        "sess.close()"
      ]
    }
  ]
}