{
 "cells": [
  {
   "cell_type": "code",
   "execution_count": 8,
   "metadata": {},
   "outputs": [],
   "source": [
    "import numpy as np\n",
    "# Defining the Linear function Layer for Neural network\n",
    "class Linear():\n",
    "    def __init__(self, in_size, out_size):\n",
    "        self.W = np.random.randn(in_size, out_size) * 0.01\n",
    "        self.B = np.zeros((1, out_size))\n",
    "        self.params = [self.W, self.B]\n",
    "        self.gradW = None\n",
    "        self.gradB = None\n",
    "        self.gradInput = None\n",
    "    \n",
    "    def forward(self, X):\n",
    "        self.X = X\n",
    "        output = np.dot(self.X, self.W) + self.B\n",
    "        return output\n",
    "    \n",
    "    def backward(self, nextgrad):ß\n",
    "        self.gradW = np.dot(self.X.T, nextgrad)\n",
    "        self.gradB = np.sum(nextgrad, axis=0)\n",
    "        self.gradInput = np.dot(nextgrad, self.W.T)\n",
    "        return self.gradInput, [self.gradW, self.gradB]"
   ]
  },
  {
   "cell_type": "code",
   "execution_count": 9,
   "metadata": {},
   "outputs": [],
   "source": [
    "# Defining the Rectifier Linear Activation Layer\n",
    "class ReLu():\n",
    "    def __init__(self, X):\n",
    "        self.params = []\n",
    "        self.gradInput = None\n",
    "    \n",
    "    def forward(self, X):\n",
    "        output = np.max(X, 0)\n",
    "        return output\n",
    "\n",
    "    def backward(self, nextgrad):\n",
    "        self.gradInput = nextgrad.copy\n",
    "        self.gradInput[self.gradInput < 0] = 0\n",
    "        return self.gradInput, []"
   ]
  },
  {
   "cell_type": "code",
   "execution_count": 10,
   "metadata": {},
   "outputs": [],
   "source": [
    "# Defining softmax activation function\n",
    "def softmax(X):\n",
    "    exp_x = np.exp(X - np.max(X, axis=1, keepdims=True))\n",
    "    return exp_x / np.sum(exp_x, axis=1, keepdims=True)"
   ]
  },
  {
   "cell_type": "code",
   "execution_count": 29,
   "metadata": {},
   "outputs": [],
   "source": [
    "# Defining cross entropy loss function\n",
    "class CrossEntropy:\n",
    "    def forward(self, X, y):\n",
    "        self.m = y.shape[0]\n",
    "        self.p = softmax(X)\n",
    "        cross_entropy = -np.log(self.p[range(self.m), y]+1e-16)\n",
    "        loss = np.sum(cross_entropy)/self.m\n",
    "        return loss\n",
    "\n",
    "    def backward(self, X, y):\n",
    "        y_idx = y.argmax()\n",
    "        grad[range(self.m), y] -= 1\n",
    "        grad /= self.m\n",
    "        return grad"
   ]
  },
  {
   "cell_type": "code",
   "execution_count": 33,
   "metadata": {},
   "outputs": [
    {
     "output_type": "stream",
     "name": "stdout",
     "text": "(60000, 784)\n(10000, 784)\n(60000,)\n(10000,)\n"
    }
   ],
   "source": [
    "# load the dataset and reshape the data\n",
    "from keras.datasets import mnist\n",
    "from keras.utils import np_utils\n",
    "\n",
    "(train_features, train_targets), (test_features, test_targets) = mnist.load_data()\n",
    "\n",
    "train_features = train_features.reshape(60000, 784)\n",
    "print(train_features.shape)\n",
    "test_features = test_features.reshape(10000, 784)\n",
    "print(test_features.shape)\n",
    "\n",
    "# normalize inputs from 0 to 255 to 0 to 1\n",
    "train_features = train_features/255.0\n",
    "test_features = test_features/255.0\n",
    "\n",
    "print(train_targets.shape)\n",
    "print(test_targets.shape)\n",
    "\n",
    "X_train = train_features\n",
    "y_train = train_targets\n",
    "\n",
    "X_val = test_features\n",
    "y_val = train_targets"
   ]
  },
  {
   "cell_type": "code",
   "execution_count": 37,
   "metadata": {},
   "outputs": [
    {
     "output_type": "stream",
     "name": "stdout",
     "text": "label for each of the above image: [5 0 4 1 9 2 1 3 1 4]\n"
    },
    {
     "output_type": "display_data",
     "data": {
      "text/plain": "<Figure size 720x72 with 10 Axes>",
      "image/svg+xml": "<?xml version=\"1.0\" encoding=\"utf-8\" standalone=\"no\"?>\n<!DOCTYPE svg PUBLIC \"-//W3C//DTD SVG 1.1//EN\"\n  \"http://www.w3.org/Graphics/SVG/1.1/DTD/svg11.dtd\">\n<!-- Created with matplotlib (https://matplotlib.org/) -->\n<svg height=\"61.688136pt\" version=\"1.1\" viewBox=\"0 0 572.4 61.688136\" width=\"572.4pt\" xmlns=\"http://www.w3.org/2000/svg\" xmlns:xlink=\"http://www.w3.org/1999/xlink\">\n <defs>\n  <style type=\"text/css\">\n*{stroke-linecap:butt;stroke-linejoin:round;}\n  </style>\n </defs>\n <g id=\"figure_1\">\n  <g id=\"patch_1\">\n   <path d=\"M 0 61.688136 \nL 572.4 61.688136 \nL 572.4 0 \nL 0 0 \nz\n\" style=\"fill:none;\"/>\n  </g>\n  <g id=\"axes_1\">\n   <g clip-path=\"url(#pbb61f8be6a)\">\n    <image height=\"48\" id=\"imaged977b81ac3\" transform=\"scale(1 -1)translate(0 -48)\" width=\"48\" x=\"7.2\" xlink:href=\"data:image/png;base64,\niVBORw0KGgoAAAANSUhEUgAAADAAAAAwCAYAAABXAvmHAAAABHNCSVQICAgIfAhkiAAAAy5JREFUaIHtmDtIK1EQQI8vYmHwgxYGhCBaKBpEUFkIYrBZQRT8NRa2VkErG0GwCQhiIxoQC8HaRrFRxF8hLIq/QhCsFsFSYQ2iJN5X5O3GPJPVbDaExRy4EJjLnTuZmbszUwQIHMyffF8gWwoG5BvHG1BsJpyfnwdgenr6i+z29padnR0AotEoAIuLiwA8Pz/bekkzHO8BiD+jKZckSUKSJLG5uSlUVRWqqopYLJZ2aZomNE0ToVBIuN1u4Xa7055t13K8B4r44YesqqoKgNXVVQDa2tqor69Pu//09BRI5MXu7i6vr6/Z3DUlPzbgf2pqamhubgZgeXkZgKamprT7FUVhYWEBgK2tLQA+Pj6sqE7i94SQGR6PB4CxsTEAgsEgdXV1afefn58DEAqFANje3rasu+CBVDQ2NhIMBgEYHh4GEl76TCwWA2B/f5++vj5LunJiwGdaW1sBGB0dpbOzEwBZlpP23Nzc0N7eDmSe2IUQssLb2xsAxcXxUiwajdLb2wvA0dFRRmc53gOm1aidVFZWMjAwAIDL5UqSnZycZPzP6zjeA5DjatHn8wmfzyf29va+VK/hcFiEw2FRW1tr+fychdDQ0BAA6+vrAJSVlRmymZkZADY2NgB4fHy0rMfxIZSTZ7ShoYGLiwsg0V4eHh4aNdDKygoAQmSv2vEeABsTVm8jDw4OjESVZVnIspyzR8LWJJ6bmwMgEAhwfHwMxAu1XOL4EMrKA+Xl5QBomgZARUWFIVtbWwPsaRvNcLwHLD+jg4OD9Pf3A3B5eQnA0tKSIb+6ugKgu7sbgEgkQktLCwBTU1MATExMWLv1J36fB/T5kKIopnMhHUVRgPgHraenB4D393cgOWesknESe71eAKqrq3+0X5Kkr0r/NTLj4+MAvLy8GDK9Lnp6euLu7u7b839fCOl4vV5KSkoA8Pv9AHR1dQHx5mVkZOTbMx4eHgA4OzszqtdIJALA9fU1s7OzgHmb6XgPWP6Qqapq/L6/vwcS9b3L5UqZoPqsqLS0FIjPjwAmJyeNxNanex0dHQQCAcDcA3mZStiJ40OoYEC+KRiQbwoG5BvHG/AXx3uhRcusRYEAAAAASUVORK5CYII=\" y=\"-6.488136\"/>\n   </g>\n  </g>\n  <g id=\"axes_2\">\n   <g clip-path=\"url(#pd9cee01a68)\">\n    <image height=\"48\" id=\"image7ab4240e1a\" transform=\"scale(1 -1)translate(0 -48)\" width=\"48\" x=\"63.945763\" xlink:href=\"data:image/png;base64,\niVBORw0KGgoAAAANSUhEUgAAADAAAAAwCAYAAABXAvmHAAAABHNCSVQICAgIfAhkiAAAA41JREFUaIHtmL1LM0sUxn9ehC0ELVJFUijE1g+CEkTcMk06MagQS20EI36AIGJhqYikCohFEFRUEEVEhIiI0UYL/wMVFRFD/CCg7Di3kNnkvW8u2UQlLOaBQwgzc+acfZ45Z3bLAImN8U+xA/gqSgkUG6UEio3fl4DT6cTpdDI1NYVhGBiGgRACIYT5f3Z2Frfbjdvt/omY/4DtGSjDYiNzuVwArK2tAdDc3Jx2UlYGgJRpV4+PjwCsrKwAMDg4+PVos8ByAp2dnQAsLy//NXZ/fw/A8/MzAHV1dX/NOTk54eDgAIDJycmCgs0G20uovNCFQggikQgAi4uLQFo2Xq+XYDAIQENDAwCtra2mDBVD8/PzAJyenhYahv0ZgM8zkNMCgYAMBAJSCCGFEPLy8tLSOmVDQ0MykUjIRCJh+ohGozIajebl579mWUKqwqjfzc3NvJ7S3NyceYhHR0cB6OnpAaCiooKOjo68/CnYXkIFl9Hr62tqa2sL2lTTNAAmJiYAGB8f5+bmBoC+vj4A9vb2LPmyPQMFl1FN03A6nQDc3d3ltfbt7Q2A6enpzyDKyxkbGwNgeHgYgOPjY15fX3P6sj0DYLFc+f1+6ff7ZSqVkqlUShqGIUOhkAyFQl8qg8pUaTUMQxqGIcPhsNW1+W0Uj8dlPB6XQggZi8VkLBb7lgQUVCJHR0eW1v0eCSnzer3S6/WaVBuGIXVdl7quf6uESgz8n2maJjVNk1tbW+bTSiaTMplMSp/PJ30+n3Q4HNLlckmXy/XjDOTdB1QNHxkZ4eXlBYCuri4AotEo8NkXVI1fX1/PdwsArq6uLM2zvYQs34WyobGxEYBYLAZAZWWlOba7uwtAd3c3ALquU19fD8DCwgIADw8P5nwhBACpVMqcf35+njOG382AgsfjAWB/fx+Aqqoqc+zw8BCA7e1tZmZmALi9vQXA7/cDUFNTY75frK6uAulzlQu2Z6Dg22gmzs7OANjZ2QHSugdob28HPjWt3ubULbapqQmAYDDIx8cHwB/flqzgWxJQ6O/vByASibC0tASkP4hlQh1OdV3Wdd0cu7i4yGtP20voWw5xNrS0tACwsbEBQHV1tSkP1QDf398BcDgctLW1AWl21FgulBjIhcxml9noMvH09ITD4SjI/48noODxeBgYGACgt7cXSN+dwuGwpa6bDSUJFRu2Z6CUQLFRSqDYsH0C/wJXZWzzF7X3rgAAAABJRU5ErkJggg==\" y=\"-6.488136\"/>\n   </g>\n  </g>\n  <g id=\"axes_3\">\n   <g clip-path=\"url(#p18d0aa60e1)\">\n    <image height=\"48\" id=\"imagef1836a67fd\" transform=\"scale(1 -1)translate(0 -48)\" width=\"48\" x=\"120.691525\" xlink:href=\"data:image/png;base64,\niVBORw0KGgoAAAANSUhEUgAAADAAAAAwCAYAAABXAvmHAAAABHNCSVQICAgIfAhkiAAAApBJREFUaIHtmL9PIkEYhh/IxR8FBluxREJiogWV1phgaW9BCFFCRUGif4nRWJBASUNFjTZKtFBMZKHABEzINgQaaMjMFRxcOAi37Mqty+2TbMJuZj6+l/eb+XZwABIL4zQ7AaPYAszGFqCHcDhMOBxGCIEQgpubG92xLO/ADzO+9Pj4GACHw2E4lu2AEaQ03kO/hQMPDw+6534LAUYwtYSGi1gIoTuG7YARhou4Wq3qjmF5B2wBX8HJyYnuud9CgBEczDhSXlxcAHB4eDgzSC6XA6BcLgPw+Pg4c/zZ2RkA19fXANRqNbxer7aM/2A5Hbi6ugLg/PwcgHa7Tb1en5i8t7c3CPKrIfX7fQC63S7v7+8AFItFAJ6fn7m7uwNAVVUAPj8/Adjc3GRlZUWXgKl9YH19fSyxWCxGNpudGLe/vz82LhgMArC9vT1KKBKJABCNRun1emOi1tbWAHA6nfj9fgAURZlLgOVLSFMnbrVaU5+/vr6O3b+8vEyMicfjAGxsbBAKhQA4PT0FYHV1FRg4EAgEgP/QARgs4rErlUrJVColhRBSCCEvLy8nxnzFlclkZCaTkUIIqSiKVBRFut1u6Xa7NceYWkKVSmXsfnd31/jPNIVkMgkMFr/P5wPA5XIBg51PC5YvoakC8vk8+XyeXq832voWgaqqqKrKx8fH6JnH48Hj8WiOYXkHpq6BUqkE/O6Yi6bT6Yw+Hx0dAX9/nxqynA4MMXLYnodoNEqj0QBgZ2dnrrkzBaTTaV1B56XZbHJ7ewvAwcEBAH6/X1NXXu4SKhQKALy9vS00CSHEaCvd2toCtP/tuNwO3N/f/6s8eHp6AiCRSMw1b+aZ2ApYvoRsAWZjCzAbW4DZWF7AT24q/CLCwRg/AAAAAElFTkSuQmCC\" y=\"-6.488136\"/>\n   </g>\n  </g>\n  <g id=\"axes_4\">\n   <g clip-path=\"url(#p064f0e145f)\">\n    <image height=\"48\" id=\"image3b0cac4a61\" transform=\"scale(1 -1)translate(0 -48)\" width=\"48\" x=\"177.437288\" xlink:href=\"data:image/png;base64,\niVBORw0KGgoAAAANSUhEUgAAADAAAAAwCAYAAABXAvmHAAAABHNCSVQICAgIfAhkiAAAAmBJREFUaIHtmD9rIkEYhx/3rrALgrCCIaxWKSwsJaRQsBFSWITYLRYWfohALn06CwsL0yWNhbUsslb5CBG2CTYaUoyQIiLjXBFccmfIee4aWdwH3maGff/we+edZSKAIsBou07AK2EBu2Z/C0gkEti2jW3bSCmRUuI4Do7j+JnfPwm8Aj83/fD4+JiTkxM/c9mIwCuwvwUIIRiPx4zHY3ctmUySTCa5ubkhGo0SjUZ9SfIrAq9ABA//Qu12G4BqtQrAYrFw99LpNABPT0+bZ7cG+63AEikl8KcCpmkCcHd359X9l/hSwPPzMwCxWMxde3h4AKBUKgHw+vrqNcynhC0EkM1mAeh0OgAcHR25e91uF4Dz83OvYT4lVOAjzWYTgFqttrKXyWQYDod+hXIJvALwroAvZhiGMgxDSSlXrN1u+xbnL/PfablcVkIIJYRQ8/lczedzZdu20nVd6brua6zAt5Cvh/gj9XodgEajAYCmafR6PQAqlQoA0+nUc5zAK/AD+LUNxy8vLziOQz6fZzKZkEgkSKVSpNNpZrMZuVwO27Y9x9laCy2Jx+MATCYT92dPCAHAxcUFAP1+f2P/gW8h2M5sXrFWq7VyN1iWpSzL2u8xCt+kwOnpqRqNRmo0GrmX29JM09xfBbY+hT5SLBYBuL+/B+Dg4ACAx8dHzs7OgPdpBfD29raWz28tYMnV1RUAl5eX7pqmvTdDoVAAYDAYrOUr8C208eOuF5ZvRcs28fKCFyqwCbe3twAcHh4CcH197Z6BSCTyX752coj9JPAtFBawa8ICdk1YwK4JfAG/AUF3k6RPJYXcAAAAAElFTkSuQmCC\" y=\"-6.488136\"/>\n   </g>\n  </g>\n  <g id=\"axes_5\">\n   <g clip-path=\"url(#pf014a58d37)\">\n    <image height=\"48\" id=\"imagebd36199cb0\" transform=\"scale(1 -1)translate(0 -48)\" width=\"48\" x=\"234.183051\" xlink:href=\"data:image/png;base64,\niVBORw0KGgoAAAANSUhEUgAAADAAAAAwCAYAAABXAvmHAAAABHNCSVQICAgIfAhkiAAAAwJJREFUaIHtmDFL61AUx38Joq1IEGmGjhZdqptCl4hL0ckqLnbIUP0MgluxdHWx/QIOuihKxYLgpOKgnyAiKnRxcQ5xSLxvyGve0yrYl+aF0PzhTjk55/zzP/fk3CsBgghDDjsBv/hvBBRFoV6vU6/XsW0b27bJZrNks1lffgd6lN+3UBQFgMPDQ/L5PAAnJycAtFot3/4jX0KBK7C6ugpAPp/n6uoKgO3tbQBM0/TtP/IKSATcRh8eHgDIZDJomgbA7e1tz/xHXoHA9sD09DQAk5OTALy/v/P09NTzOIERmJubA9zEAYQIplLjEvoOz8/PQbn+gMgrEHgbdRwHcPdAOp0G4PX1tWf+AyuhxcXFoFx/QORLKDAClmVhWRayLCPLMpIkUSwWKRaLPY0TeQW63gO5XA6AZrPJ2NgYAI+PjwCcnp4CsLe3581A7QlU0zQymYz/jD8h8gr8uI2Ojo4CYBgGAKqqIkkS8PWY8PLy4gb4bZNOp7322W6nvcCPS2hwcBBwE29jfHwcgLe3NwDW19cBKBQK3jA3MjICuCRTqRQAS0tLAJydnflKHvqxhO7v7wFIpVI0m00AVlZWOuwnJiYAODg4AGBmZsZ7dnx8DMDGxgbg72gZeQXAVeDHq1wui3K5LBzHEZZlCcuyRKPREI1GQySTSZFMJj/YJxIJkUgkRKFQEKZpCtM0heM4wnEcUalURKVS6Sr+F+vfXqxWq14itm0L27ZFrVYTtVpNKIry5TuGYQjDMDz79lpeXv5nAv1XQn+vUqkkSqVSxxc9Pz8XiqJ0KKHrutB1vcO+1WoJVVWFqqr9p4CvA83AgPsfnJ2dBeDi4gKA4eFhrq+vAahWqwDc3NwwNDQEuPekAAsLC24SksTW1hYAOzs7XeXQ3wp8xtraGgC7u7ve2NCehS4vL70x5POVuiRJHB0dAXR9XgjkTJzL5dB1HYD5+XkApqamvOebm5vAn4FP0zT29/cBuLu76ypWXEJhI/IKxATCRkwgbMQEwkZMIGzEBMLGL2ximg8ALZ1tAAAAAElFTkSuQmCC\" y=\"-6.488136\"/>\n   </g>\n  </g>\n  <g id=\"axes_6\">\n   <g clip-path=\"url(#p585caa1536)\">\n    <image height=\"48\" id=\"imagecdd3ae40ed\" transform=\"scale(1 -1)translate(0 -48)\" width=\"48\" x=\"290.928814\" xlink:href=\"data:image/png;base64,\niVBORw0KGgoAAAANSUhEUgAAADAAAAAwCAYAAABXAvmHAAAABHNCSVQICAgIfAhkiAAAA2NJREFUaIHt2E9IlGsUx/GP1zuBo7YIWujK0IVCLZKBypVCUBFkrkRFpE3gRhSUXLSwQCIXQhhtotoGkQqBgYpB+GfRIne6cCHNIjTBgbBQlLkLeV+v12v5L4Zh5gsvDM8z7/OcM7/znHOeyUFSGvNXqg04LlkHUk3WgVSTdSDVpL0Dfx/kS4WFhW7fvg0qKyvB8vKyly9fgtXVVbCxsfEnbPwlOQ5QiT9//uzChQv7zo+MjICPHz+C4eFhi4uLYHNz8/hW/oK0D6EDKfD161dnz54F6+vrYH5+Xn5+PigrK9vzTk9PD3j06BHY2to6CXv3kBkKtLa2GhgYAD9+/AB37941OjoKLl26BO7cuQNu3LghLy8PPHz4ELx69Uo8Hv+tQQ0NDaCxsTEc6+joAAsLC0dzIDc3V29vL+js7ARra2u6u7vB69evsZONYrGYp0+fhp+DzVtbW8GHDx/A6dOnQVVVlaamJnDr1i0IwxOh4+fOndtjW2aEEEQiEeyERFdXVzj3/v170NzcDBKJRHjogxRbWVkZ1om+vj5w/vx5UFtbG641Pj4OHj9+HCoaMDs7u8euzFEg4NSpU+D69esGBwd3zT148ABMTEyYmpoCZ86cCceCX/z/CM7A8PAwdtL178g8BQIikYiLFy+Ct2/fgqKiIvDz50+JRALMzMxgW7FoNLprjW/fvoH+/n5PnjzB0fqp5HGfaDSajEajyVgslozFYsl3794lt7a2dj3JZHLPWDweT8bj8WRpaemR987cEPodbW1t2F2QAurq6rDTmk9PT6upqcHhe6asAkfhxYsXoKWlJRyrrq4Gk5OTh1rrQDey/SguLsZ2Y4ewuVtYWLC8vLzve0Fm+rcDRyXtQ+hYCjx//hxcu3YN3L9/HywuLvr06RO4d+8e+PLlS/je0tLScbbdRWYr8ObNG+woEFBSUqKkpAQ7qfLq1athXz83N3ecbXeR2QoMDQ2By5cvg/r6emz/jxRQWloKxsbG9ih1EpxoHSgvLwft7e1hexzcjXNycsIQ+v79O6ioqAArKythHZifnz/UnmkfQn+sEgeHOEijV65c2fdC8+zZs7B3OixZBQ5KYWGhgoICcPPmTQgv/v39/Qe+Qv6XlDRzJ0nah1DWgVSTdSDVZB1INWnvwD+gh1jyU8C4egAAAABJRU5ErkJggg==\" y=\"-6.488136\"/>\n   </g>\n  </g>\n  <g id=\"axes_7\">\n   <g clip-path=\"url(#pea29b96fad)\">\n    <image height=\"48\" id=\"imagef826fae18e\" transform=\"scale(1 -1)translate(0 -48)\" width=\"48\" x=\"347.674576\" xlink:href=\"data:image/png;base64,\niVBORw0KGgoAAAANSUhEUgAAADAAAAAwCAYAAABXAvmHAAAABHNCSVQICAgIfAhkiAAAAY1JREFUaIHtmD2OwjAQhb+g7ahp0hiRhh+JI3AcOm4Ah8hBuAQtFbJElwJOkIrKw2yBwoK0uxSxE1nyJ6VJpDd5fuNR4gxQImbQ9wu0JRnom2Sgb5KBTxhjMMZgrcU5h3MOEUFEKIqCoiha6UefwFfoAvP5HIDZbBZEP7iB9XodVD+10CcWiwUAWZY97w0G/tYtJfAXm80GgMlkAoDqz0dvWZYAVFXVuk4wA9PpNJT0G9G3UEagHxoRAd5bp2G5XAJwPp9b14k+gWB7oBmV9/v9eW+/3wN+Vv5Zx5tSTwRLoFn51z1wOBy814k+gWSgb6I30OkYDUGnUygE0bdQEAO73S6E7K9EnwA8vka9XHmea57nWlWVioiKiDrn1Dmn2+1WjTFqjPFWD9DoE/A6hW63GwDX65XxePz27Hg8crlcfJYDPO+Buq6p65rT6eRT9l9SC70yHA6Bx4FuV6QEXhmNRgCsViufsh/xOpcBLctSG6y1aq31Pv+bK/oWCnYu1BXRJ5AM9E0y0DfRG/gG7NDU6Ecvmt8AAAAASUVORK5CYII=\" y=\"-6.488136\"/>\n   </g>\n  </g>\n  <g id=\"axes_8\">\n   <g clip-path=\"url(#pc8f61e146c)\">\n    <image height=\"48\" id=\"image65077bba78\" transform=\"scale(1 -1)translate(0 -48)\" width=\"48\" x=\"404.420339\" xlink:href=\"data:image/png;base64,\niVBORw0KGgoAAAANSUhEUgAAADAAAAAwCAYAAABXAvmHAAAABHNCSVQICAgIfAhkiAAAAwBJREFUaIHtmD9I+1AQxz8Vg3Q0Q0FRFBSnDuLgINUi6CCdLYIRFXEUHXUVdzcFwcXJRbCIBnEU94IuDtLFQV0KCfi39X5DiLW2aWNSfyW0H3gU0nuXu/e993K8ECAEmJZ6B+CXZgL1JvAJtLo1bGtrA2BhYQGAra0t2tvbATg+Pgbg4uICgFQqxcPDQy3jdCTwCoRwcYwODg6ysrICwPz8fFWnd3d3PD8/A3B5eQnA3t4eNzc3PkItT2MokE6niUaj3l4QCgHw+PjIyckJAKurqwC8vr568vkd15v4J7u7u5im6fj/5OQkAENDQwBEIhGWlpYA6Ovr+/IBcHR05DWM4JcQWCVUccRiMdF1XXRdl1wuJ7lcTrq7uyvOUVVVVFUVTdNE0zTJZrNfc+1hmqaYpinj4+NVY3AajaEAIIqiiKIokkgkJJFISDgc/tVKLS4uimEYYhhGiRJTU1OeFXCdQC1GMpmUZDJZ0wQCX0Kej1EvnJ+f19xnYyvQ09MDgKZpQGGFnb6w9oeslgReAfC4+6PRqGQyGclkMpLP5x2HTSUbP6eQrxISkaLfcnx+fjranJ6eAqDruucYAl9CrtppJ3p7ewGYm5sDYGJiosQmFosB5RUwDAOA9fV1zs7OALi/v/9VDI2tgBtmZ2cBa5X7+/sBUBSlxC6dTgMwOjoKwMvLiyv/f57Ad2ZmZgBYXl4GIB6Pl9ioqgoUyqsagS+h/9oLHR4eApDP5wEYHh4GIBwOf9lsbm4CsLa25spnYyvQ2mpN7+joKHr+8fFR8WbO7pmy2SxQrEBXVxdg3QS+vb1VjSHwCvg6hezbuu3t7aLnT09P7O/vA9DSYq2R3VIAjIyMAOVPIZt4PM7V1VXVGHyVkH3385NIJMLGxgZQuNiq1C/5IfAl5EsBe5Vvb28BmJ6eBqyy6ezs9OTz4OAAgOvra1f2gVegpq3EwMAAYPU6Y2NjAOzs7ADFm7gcqVQKKLQb7+/vrt75X3uhvyDwJdRMoN40E6g3zQTqTeAT+AdPWvGBh+StDwAAAABJRU5ErkJggg==\" y=\"-6.488136\"/>\n   </g>\n  </g>\n  <g id=\"axes_9\">\n   <g clip-path=\"url(#p79b1cbad10)\">\n    <image height=\"48\" id=\"imagef334b638b7\" transform=\"scale(1 -1)translate(0 -48)\" width=\"48\" x=\"461.166102\" xlink:href=\"data:image/png;base64,\niVBORw0KGgoAAAANSUhEUgAAADAAAAAwCAYAAABXAvmHAAAABHNCSVQICAgIfAhkiAAAAV5JREFUaIHtmTGOgkAUhr/ZEAwVcgFr5hCQeAG8hwexpvQIhg7PYW1nQUdDIRXGYrYwbkJW4yY7DzLJfM0Eiv/Nn/8NmRkUYHCYr7kn8F+8gblx3kAgXeBwOACgtaYoCgCaprGm7xP4RJ7nACRJQhRF1vWdT0DcQFVVVFXFYrFAa43W2qq+eAs96fueuq6t6/oW+itKKcIwJAxDq7rOJ6AQ3o2ez2cA0jRlv98DsN1uremLLeLNZgM8Jg4wDANlWVqv43wLiSUQBGNpYwy32816HZ/AO1ar1ej5fr9b3YU+8Qm8Y71eS0mPmCyB4/Eoout8C01moOs6EV2fwNyIfIWWyyVZlklI/8In8FI0CIjjePTucrlIlHI/gckMnE4nEV3nExC/VlFKAY8TmQTiBoyR/QHkW+gTbduORtv4BF5xvV5/DjS73Q6QS0D8Yksa51vIG5gbb2BuvIG5cd7AN7HsS2Y+TzBhAAAAAElFTkSuQmCC\" y=\"-6.488136\"/>\n   </g>\n  </g>\n  <g id=\"axes_10\">\n   <g clip-path=\"url(#p5c59cc1273)\">\n    <image height=\"48\" id=\"imagea7576a8c80\" transform=\"scale(1 -1)translate(0 -48)\" width=\"48\" x=\"517.911864\" xlink:href=\"data:image/png;base64,\niVBORw0KGgoAAAANSUhEUgAAADAAAAAwCAYAAABXAvmHAAAABHNCSVQICAgIfAhkiAAAA1xJREFUaIHtlz9Icn0Uxz/2BEINl4QgiWxoiRKyQWiqKIfWggijpRpqa3HQqReEtmpoCgpEmppqlEgMpyiiJfBPdwhEgoRCCLp09byDeHsfquf19Q++l/zCwSuee879+j1/ftcCCCZGW7MfoFa0CDQbLQLNRosAQCAQIBAIoOs6uq4zOztbj7AVwfQKQGmR1WSpVEpSqZToui66rksoFKo5ZqVmoQ6buL+/H4BoNAqAw+Fga2sLgM3NzVrD/xGmL6G6KFBGIBAAIBgM8vT0BIDb7QYgk8nUK81vML0CUMeGUhRFFEWRvb09KRQKUigUjAavZ55/2i/gr0pYbmxsMDY2RjabRVEU8vn8Jx9N09A0jdfXV+bm5tA0jZ6eHrq6ukgkEogI3d3dhmmahtVqRdO0Cv/rz/g5JRSNRiUajYqqqqKqqiwvL3/rOzQ0JPF4XOLxuLEbCoWCcV22cDgs4XC4phIyvQIVj9GFhQUAjo6OANB1nZeXFwAWFxcBeH5+BmB7e5uJiYnfE1ksiJRSlT8fHx8BmJycRFXVqgj8HAXKWFpaAiAUCn0EsVgAuL+/B2BgYMD47fr6GoDe3l7sdjuAseTK32vBfybQ3t4OlIgcHh4C0NZWErJYLAJwdXXF6ekpADs7OwDYbDZOTk4AGB0dBT7KcWVlpWoCpi8hqGGEOZ1OcTqdkk6nJZ1OG+Nxd3f3S3+fzyc+n080TRNN0wz/tbW11hitCX19fUCp9gEURWFmZgaAi4uLT/77+/sArK6uApDNZnE4HFXlrutxOhgMAuD3+0kkEgBMTU0BH5MHoLOzE4CDgwMA5ufnuby8BEo7AeD9/b2inKYvIWjAEffm5sZoUI/HIx6P50s/l8slLpdL8vm8cfz2er3i9Xp/ThO3NyJoR0eHsZ3f3t6+9bu9vQXg4eEBp9P5r/5fwfQKQAN6YHx8XCKRiEQiEbHZbGKz2f7o7/V6JZfLSS6Xk2QyKclkUkZGRirNV38C1VgsFpNYLGY0/9nZ2c9o4opf6huNwcFBMpkMbrebYrGI3W5HVVWGh4e5u7v79j7TK9CQMVoN/H4/AFarFYD19XWmp6cBOD4+/va+up6F6onz83Njl5TPU1/B9CX0v1WgUphegRaBZqNFoNkwPYG/AXiBnzmYNdpcAAAAAElFTkSuQmCC\" y=\"-6.488136\"/>\n   </g>\n  </g>\n </g>\n <defs>\n  <clipPath id=\"pbb61f8be6a\">\n   <rect height=\"47.288136\" width=\"47.288136\" x=\"7.2\" y=\"7.2\"/>\n  </clipPath>\n  <clipPath id=\"pd9cee01a68\">\n   <rect height=\"47.288136\" width=\"47.288136\" x=\"63.945763\" y=\"7.2\"/>\n  </clipPath>\n  <clipPath id=\"p18d0aa60e1\">\n   <rect height=\"47.288136\" width=\"47.288136\" x=\"120.691525\" y=\"7.2\"/>\n  </clipPath>\n  <clipPath id=\"p064f0e145f\">\n   <rect height=\"47.288136\" width=\"47.288136\" x=\"177.437288\" y=\"7.2\"/>\n  </clipPath>\n  <clipPath id=\"pf014a58d37\">\n   <rect height=\"47.288136\" width=\"47.288136\" x=\"234.183051\" y=\"7.2\"/>\n  </clipPath>\n  <clipPath id=\"p585caa1536\">\n   <rect height=\"47.288136\" width=\"47.288136\" x=\"290.928814\" y=\"7.2\"/>\n  </clipPath>\n  <clipPath id=\"pea29b96fad\">\n   <rect height=\"47.288136\" width=\"47.288136\" x=\"347.674576\" y=\"7.2\"/>\n  </clipPath>\n  <clipPath id=\"pc8f61e146c\">\n   <rect height=\"47.288136\" width=\"47.288136\" x=\"404.420339\" y=\"7.2\"/>\n  </clipPath>\n  <clipPath id=\"p79b1cbad10\">\n   <rect height=\"47.288136\" width=\"47.288136\" x=\"461.166102\" y=\"7.2\"/>\n  </clipPath>\n  <clipPath id=\"p5c59cc1273\">\n   <rect height=\"47.288136\" width=\"47.288136\" x=\"517.911864\" y=\"7.2\"/>\n  </clipPath>\n </defs>\n</svg>\n",
      "image/png": "[encoded data removed]"
     },
     "metadata": {
      "needs_background": "light"
     }
    }
   ],
   "source": [
    "import matplotlib.pyplot as plt\n",
    "plt.figure(figsize=(10, 1))\n",
    "for i in range(10):\n",
    "    plt.subplot(1, 10, i+1)\n",
    "    plt.imshow(X_train[i].reshape(28,28), cmap='gray')\n",
    "    plt.axis('off')\n",
    "print('label for each of the above image: %s' % (y_train[:10]))\n",
    "plt.show()"
   ]
  },
  {
   "cell_type": "code",
   "execution_count": 43,
   "metadata": {},
   "outputs": [],
   "source": [
    "# Defining neural network \n",
    "class NN():\n",
    "    def __init__(self, lossfunc=CrossEntropy(), mode='train'):\n",
    "        self.params = []\n",
    "        self.layers = []\n",
    "        self.lossfunc = lossfunc\n",
    "        self.grad = []\n",
    "        self.mode = mode\n",
    "    \n",
    "    def add_layer(self, layer):\n",
    "        self.layers.append(layer)\n",
    "        self.params.append(layer.params)\n",
    "\n",
    "    def forward(self, X):\n",
    "        for layer in self.layers:\n",
    "            X = layer.forward(X)\n",
    "        return X\n",
    "\n",
    "    def backward(self, nexgrad):\n",
    "        self.clear_grad_param()\n",
    "        for layer in reversed(self.layers):\n",
    "            nextgrad, grad = layer.backward(nextgrad)\n",
    "            self.grad.append(grad)\n",
    "        return self.grad\n",
    "\n",
    "    def train_step(self, X, y):\n",
    "        \"\"\" function used to train the nueral network.\n",
    "        \n",
    "        Parameters\n",
    "        ----------\n",
    "        X : list\n",
    "            Training set to train the samples\n",
    "        y : list\n",
    "            labels to train the samples\n",
    "        \"\"\"\n",
    "        out = self.forward(X)\n",
    "        loss = self.lossfunc.forward(out, y) + ((Lambda / (2 * y.shape[0])) * np.sum([np.sum(w**2) for w in self.params[0][0]]))\n",
    "        nextgrad = self.lossfunc.backward(out, y) + ((Lambda / y.shape[0]) * np.sum([np.sum(w) for w in self.params[0][0]]))\n",
    "        grads = self.backward(nextgrad)\n",
    "        return loss, grads\n",
    "\n",
    "    def predict(self, X):\n",
    "        X = self.forward(X)\n",
    "        p = softmax(X)\n",
    "        return np.argmax(p, axis=1)\n",
    "\n",
    "    def predict_scores(self, X):\n",
    "        X = self.forward(X)\n",
    "        p = softmax(X)\n",
    "        return p\n",
    "\n",
    "    def clear_grad_param(self):\n",
    "        self.grad = []"
   ]
  },
  {
   "cell_type": "code",
   "execution_count": 40,
   "metadata": {},
   "outputs": [],
   "source": [
    "def update(velocity, params, grads, learning_rate=0.01, mu=0.9):\n",
    "    for v, p, g in zip(velocity, params, reversed(grads)):\n",
    "        for i in range(len(g)):\n",
    "            v[i] = (mu * v[i]) - (learning_rate * grad[i])\n",
    "            p[i] += v[i] "
   ]
  },
  {
   "cell_type": "code",
   "execution_count": 41,
   "metadata": {},
   "outputs": [],
   "source": [
    "# get minibatches\n",
    "def minibatch(X, y, minibatch_size):\n",
    "    n = X.shape[0]\n",
    "    minibatches = []\n",
    "    permutation = np.random.permutation(X.shape[0])\n",
    "    X = X[permutation]\n",
    "    y = y[permutation]\n",
    "\n",
    "    for i in range(0, n, minibatch_size):\n",
    "        X_batch = X[i:i + minibatch_size, :]\n",
    "        y_batch = y[i:i + minibatch_size,]\n",
    "        minibatches.append((X_batch, y_batch))\n",
    "    return minibatches"
   ]
  },
  {
   "cell_type": "code",
   "execution_count": null,
   "metadata": {},
   "outputs": [],
   "source": [
    "def sgd(net: NN, X_train, y_train, minibatch_size, epoch, learning_rate, mu=0.9, X_val=None, y_val=None, Lambda=0, Verb=True):\n",
    "    val_loss_epoch = []\n",
    "    minibatches = minibatch(X_train, y_train, minibatch_size)\n",
    "    minibatches_val = minibatch(X_val, y_val)\n",
    "\n",
    "    for i in range(epoch):\n",
    "        loss_batch = []\n",
    "        val_loss_batch = []\n",
    "        velocity = []\n",
    "        for param_layer in net.params:\n",
    "            p = [np.zeros_like(param) for param in list(param_layer)]\n",
    "            velocity.append(p)\n",
    "\n",
    "        # iterate over minibatches\n",
    "        for x_mini, y_mini in minibatches:\n",
    "            loss, grad = net.train_step(x_mini, y_mini)\n",
    "            loss_batch.append(loss)\n",
    "            update(velocity, net.params, grad, learning_rate=learning_rate, mu=mu)\n",
    "        \n",
    "        for x_mini_val, y_mini_val in minibatches_val:\n",
    "            val_loss, _ = net.train_step(x_mini_val, y_mini_val)\n",
    "            val_loss_batch.append(val_loss)\n",
    "\n",
    "        # accuracy of model at end of epoch after all mini batch updates\n",
    "        m_train = X_train.shape[0]\n",
    "        m_val = X_val.shape[0]\n",
    "        y_train_pred = []\n",
    "        y_val_pred = []\n",
    "        y_train1 = []\n",
    "        y_val1 = []\n",
    "\n",
    "        for ii in range(0, m_train, minibatch_size):\n",
    "            x_tr = X_train[ii:ii+minibatch_size, :]\n",
    "            y_tr = y_train[ii:ii+minibatch_size,]\n",
    "            y_train1= np.append(y_train1, y_tr)\n",
    "            y_train_pred = np.append(y_train_pred, net.predict(x_tr))"
   ]
  }
 ],
 "metadata": {
  "language_info": {
   "codemirror_mode": {
    "name": "ipython",
    "version": 3
   },
   "file_extension": ".py",
   "mimetype": "text/x-python",
   "name": "python",
   "nbconvert_exporter": "python",
   "pygments_lexer": "ipython3",
   "version": "3.7.4-final"
  },
  "orig_nbformat": 2,
  "kernelspec": {
   "name": "python3",
   "display_name": "Python 3"
  }
 },
 "nbformat": 4,
 "nbformat_minor": 2
}