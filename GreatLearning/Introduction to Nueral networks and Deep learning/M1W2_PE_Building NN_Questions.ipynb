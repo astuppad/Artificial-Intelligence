{
 "cells": [
  {
   "cell_type": "markdown",
   "metadata": {},
   "source": [
    "# MNIST neural network from scratch for Fashion MNIST data"
   ]
  },
  {
   "cell_type": "markdown",
   "metadata": {},
   "source": [
    "#### 1. Build Fully connected layer(linear layer)"
   ]
  },
  {
   "cell_type": "code",
   "execution_count": 1,
   "metadata": {},
   "outputs": [],
   "source": [
    "from IPython.core.interactiveshell import InteractiveShell\n",
    "InteractiveShell.ast_node_interactivity = \"all\""
   ]
  },
  {
   "cell_type": "code",
   "execution_count": 2,
   "metadata": {},
   "outputs": [],
   "source": [
    "import numpy as np \n",
    "\n",
    "class Linear():\n",
    "    def __init__(self, in_size, out_size):\n",
    "        self.W = np.random.randn(in_size, out_size) * 0.01\n",
    "        self.b = np.zeros((1, out_size))\n",
    "        self.params = [self.W, self.b]\n",
    "        self.gradW = None\n",
    "        self.gradB = None\n",
    "        self.gradInput = None        \n",
    "\n",
    "    def forward(self, X):\n",
    "        self.X = X\n",
    "        self.output = np.dot(X, self.W) + self.b\n",
    "        return self.output\n",
    "\n",
    "    def backward(self, nextgrad):\n",
    "        self.gradW = np.dot(self.X.T, nextgrad)\n",
    "        self.gradB = np.sum(nextgrad, axis=0)\n",
    "        self.gradInput = np.dot(nextgrad, self.W.T)\n",
    "        return self.gradInput, [self.gradW, self.gradB]"
   ]
  },
  {
   "cell_type": "markdown",
   "metadata": {},
   "source": [
    "#### 2. Build Rectified Linear Activation Layer (ReLU)"
   ]
  },
  {
   "cell_type": "code",
   "execution_count": 3,
   "metadata": {},
   "outputs": [],
   "source": [
    "class ReLU():\n",
    "    def __init__(self):\n",
    "        self.params = []\n",
    "        self.gradInput = None\n",
    "\n",
    "    def forward(self, X):\n",
    "        self.output = np.maximum(X, 0)\n",
    "        return self.output\n",
    "\n",
    "    def backward(self, nextgrad):\n",
    "        self.gradInput = nextgrad.copy()\n",
    "        self.gradInput[self.output <=0] = 0\n",
    "        return self.gradInput, []"
   ]
  },
  {
   "cell_type": "markdown",
   "metadata": {},
   "source": [
    "#### 3. Define the softmax function"
   ]
  },
  {
   "cell_type": "code",
   "execution_count": 4,
   "metadata": {},
   "outputs": [],
   "source": [
    "def softmax(x):\n",
    "    exp_x = np.exp(x - np.max(x, axis=1, keepdims=True))\n",
    "    return exp_x / np.sum(exp_x, axis=1, keepdims=True)"
   ]
  },
  {
   "cell_type": "markdown",
   "metadata": {},
   "source": [
    "#### 4. Define the Cross Entropy Loss"
   ]
  },
  {
   "cell_type": "code",
   "execution_count": 5,
   "metadata": {},
   "outputs": [],
   "source": [
    "class CrossEntropy:\n",
    "    def forward(self, X, y):\n",
    "        self.m = y.shape[0]\n",
    "        self.p = softmax(X)\n",
    "        cross_entropy = -np.log(self.p[range(self.m), y]+1e-16)\n",
    "        loss = np.sum(cross_entropy) / self.m\n",
    "        return loss\n",
    "    \n",
    "    def backward(self, X, y):\n",
    "        y_idx = y.argmax()        \n",
    "        grad = softmax(X)\n",
    "        grad[range(self.m), y] -= 1\n",
    "        grad /= self.m\n",
    "        return grad"
   ]
  },
  {
   "cell_type": "markdown",
   "metadata": {},
   "source": [
    "#### 5. Load the fashion MNIST dataset and analyze the data"
   ]
  },
  {
   "cell_type": "code",
   "execution_count": 6,
   "metadata": {},
   "outputs": [
    {
     "output_type": "stream",
     "name": "stderr",
     "text": "Using TensorFlow backend.\n"
    },
    {
     "output_type": "execute_result",
     "data": {
      "text/plain": "(60000, 784)"
     },
     "metadata": {},
     "execution_count": 6
    },
    {
     "output_type": "execute_result",
     "data": {
      "text/plain": "(10000, 784)"
     },
     "metadata": {},
     "execution_count": 6
    },
    {
     "output_type": "execute_result",
     "data": {
      "text/plain": "(60000,)"
     },
     "metadata": {},
     "execution_count": 6
    },
    {
     "output_type": "execute_result",
     "data": {
      "text/plain": "(10000,)"
     },
     "metadata": {},
     "execution_count": 6
    }
   ],
   "source": [
    "from keras.datasets import mnist\n",
    "from keras.utils import np_utils\n",
    "\n",
    "import keras\n",
    "\n",
    "(trainX, trainY), (testX,testY) = keras.datasets.fashion_mnist.load_data()\n",
    "\n",
    "\n",
    "trainX = trainX.reshape(60000, 784)\n",
    "trainX.shape\n",
    "testX = testX.reshape(10000, 784)\n",
    "testX.shape\n",
    "\n",
    "\n",
    "trainX = trainX / 255.0\n",
    "testX = testX / 255.0\n",
    "\n",
    "trainY.shape\n",
    "testY.shape\n",
    "\n",
    "X_train = trainX\n",
    "y_train = trainY\n",
    "\n",
    "\n",
    "X_val = testX\n",
    "y_val = testY"
   ]
  },
  {
   "cell_type": "markdown",
   "metadata": {},
   "source": [
    "#### 6. Visualize the first 10 images in the dataset and their labels"
   ]
  },
  {
   "cell_type": "code",
   "execution_count": 7,
   "metadata": {},
   "outputs": [
    {
     "output_type": "execute_result",
     "data": {
      "text/plain": "<Figure size 720x72 with 0 Axes>"
     },
     "metadata": {},
     "execution_count": 7
    },
    {
     "output_type": "execute_result",
     "data": {
      "text/plain": "<matplotlib.axes._subplots.AxesSubplot at 0x14b57f890>"
     },
     "metadata": {},
     "execution_count": 7
    },
    {
     "output_type": "execute_result",
     "data": {
      "text/plain": "<matplotlib.image.AxesImage at 0x168d10e90>"
     },
     "metadata": {},
     "execution_count": 7
    },
    {
     "output_type": "execute_result",
     "data": {
      "text/plain": "(-0.5, 27.5, 27.5, -0.5)"
     },
     "metadata": {},
     "execution_count": 7
    },
    {
     "output_type": "execute_result",
     "data": {
      "text/plain": "<matplotlib.axes._subplots.AxesSubplot at 0x169809150>"
     },
     "metadata": {},
     "execution_count": 7
    },
    {
     "output_type": "execute_result",
     "data": {
      "text/plain": "<matplotlib.image.AxesImage at 0x16983e6d0>"
     },
     "metadata": {},
     "execution_count": 7
    },
    {
     "output_type": "execute_result",
     "data": {
      "text/plain": "(-0.5, 27.5, 27.5, -0.5)"
     },
     "metadata": {},
     "execution_count": 7
    },
    {
     "output_type": "execute_result",
     "data": {
      "text/plain": "<matplotlib.axes._subplots.AxesSubplot at 0x16983eb50>"
     },
     "metadata": {},
     "execution_count": 7
    },
    {
     "output_type": "execute_result",
     "data": {
      "text/plain": "<matplotlib.image.AxesImage at 0x16987e290>"
     },
     "metadata": {},
     "execution_count": 7
    },
    {
     "output_type": "execute_result",
     "data": {
      "text/plain": "(-0.5, 27.5, 27.5, -0.5)"
     },
     "metadata": {},
     "execution_count": 7
    },
    {
     "output_type": "execute_result",
     "data": {
      "text/plain": "<matplotlib.axes._subplots.AxesSubplot at 0x16987e210>"
     },
     "metadata": {},
     "execution_count": 7
    },
    {
     "output_type": "execute_result",
     "data": {
      "text/plain": "<matplotlib.image.AxesImage at 0x1698b5dd0>"
     },
     "metadata": {},
     "execution_count": 7
    },
    {
     "output_type": "execute_result",
     "data": {
      "text/plain": "(-0.5, 27.5, 27.5, -0.5)"
     },
     "metadata": {},
     "execution_count": 7
    },
    {
     "output_type": "execute_result",
     "data": {
      "text/plain": "<matplotlib.axes._subplots.AxesSubplot at 0x1698b5e50>"
     },
     "metadata": {},
     "execution_count": 7
    },
    {
     "output_type": "execute_result",
     "data": {
      "text/plain": "<matplotlib.image.AxesImage at 0x1698f3910>"
     },
     "metadata": {},
     "execution_count": 7
    },
    {
     "output_type": "execute_result",
     "data": {
      "text/plain": "(-0.5, 27.5, 27.5, -0.5)"
     },
     "metadata": {},
     "execution_count": 7
    },
    {
     "output_type": "execute_result",
     "data": {
      "text/plain": "<matplotlib.axes._subplots.AxesSubplot at 0x1698f3bd0>"
     },
     "metadata": {},
     "execution_count": 7
    },
    {
     "output_type": "execute_result",
     "data": {
      "text/plain": "<matplotlib.image.AxesImage at 0x169935590>"
     },
     "metadata": {},
     "execution_count": 7
    },
    {
     "output_type": "execute_result",
     "data": {
      "text/plain": "(-0.5, 27.5, 27.5, -0.5)"
     },
     "metadata": {},
     "execution_count": 7
    },
    {
     "output_type": "execute_result",
     "data": {
      "text/plain": "<matplotlib.axes._subplots.AxesSubplot at 0x16992c8d0>"
     },
     "metadata": {},
     "execution_count": 7
    },
    {
     "output_type": "execute_result",
     "data": {
      "text/plain": "<matplotlib.image.AxesImage at 0x16992c910>"
     },
     "metadata": {},
     "execution_count": 7
    },
    {
     "output_type": "execute_result",
     "data": {
      "text/plain": "(-0.5, 27.5, 27.5, -0.5)"
     },
     "metadata": {},
     "execution_count": 7
    },
    {
     "output_type": "execute_result",
     "data": {
      "text/plain": "<matplotlib.axes._subplots.AxesSubplot at 0x169956a90>"
     },
     "metadata": {},
     "execution_count": 7
    },
    {
     "output_type": "execute_result",
     "data": {
      "text/plain": "<matplotlib.image.AxesImage at 0x1699a9c90>"
     },
     "metadata": {},
     "execution_count": 7
    },
    {
     "output_type": "execute_result",
     "data": {
      "text/plain": "(-0.5, 27.5, 27.5, -0.5)"
     },
     "metadata": {},
     "execution_count": 7
    },
    {
     "output_type": "execute_result",
     "data": {
      "text/plain": "<matplotlib.axes._subplots.AxesSubplot at 0x1699a9e50>"
     },
     "metadata": {},
     "execution_count": 7
    },
    {
     "output_type": "execute_result",
     "data": {
      "text/plain": "<matplotlib.image.AxesImage at 0x1699e87d0>"
     },
     "metadata": {},
     "execution_count": 7
    },
    {
     "output_type": "execute_result",
     "data": {
      "text/plain": "(-0.5, 27.5, 27.5, -0.5)"
     },
     "metadata": {},
     "execution_count": 7
    },
    {
     "output_type": "execute_result",
     "data": {
      "text/plain": "<matplotlib.axes._subplots.AxesSubplot at 0x1699a9b50>"
     },
     "metadata": {},
     "execution_count": 7
    },
    {
     "output_type": "execute_result",
     "data": {
      "text/plain": "<matplotlib.image.AxesImage at 0x169a29250>"
     },
     "metadata": {},
     "execution_count": 7
    },
    {
     "output_type": "execute_result",
     "data": {
      "text/plain": "(-0.5, 27.5, 27.5, -0.5)"
     },
     "metadata": {},
     "execution_count": 7
    },
    {
     "output_type": "display_data",
     "data": {
      "text/plain": "<Figure size 720x72 with 10 Axes>",
      "image/svg+xml": "<?xml version=\"1.0\" encoding=\"utf-8\" standalone=\"no\"?>\n<!DOCTYPE svg PUBLIC \"-//W3C//DTD SVG 1.1//EN\"\n  \"http://www.w3.org/Graphics/SVG/1.1/DTD/svg11.dtd\">\n<!-- Created with matplotlib (https://matplotlib.org/) -->\n<svg height=\"61.688136pt\" version=\"1.1\" viewBox=\"0 0 572.4 61.688136\" width=\"572.4pt\" xmlns=\"http://www.w3.org/2000/svg\" xmlns:xlink=\"http://www.w3.org/1999/xlink\">\n <defs>\n  <style type=\"text/css\">\n*{stroke-linecap:butt;stroke-linejoin:round;}\n  </style>\n </defs>\n <g id=\"figure_1\">\n  <g id=\"patch_1\">\n   <path d=\"M 0 61.688136 \nL 572.4 61.688136 \nL 572.4 0 \nL 0 0 \nz\n\" style=\"fill:none;\"/>\n  </g>\n  <g id=\"axes_1\">\n   <g clip-path=\"url(#p3be21a9c60)\">\n    <image height=\"48\" id=\"image3246932ec1\" transform=\"scale(1 -1)translate(0 -48)\" width=\"48\" x=\"7.2\" xlink:href=\"data:image/png;base64,\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\" y=\"-6.488136\"/>\n   </g>\n  </g>\n  <g id=\"axes_2\">\n   <g clip-path=\"url(#p0765d8f9c5)\">\n    <image height=\"48\" id=\"imagee82745621a\" transform=\"scale(1 -1)translate(0 -48)\" width=\"48\" x=\"63.945763\" xlink:href=\"data:image/png;base64,\niVBORw0KGgoAAAANSUhEUgAAADAAAAAwCAYAAABXAvmHAAAABHNCSVQICAgIfAhkiAAABV1JREFUaIHtmk1rE10Ux38zyaTGytTUKtSAWrQoRUQrCPoFdNNF7aYbd0IpoqtCP0OJ4MaKrgp12YIuRLC0uOhC2kWL4EJ8WTVa+iJE22h0MpNnMT13biaTNC3PAzZ9zqbhzp17zz3/8/K/Z2oAJbYRwzAolcqnZTIZmpqaAMjlcgBYlqWem6YJwObmJgClUgnDMAAoFosAeJ4HwJ8/f0ilUgDMz88D8OLFi+3U8vepa9ZfLPF6JoWtD3Dp0iU6OjoA+P37NwBtbW2Ab31BQEdFxHVdAGKxGABLS0scPHgQgFOnTgE+ArKGILXrA0RJLpcjn8+XHWBjY0NtKIqLkp7nKUPIAeJxf/tCoUChUADg8+fPao9aiovsDxeKCuLjx48Hi2xZUoLU8zxleXmmW1OCWOYUCgX1rqCjrxflwiL7A4FqIlYVS+njOhoiYUtGzdERqEf2BwJRPphIJKpa1DRN9UxiwHGcmntIPOw0BnYdxPpmspEoYRhGRQp0XbfsuS560P/vQvWKXpjCaVRHS5DQx8LzDMNQa/z8+XNHeuxfBEzTrPDXqDjZKQK/fv2qmFdLdn2ApqYmxX0OHDgAlJO0MO8xTVMpJBlJ5kgAQ0DN65X94UJRaVQgB/9CAoElS6WSmq+/J7+FJgsDjcfjFejIvtvJnkdg1wf48uWLsrTruriui2EYCi0dhWrieZ66O4TX+s8P8LdI3TEgIv4bi8XUeJhVChLhMUEkzGJN04xktv9aGtV5TTKZBHwyJxtIQOtpNIoqy2/5m0gkAP+CE67q9Upju5BY0bIslSpPnz4NgG3bqugcOnQICKpoNfYaHhMEpDkg64qE3SpqzcZGQE4s1ofAGrZt8+3bN4BInr9dCtVFT5uHDx+OHK8mdUVMKpWis7MTgMHBQbW4KCwHFFewLKuM34RF3pNK7Hme+n3t2jUARkdH61Ft77uQQURzV6x88+ZNAM6cOaOCq7m5GYCPHz8qNnrlyhWgPE2G24c639EZKvgdvQ8fPgCoFqNt2+pys7q6CsDz588BePDggdK1MRF4+vQpADdu3ABgbW1NWU0KWbFY5Pv37wDcuXMHgCNHjgDQ2tqqeqMSF47jKD+X9CkB6zgOw8PDvkJbKLW0tKi0HE63Fy9eVLo2JgLnz58H4OXLl0DwkQICCyWTSZVGL1++DEBXVxfgd6vb29sBePfunXpPuL6scfXqVQCmpqaYmZkBIJ1OAz4qMl/QnJubA+D27dtKn8g0KpsePXoU8NOdtND1/C7uFH4vn8/z+PFjAGZnZwF49uwZPT09/qZbfGdhYUEdQJrFeo8p7Layli573oVqFrK3b98CcOzYMRVQUrQsy+LHjx9l8yXo0+k0Y2NjAHz69Anw0Xn06BEQpNaVlZVAkS1U9EaBpNkTJ04A8ObNmwod9zwCkUEsMjQ0BMC9e/dYX18HgmKl++iTJ08A+Pr1KwDZbFb59PLyMuAXLUFPvm4Ki+3u7ubu3bsAap94PK6Kp6Aj3890qelCr1+/BmBgYEAFsSxWLBZVP2hkZAQIqqhpmiqD6JcdnZ7LGuC7TTabBSir1uJCk5OTVXVsbBcSmZ6e5uTJkwAq93ueV4YGRN+dwz0j/VmkQtrlRWrJ9evXAXj//n3F/P2BgG3bjI+PA3DhwgXAt6KkPOE44veu6yo/b2lpAfziFtXoFZF40psGUrhu3bpVVbfGRKDWJVqYYH9/P319fUDA7+WukEwmFTONEuH+gsjZs2dVUXv16hUA9+/fV9RkxweIOlCtO+65c+cAePjwIQATExMsLi4CQRA7jqNIYm9vLxD8W0Emk9lxW11kz7vQP9kvzLlIwLnRAAAAAElFTkSuQmCC\" y=\"-6.488136\"/>\n   </g>\n  </g>\n  <g id=\"axes_3\">\n   <g clip-path=\"url(#p94d51bda01)\">\n    <image height=\"48\" id=\"image65101632be\" transform=\"scale(1 -1)translate(0 -48)\" width=\"48\" x=\"120.691525\" xlink:href=\"data:image/png;base64,\niVBORw0KGgoAAAANSUhEUgAAADAAAAAwCAYAAABXAvmHAAAABHNCSVQICAgIfAhkiAAAA09JREFUaIHtmr1KK0EUx3+b7JKQbAyKYopAOrG0stb38BHER8ijWAhiK3mBlDbaWGll5QciGGXVmK+5RTizsx8Rd4TLlbn/JmF2ZnI+/uecmbPxAIUFPM9DqfylKysrtFotAJaWlvT4w8ND4nM4HCb2AxbuuQilQrP/QXhYegCgWq0CsLu7C8Dq6ioA9XqdcrkMwGQy0fNLpbm9ptMpALe3twD0+33e39+tZLBWoFarsbe3B8BsNgPg4+NDP5cxUcCkhii3trYGzBU6Pj4G4PX1tZAcv55Cvu3C7e1tbeXBYADElvU8T9NExiBJJ4D7+3sAwjBkY2MDgPPz80JyuOuBarXKeDwG4hQoVvc8T1ve5H4QBEAcHxLUURRRr9et5HDXA3d3d6yvrwOxRcUTpVIptyDJPIHM8X1fZ6SisFZgNBppgX3fzxVwEdLzgiDg+vraSg53KTQajfR3kzpFIOuCILCuxO56YDKZ6CDMK1pfnSolZmROEATfjp/MXlargPF4rH80Lex3j8Rm5f78/LSSw10KKaUSFpQxmKdJCWh5ljfP3Ovl5cVKDnc9IIG7CKblBWJ5eSYxNJ1OMyfV78JdDyiltEXTll00lreH4K+n0eFwqIVLB6dZkYVqeVXaXG9W9iJwl0JmEH91BjLTaTp9Cm3K5bI1hdz1gHlxt1kLyc6cLawVqFQqVCoVAH03NimSDmylVOYuLAZoNpu6SVZUKXcp9Pz8rC2YF5zm0Voglpf5YvW3tzdrOrnrAchWz7yLTZr3EHfoxANPT0/WMvz3AMw71RD3SM2ilXcfEKSzmA1+pIBQId1GnM1miSorY4K847Qt3KZQFEUAme4EZL2Sd3SWz59UZLc9kG7qmulTAlripFar6WBPB7jtdRJ+qIA0qASSz5VStNttIH4PdnNzo1/qycvA9IXIBm5TKAxDAB4fHwHodDoAHBwcsLy8DMS5fjAYcHFxAcDh4SGAnlP05bYJtz0gF3Gx8v7+PgCtVku/vZFnjUYjY/GTkxMg9qQN3PVAGIY0m00Aut0uEHvk6uqKy8vLxFij0dDe2NnZAdD90LOzM1sx7BWIooherwfM/50CcHR0BMT/RlmEra0tADY3NwE4PT21FeP3U+gPnDux9cGaKkUAAAAASUVORK5CYII=\" y=\"-6.488136\"/>\n   </g>\n  </g>\n  <g id=\"axes_4\">\n   <g clip-path=\"url(#p90bd57bfb4)\">\n    <image height=\"48\" id=\"image6c7de9faf9\" transform=\"scale(1 -1)translate(0 -48)\" width=\"48\" x=\"177.437288\" xlink:href=\"data:image/png;base64,\niVBORw0KGgoAAAANSUhEUgAAADAAAAAwCAYAAABXAvmHAAAABHNCSVQICAgIfAhkiAAABWxJREFUaIHtmk9PE10Uxn+dP1QKQhGrGDBUZ2MCCzeywEQxxoUhRBN3fAgSEj8An4JEl4SFe4Mb48LoEl24ICYK/osBRUtpaTsMw/RdzHvOTKuvjH3JG7XvSZoOd+5c7rnPc5577pkC1JN8LMuqW5alfxuGodeO49Qdx9E++Xw+0ZiH8TH4zc1K2nF+fh6AN2/eALC2tsaFCxcA6OnpAWBlZQWAQqHA8ePHAZientZ7W1tbAFy7dg2AR48eATA5OcnHjx8bxr937x47OzuH58CrV68AMIwQNNd19V4QBABUq1UA9vb2GB8f12sA3/e5evUqACMjIwA8fPgQgGKxqOOeOXMGgCtXrnD//v0D59U+FBI4BwYGAJQOEKHR0dEBhKstlDh//jwAy8vLbG5uAvDlyxcAVldXAbh8+bKiKEiUy+VE82ofBGTVTpw4AUB/fz/b29sAHDlyBICuri4APM8jl8s1tMkKx627uxuAvr4+KpVKQ//19fVE82o/BDzPAyCXyylPJQZETj3Pw7LCoaWP53mK1MuXLwE4efIkANlslrW1NQBKpRIQxtGhOrC/vw9EVMhkMiqbMjEJYsMwSKVSQBT8lmWRTqcBeP36NQBnz54FQrpIP3E4LhI/svah0Pv37wG4ePEiEEIsdBJUTNPUe2KykpZlabt8y6ZVKpW0TYShUCgkmlf7IPD27VsATp06BcDm5qbKoEigBG6tVov+wd9thmGwu7vbMGYmkwHC/EfiSDa7Q3dA7MWLFwDYto1t20CkTPEJStCLGYahu6xM9sOHD0Do8ODgIBAtVFL77SlkAnMHdTIMg3q9DoQQr66ucvPmTQ1Q0zRJp9NYloXnefi+j23b1Ot1jh07RiqVoqOjA9u2CYKATCaj9IFQfguFApVKhQcPHiQOYPgDEEgUA/E8Rni7srJCsVgE4N27d0C0I5dKJd2VJeOs1WoaKyIEYpcuXeLOnTsNbYZhfDd/arb2QOB79uTJE27cuAGgaiS8dl1X8xxRnmKxqAj19vYCUca5sbHB58+fG8ZPsvo/5YBMRAbO5XKMjo4CYToMaK4DUfInTg0PDyuFxBzHAeDZs2dJp/HtvFp+8hexxAg0Q1oul1VGZSeWfKlarepuLAcU13W1nxx2+vv7gUgEINq5k6bT7YNAcwxYlqUrKRmkxEK1WtXrzs5OIMxK5TgqQS+51L+xlhHo7OxsyG8gynf29/dxXRfXdbWtr68P0zQxTZNyudxQdZDa0X/qwK9iLe8D+Xxe6STyKEGdTqeVOnLGhShARW7jdGzV2geBZhkdGhrSNvmWld3d3VVeSxbruq7Kphz4RSrlLBBvS2rtg0CzBUGgSiJKJCcy27Y175FUIr6yzZwXeW3FEjkQryhIKuw4jp5f5V48FxITzY+XDyXAhXrDw8MtO9AeFIrD//TpUwAeP36sbUITWdH4JiXP7u3tKXWaBSEIAqampgASvdSIW3sgADAzMwNE77DW19c5evQoENVE4y8pml9FZbNZRUA2N3m+Uqlw/fp1IEI2vgH+yFKEryt/aGNjY8zOzgJR4Wlra0sn0JzLeJ5HNpttaCuVSv94yvI8T09pYrdv307kwG9PoUQIzM/PKxVkFbu7u7XCJoEq5Xbf9795exMEwTcyK9U73/d1fDmmLiwssLS0dKAD7YGA4zjMzc0B8OnTJyCUzuZDjiBx+vRpfTaeLwkqcWmFsJQu+ZDUmv6PgWYTmRM1qtVqKp/CX1Gl0dFRrQtJtdn3fa0DCRISE4ODg/qzA5HrQ3eg2fL5PBMTEwBa4Pr69SsAi4uLPH/+HIBz584BcOvWLf2pgQT74uIiAHfv3m1lCsAfQKG/AAwy3yv+WTlBAAAAAElFTkSuQmCC\" y=\"-6.488136\"/>\n   </g>\n  </g>\n  <g id=\"axes_5\">\n   <g clip-path=\"url(#pf20cf2162f)\">\n    <image height=\"48\" id=\"imagebb79e7531e\" transform=\"scale(1 -1)translate(0 -48)\" width=\"48\" x=\"234.183051\" xlink:href=\"data:image/png;base64,\niVBORw0KGgoAAAANSUhEUgAAADAAAAAwCAYAAABXAvmHAAAABHNCSVQICAgIfAhkiAAABCJJREFUaIHtmT1PMl0Qhq9dH3AR40cghqAmRqyIWlhbWVhZ8hcsjcH4Lywt/AfG3sJYGDu1NBJDNJpggfKhUVERFfa8BZkDKxYvu4mPhudOCLA7e2bm3DNzZs8xAIVHzM7OAhCPxwGYm5sjmUwCcHNzA8Da2hpDQ0MAbG1tAbCzs+NVNabnEX4AlJvP5OSkEpRKJVUqlVSxWFTFYlEppVQikVCJRELLl8vlFnnB/Py8KxsA9cet16lUiqenJwBub28BqFarAITDYQqFgkM+n8/T398PoJ8T+d3dXcbGxgC4urpqy45fH0JtM7C4uAhAqVSiVCoB4PP5ALBtW8uZpnNuwuEw7+/vDvmXlxcAurq6WF5eBmBlZaUtezqPgYWFBQC6u7v1NZnt19dXfa23t9ep6E9D1dvbG1CfeQDLspiammrXlLpuV0/9ILTNwOXlJVCvJLlcDkBXF4ntXC7H5uYmAPf394AzZz4+PoAGc5ZlcXp6+j0ObG9vA5BMJslmsw5DDMMA6qHU09PjMFbCBhrhdH19DUA0GiWVSrlyoPNC6Pj4GACllE5CpZztlG3bVCoVAF06TdPU8vJ9dnYGwPT0NOl02o39v58BA5fdaKFQ0AkqDEhsK6V0YouMbdt65mXBk1IciUQYGBgAnLnyf+C6F8pkMoRCIYdSSWKlFLVazXGtGXLv+fkZgGw227bhgl8fQq4dODo6wufz4fP5qNVq1Go1lFI6nKrVqu42BbZt6wSvVCpYloVlWRweHn6/Az8Frh3Y29vDMAwMw9Az28yAQGQAzZRci8VixGIxNjY2vt+BnwLXVSidTjMyMgI03rBk9g3D0JWmmREpn9Iz5fN5AA4ODtya4d6B8/NzxyoLTgfEWLnWHF7igLyKekHnhhB83QOBc/FqlpGwsiwLgIuLCy/qgX8MqC//K6Va2FBK6YVNeqZMJuNFfX0sLw8370I0o7kXEhnbtrUz0tR93jtyg84Ooc97PwLDMBzhJGguswDBYNCL+roNnkf4y/DEQPPeEDjLp/wWlkzT1C/4wkRfX58X9fVxPY/wl+GagUgkon9LpZEyaRiGrjTCRLVa1ZVJ5AYHB92q13DtQDgcbqnjssLatt2ykev3+/XWozgn97ygc0MoGo3qGZSZlYT1+/1MTEwAOA5BZKdCkv/zSu4GncvA8PBwy8GGlMnR0VFmZmYAWF1dBSCRSOickZkXRrzAtQPxeFxXFYGsrH6/n5OTE8e9QCDg2LGAf+sA4IGB8fHxlvb4q+SU08fHx0ctJ6FWLpfdqtfoXAZCoZAum7JHGggEgPoJzfr6OoA++zJNU6+8Dw8Pjue8oHMZqNVqFItFAO7u7oDGGXJzi7G0tATUF779/X2gwZTsCwWDQX1m3C5cnw94QTQaBRpnZF7w60PoP2ZCN9Zan6pyAAAAAElFTkSuQmCC\" y=\"-6.488136\"/>\n   </g>\n  </g>\n  <g id=\"axes_6\">\n   <g clip-path=\"url(#p23413cc954)\">\n    <image height=\"48\" id=\"image719ddab148\" transform=\"scale(1 -1)translate(0 -48)\" width=\"48\" x=\"290.928814\" xlink:href=\"data:image/png;base64,\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\" y=\"-6.488136\"/>\n   </g>\n  </g>\n  <g id=\"axes_7\">\n   <g clip-path=\"url(#p557e38c42a)\">\n    <image height=\"48\" id=\"image2f81def424\" transform=\"scale(1 -1)translate(0 -48)\" width=\"48\" x=\"347.674576\" xlink:href=\"data:image/png;base64,\niVBORw0KGgoAAAANSUhEUgAAADAAAAAwCAYAAABXAvmHAAAABHNCSVQICAgIfAhkiAAAA59JREFUaIHtmU8vO10Uxz/TmZZWVRNBUkIlDRY2LCxshZ0IIg0RaxW8AluxEW/CxtbG0jsQC1sWREmKEEyLVudZXOd2qn55hCeZp7/MN2lm5p5z/5zv+XPvTQ3AoY4R8HoBv4VvgNfwDfAavgFewzfAa/gGeA3rO0rhcJhgMAiAaZoARCIRGhoaALRMYJomgYDiplQqVbW79YvFIgBPT08YhqEWZFlaR/pKm3zn83murq6Av8ADBh+n0aamJmKxmGr8YENQKpXI5/MANDY2AhX2oMKs46iDbSAQ0HoiC4VCmkmRyTMcDuu53d4R/UgkAihPiez8/FytNR6PO9Jo23bVwiVEent7SaVSACSTSQASiYRegBgsYVMul7m9vQXg+fkZgLu7Ox4eHgBqnoVCQRMkCIVCNUTKmLZtV8iizmGJJYODg4yOjup3gJ6eHgBaW1sJh8Oqw4db39/fNePybGtrA5QH3KEj/URPIN6xbZu3tzegkqiO4/Dy8lI1/v39PaDCfW1tTcl+TYHHMFZXVx2AmZkZzbLEnrASDAZ10rrLnbxL7pTLZS2Td3eeSE65C4DoSPK6y+/nUvz6+gpALBZjf39f6f+eA2+hy+jw8DDj4+MA9Pf3AxX2EokE0WgUqHjFtm1aWlrUIB+ecJdOqSrCrGEYuq8wKd+O4+gx+vr6tL7MeXl5CcDNzQ2gyurh4WG1Af+G9fV1AJaXlwHo6OjQAz8+PgIqsUUmkFByL1j0xZDm5mYdXlLfp6endb+NjQ0AVlZWALi4uGBxcRH4m0IIajckYfQrjI2NMTs7C8DCwgKgNiuAbDarE0922EgkQqFQANDhJSGSy+V0Ce7s7ATU5nZycgLA1NQUUAnRaDRKLpdTa/2J1f8nfJkD7iMBqM1I4vcrxONxADY3NwFIp9Oa5evra0DFvyS0bIbHx8cAjIyMsLu7C8D29jYA7e3tpNNpAHZ2dgAYGBjQ8x0dHf3ZgO/AMAx9HvmMVCrF3NwcgN7dJyYmODs7AyqhJsmcTCbp6uoC0JXNjaWlJQA95uTkpJbVfQh960LzFdzsS/JL2+npKVtbW1X68/PzDA0NARUmJamLxSIHBwd/nGtvbw+A7u7uGlndewBUDvynP8uyvqWXyWScTCbjZLPZH89V9x74cRWC2qun5IBpmroES5tlWVUXfDcCgUDVkeMzpPy67wp6Dfj/0HgL3wCv4RvgNXwDvIZvgNfwDfAavgFe4x8CNpcoO6IXuwAAAABJRU5ErkJggg==\" y=\"-6.488136\"/>\n   </g>\n  </g>\n  <g id=\"axes_8\">\n   <g clip-path=\"url(#p464d865071)\">\n    <image height=\"48\" id=\"imageb381752b5b\" transform=\"scale(1 -1)translate(0 -48)\" width=\"48\" x=\"404.420339\" xlink:href=\"data:image/png;base64,\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\" y=\"-6.488136\"/>\n   </g>\n  </g>\n  <g id=\"axes_9\">\n   <g clip-path=\"url(#pb32a8031fc)\">\n    <image height=\"48\" id=\"image7b936a4a14\" transform=\"scale(1 -1)translate(0 -48)\" width=\"48\" x=\"461.166102\" xlink:href=\"data:image/png;base64,\niVBORw0KGgoAAAANSUhEUgAAADAAAAAwCAYAAABXAvmHAAAABHNCSVQICAgIfAhkiAAABMhJREFUaIHt2c9vjN8XB/DXdKpUOpLxKxGEjSBp/RYikXTVNH4sbIgS6YZlE/wBmnQjEYRERGwEsRIWWOhC/EqJhYhM/GqbFDFEU6Rphc7Q72Jynxltx6e++Hwy9L2ZZ557n/Oce9/nnHvOeWIYVMIo+68V+FmU1AJaWlq0tLR8cy/mOyY0ZcoUMGvWLJMnT46uIRaLmTNnDli4cCFIJBLg9u3bzp07B16+fPnTis+dOxfcv38fIl0oMQZGQnljYyNyq5w2bRqYNGkSyGQy4N27d75+/QomTJgQ/T58+BBcunQJrFmzBqxbty663rt3L+jo6DB+/Hjw+fPnH1IyvPPw4cPDxkqegVhtbe0gDAwM6O3tBe/fvwf9/f3I7dinT5/AhQsXQF1dncePHyO34/D27dtoLPhAYKm+vt7AwMD/peSyZcvAkSNHwNq1a6Oxkmeg/Pr166OaGIvFkLfHzs5OBw8eRH7nA1pbWx09ehTs27cP7N+/3549e0atWCwWMziYC5BD/W/IvNggoskjKT3S2Ghx5coVUF1dbf369SCVSv3jc4ULqK6uBocOHULORANK34S+t7uFYyEszp49G/T29rpx4wb4+PFjURm7du0Cp06dcvz4cXzrhEMRj8eRN5vCe0+ePBk2v/QZ+N5goQ88evQI9PT0gBkzZnx35wNevXoF2traTJ8+HVy8eBFs2rSp6Dvj8bhsNvvNvRcvXgyf7zek04UOWIiTJ0+CdDoNUS4VsoFiCE68YsUK5MwxoORNaNQMBBoDRhtagwN++fLFzJkzQXNzM0RmuXr1alu2bCkqY/HixcgHkNbW1uhU/7MZKNy9H0V4NjBXUVEROf2CBQvAgQMHQHt7e7S7mzdvxrcML1myBLnAAXfu3PHhwwf86Qz8boRKq7m5OWKsu7sbuUjV3t4Oyspy+xx8Bp4+fZob+7eULUQ8HhePx3V1denq6tLY2CiVSkmlUjKZjEwm4/z585LJpGQyKZvNymaz0um0dDpt3LhxkawxE/rVCA6bzWajgmnDhg3Ip9NVVVXOnDmDv5GBX1EjBATHZXio3rZtm1WrViEfPnfu3Ak2btyora0N/5DMjYRfqXhQeugpD1OnTrV06VJw+fJl5PtOnZ2dKisr8QeY0A8zMFoMLUzKyspUVFTAsO7E4ODgMNPs7+937Ngx5AuZ8HxVVVWUao8xUAxDnbLwf2G5WAzd3d3RCRxYCTL6+vrGGEDxkJpIJKIIsn37dnD27Fk3b94sKmuojNevX6upqUE+PwqNhXv37nn+/PnPLyBQHEwiKFFZWRndu3btGmhoaIi6GPX19eDq1atFZff09EStzlBKbt26Fdy6dSuqzUvehH5LLjRx4sSI7jdv3iDXRwpFy+7du5Ev7puamqKORWhTJhIJDQ0NyOdAocF84sSJ6F1/NwOjyYtC+VheXh41d/v6+kAymUTu01Fw8PAZafny5VauXAmR74QDsKOj499bQCF27NgB7t69i3yLsampKTKnRYsWIVcnh8WcPn0aPHjwYJjMv9uEigqNxaIQ+6MdjdraWlBTU2PevHnIsxIYr6uri76zjTEwotACBoYecmG8EMV8KITiULzMnz8fPHv2LHpmjIH/GiXPQMkv4H+FvAC4Hvq7EgAAAABJRU5ErkJggg==\" y=\"-6.488136\"/>\n   </g>\n  </g>\n  <g id=\"axes_10\">\n   <g clip-path=\"url(#p5f177040aa)\">\n    <image height=\"48\" id=\"image55b4c17d22\" transform=\"scale(1 -1)translate(0 -48)\" width=\"48\" x=\"517.911864\" xlink:href=\"data:image/png;base64,\niVBORw0KGgoAAAANSUhEUgAAADAAAAAwCAYAAABXAvmHAAAABHNCSVQICAgIfAhkiAAABXpJREFUaIHtmVtIFF8cxz+jm6uZ1+0ipmJ4QVoRNfMhaFEUMjAMIwgfvL3oW8+9FCkEFUQvIUhvvVYQvkQERUEvSqGFIBIIaptrhmmxXpse5v87M7M7rresdvn/YNnhzG/OOXO+v+/vNhqgE8US97c3sFtxbVWxuLgYgBMnTgBQVlbG0aNHAcjIyLDpTk9P093dbRvTNA1d3xxsTdMA0HWd+vp6AMbGxgCYnJwEID4+nvX1dUMfBxNqaGgAoKenB4CTJ09uunCovH79GgCfz6fG4uIMwH/+/Lnhc4mJiQAsLS3x7NkzAD59+gRAe3s7AElJSQSDQWPObe/sHxNlQqWlpbx//x7AhOc/OBcWFvj+/TsAKysrALjdbvbt2weg/sVEVlZWlKnV1tYC8OLFiy1tSFACePPmDQBpaWk2HdkXxBICV65cUbY5NTUFmCebkpJCamoqAD9+/AAMBOLj4wHzRASd9fV1vn37BsCdO3cAqKioUPNbiRoq1rGlpSUAioqKbDpWDsUOAvn5+SwuLgKQnp4OmFyYmZlRp33o0CHAOB2Xy+6FMzMz1fXs7CwA2dnZgMGxDx8+AJERWF5eVteC4pEjR2w6ggyAS1xTVVWVcldCWFk8KyuLiYkJwDSrnJwc9YLycrdv3wbg/v373Lx5E4C6ujoArl+/zoULF4DIbtQq8/PzgHmgVhGyR70JaT6fTwfIy8vj4cOHgAnRu3fvACgvL1fR8OvXrwAEg0E8Hg9gkBygoKAgbIEnT54ARkArLCwEYG5ubsMNWYNdTU0NAP39/YCZDYCJetQj4Hr16tWGN4UT5eXlKphI3rOwsKAQaGtr23COpqYmwEgtrl69CsDly5e3tDnhQFJSUtg9cQAuIaWmaYpca2trALx9+xYwEriZmRnbBMeOHePz588ADAwMhC0Q6mlaWlp4/vw5YJrax48f1QYlt7GKrJmcnAzAqVOnADNCQwyYkC0bjeSfRUpKSgDo7OxUblN8vkhcXJxC05pd9vb2Aihynj59OuLm5FlB+saNGwDcunVL7TV2ELAWHFtBYtOJI8zx6NEjwHAEAB0dHeqe1Y3u378fMAsZcfNdXV2m/o53+I+IY0UWpqRp6mSsubjYuVNqEIqAlRciQ0NDgBHYzpw5EzZHQkICYHorv98PQHV19fZeYCcS+gIul0vlTqGmury8rMzp4MGDYXNJHibxwOv18uXLFyAGTGjLXYntSugpS3B00klISGBkZMQ2dunSJVVEiSlJ0L148SJ9fX1ADCDwWzng5DplzOqmQ13r8PCwchJSFGVnZyu9QCAAwOrqKgCDg4M0Nzf//hfYTDbqC83Nzal0Xczl2rVrqjZ//PixTT8jIwOv12vMuac7/gOyJwhYY4XVXKSGFkI3NjYCRjb79OlTAFX0lJWVhWWox48fB+DevXsKnahHYE/cqK7ryt7l1FdXV8NcaWtrK2B0P4QX4+PjAI71wejoKGB0+6SY+h8BJ/F4PKpwj9RCkb5pMBhUpao0AcAs3GUOaz4m8++KxBIZxT9LqXj37l3Vy5FmmdfrZXp6Wl0DvHz5EoDDhw+HRduGhgZVkzvFl9jpSuzmYckuRSTtPXfunGoHiml4PB6qqqoAs1UoBK+oqFBl44EDBwDn3Mlp7ahHAAwO/JVfbm6unpubqy8uLup+v1/3+/16IBDQA4GAfvbsWaWnaZquaZrjHLsisTXigkkyIRhgiwfqu1ZITuTz+VS+Iw5hfn5efeQT8juROepNaMcIOH02jZROh46D3Q2XlpYCZseiuLhYxYTz588DZqYqX4IgBhCAPSKoEC8SASP9Hjx4oFdWVuqVlZVqzO12626326YX9Qj80YpsLyTqEYj6F/gForOk62a2xowAAAAASUVORK5CYII=\" y=\"-6.488136\"/>\n   </g>\n  </g>\n </g>\n <defs>\n  <clipPath id=\"p3be21a9c60\">\n   <rect height=\"47.288136\" width=\"47.288136\" x=\"7.2\" y=\"7.2\"/>\n  </clipPath>\n  <clipPath id=\"p0765d8f9c5\">\n   <rect height=\"47.288136\" width=\"47.288136\" x=\"63.945763\" y=\"7.2\"/>\n  </clipPath>\n  <clipPath id=\"p94d51bda01\">\n   <rect height=\"47.288136\" width=\"47.288136\" x=\"120.691525\" y=\"7.2\"/>\n  </clipPath>\n  <clipPath id=\"p90bd57bfb4\">\n   <rect height=\"47.288136\" width=\"47.288136\" x=\"177.437288\" y=\"7.2\"/>\n  </clipPath>\n  <clipPath id=\"pf20cf2162f\">\n   <rect height=\"47.288136\" width=\"47.288136\" x=\"234.183051\" y=\"7.2\"/>\n  </clipPath>\n  <clipPath id=\"p23413cc954\">\n   <rect height=\"47.288136\" width=\"47.288136\" x=\"290.928814\" y=\"7.2\"/>\n  </clipPath>\n  <clipPath id=\"p557e38c42a\">\n   <rect height=\"47.288136\" width=\"47.288136\" x=\"347.674576\" y=\"7.2\"/>\n  </clipPath>\n  <clipPath id=\"p464d865071\">\n   <rect height=\"47.288136\" width=\"47.288136\" x=\"404.420339\" y=\"7.2\"/>\n  </clipPath>\n  <clipPath id=\"pb32a8031fc\">\n   <rect height=\"47.288136\" width=\"47.288136\" x=\"461.166102\" y=\"7.2\"/>\n  </clipPath>\n  <clipPath id=\"p5f177040aa\">\n   <rect height=\"47.288136\" width=\"47.288136\" x=\"517.911864\" y=\"7.2\"/>\n  </clipPath>\n </defs>\n</svg>\n",
      "image/png": "[encoded data removed]"
     },
     "metadata": {
      "needs_background": "light"
     }
    },
    {
     "output_type": "stream",
     "name": "stdout",
     "text": "label for each of the above image: [9 0 0 3 0 2 7 2 5 5]\n"
    }
   ],
   "source": [
    "# visualizing the first 10 images in the dataset and their labels\n",
    "%matplotlib inline\n",
    "import matplotlib.pyplot as plt\n",
    "plt.figure(figsize=(10, 1))\n",
    "for i in range(10):\n",
    "    plt.subplot(1, 10, i+1)\n",
    "    plt.imshow(X_train[i].reshape(28, 28), cmap=\"gray\")\n",
    "    plt.axis('off')\n",
    "plt.show()\n",
    "print('label for each of the above image: %s' % (y_train[0:10]))"
   ]
  },
  {
   "cell_type": "markdown",
   "metadata": {},
   "source": [
    "#### Here, we define the container NN class that enables the forward prop and backward propagation of the entire network. Note, how this class enables us to add layers of different types and also correctly pass gradients using the chain rule."
   ]
  },
  {
   "cell_type": "code",
   "execution_count": 8,
   "metadata": {},
   "outputs": [],
   "source": [
    "class NN():\n",
    "    def __init__(self, lossfunc=CrossEntropy(), mode='train'):\n",
    "        self.params = []\n",
    "        self.layers = []\n",
    "        self.loss_func = lossfunc\n",
    "        self.grads = []\n",
    "        self.mode = mode\n",
    "        \n",
    "    def add_layer(self, layer):\n",
    "        self.layers.append(layer)\n",
    "        self.params.append(layer.params)\n",
    "\n",
    "    def forward(self, X):\n",
    "        for layer in self.layers:\n",
    "            X = layer.forward(X)\n",
    "        return X\n",
    "    \n",
    "    def backward(self, nextgrad):\n",
    "        self.clear_grad_param()\n",
    "        for layer in reversed(self.layers):\n",
    "            nextgrad, grad = layer.backward(nextgrad)\n",
    "            self.grads.append(grad)\n",
    "        return self.grads\n",
    "    \n",
    "    def train_step(self, X, y):\n",
    "        out = self.forward(X)\n",
    "        loss = self.loss_func.forward(out,y)\n",
    "        nextgrad = self.loss_func.backward(out,y)\n",
    "        grads = self.backward(nextgrad)\n",
    "        return loss, grads\n",
    "    \n",
    "    def predict(self, X):\n",
    "        X = self.forward(X)\n",
    "        p = softmax(X)\n",
    "        return np.argmax(p, axis=1)\n",
    "    \n",
    "    def predict_scores(self, X):\n",
    "        X = self.forward(X)\n",
    "        p = softmax(X)\n",
    "        return p\n",
    "    \n",
    "    def clear_grad_param(self):\n",
    "        self.grads = []"
   ]
  },
  {
   "cell_type": "markdown",
   "metadata": {},
   "source": [
    "#### Defining the update function (SGD with momentum)"
   ]
  },
  {
   "cell_type": "code",
   "execution_count": 9,
   "metadata": {},
   "outputs": [],
   "source": [
    "def update_params(velocity, params, grads, learning_rate=0.01, mu=0.9):\n",
    "    for v, p, g, in zip(velocity, params, reversed(grads)):\n",
    "        for i in range(len(g)):\n",
    "            v[i] = mu * v[i] - learning_rate * g[i]\n",
    "            p[i] += v[i]"
   ]
  },
  {
   "cell_type": "markdown",
   "metadata": {},
   "source": [
    "#### Defining a function which gives us the minibatches (both the datapoint and the corresponding label)"
   ]
  },
  {
   "cell_type": "code",
   "execution_count": 10,
   "metadata": {},
   "outputs": [],
   "source": [
    "# get minibatches\n",
    "def minibatch(X, y, minibatch_size):\n",
    "    n = X.shape[0]\n",
    "    minibatches = []\n",
    "    permutation = np.random.permutation(X.shape[0])\n",
    "    X = X[permutation]\n",
    "    y = y[permutation]\n",
    "    \n",
    "    for i in range(0, n , minibatch_size):\n",
    "        X_batch = X[i:i + minibatch_size, :]\n",
    "        y_batch = y[i:i + minibatch_size, ]\n",
    "        minibatches.append((X_batch, y_batch))\n",
    "    return minibatches"
   ]
  },
  {
   "cell_type": "markdown",
   "metadata": {},
   "source": [
    "#### The traning loop"
   ]
  },
  {
   "cell_type": "code",
   "execution_count": 11,
   "metadata": {},
   "outputs": [],
   "source": [
    "def train(net, X_train, y_train, minibatch_size, epoch, learning_rate, mu=0.9, X_val=None, y_val=None):\n",
    "    val_loss_epoch = []\n",
    "    minibatches = minibatch(X_train, y_train, minibatch_size)\n",
    "    minibatches_val = minibatch(X_val, y_val, minibatch_size)\n",
    "\n",
    "    \n",
    "    for i in range(epoch):\n",
    "        loss_batch = []\n",
    "        val_loss_batch = []\n",
    "        velocity = []\n",
    "        for param_layer in net.params:\n",
    "            p = [np.zeros_like(param) for param in list(param_layer)]\n",
    "            velocity.append(p)\n",
    "            \n",
    "        # iterate over mini batches\n",
    "        for X_mini, y_mini in minibatches:\n",
    "            loss, grads = net.train_step(X_mini, y_mini)\n",
    "            loss_batch.append(loss)\n",
    "            update_params(velocity, net.params, grads, learning_rate=learning_rate, mu=mu)\n",
    "\n",
    "        for X_mini_val, y_mini_val in minibatches_val:\n",
    "            val_loss, _ = net.train_step(X_mini, y_mini)\n",
    "            val_loss_batch.append(val_loss)\n",
    "        \n",
    "        # accuracy of model at end of epoch after all mini batch updates\n",
    "        m_train = X_train.shape[0]\n",
    "        m_val = X_val.shape[0]\n",
    "        y_train_pred = np.array([], dtype=\"int64\")\n",
    "        y_val_pred = np.array([], dtype=\"int64\")\n",
    "        y_train1 = []\n",
    "        y_vall = []\n",
    "        for i in range(0, m_train, minibatch_size):\n",
    "            X_tr = X_train[i:i + minibatch_size, : ]\n",
    "            y_tr = y_train[i:i + minibatch_size,]\n",
    "            y_train1 = np.append(y_train1, y_tr)\n",
    "            y_train_pred = np.append(y_train_pred, net.predict(X_tr))\n",
    "\n",
    "        for i in range(0, m_val, minibatch_size):\n",
    "            X_va = X_val[i:i + minibatch_size, : ]\n",
    "            y_va = y_val[i:i + minibatch_size,]\n",
    "            y_vall = np.append(y_vall, y_va)\n",
    "            y_val_pred = np.append(y_val_pred, net.predict(X_va))\n",
    "            \n",
    "        train_acc = check_accuracy(y_train1, y_train_pred)\n",
    "        val_acc = check_accuracy(y_vall, y_val_pred)\n",
    "\n",
    "        mean_train_loss = sum(loss_batch) / float(len(loss_batch))\n",
    "        mean_val_loss = sum(val_loss_batch) / float(len(val_loss_batch))\n",
    "        \n",
    "        val_loss_epoch.append(mean_val_loss)\n",
    "        print(\"Loss = {0} | Training Accuracy = {1} | Val Loss = {2} | Val Accuracy = {3}\".format(mean_train_loss, train_acc, mean_val_loss, val_acc))\n",
    "    return net"
   ]
  },
  {
   "cell_type": "markdown",
   "metadata": {},
   "source": [
    "#### Checking the accuracy of the model"
   ]
  },
  {
   "cell_type": "code",
   "execution_count": 12,
   "metadata": {},
   "outputs": [],
   "source": [
    "def check_accuracy(y_true, y_pred):\n",
    "    return np.mean(y_pred == y_true)"
   ]
  },
  {
   "cell_type": "markdown",
   "metadata": {},
   "source": [
    "### Invoking all that we have created until now"
   ]
  },
  {
   "cell_type": "code",
   "execution_count": 13,
   "metadata": {},
   "outputs": [
    {
     "output_type": "stream",
     "name": "stdout",
     "text": "Loss = 33.077026238271 | Training Accuracy = 0.1 | Val Loss = 33.341432146553814 | Val Accuracy = 0.1\nLoss = 33.18647342691394 | Training Accuracy = 0.1 | Val Loss = 32.78881172423523 | Val Accuracy = 0.1\nLoss = 33.15576896630101 | Training Accuracy = 0.1 | Val Loss = 33.341432146553814 | Val Accuracy = 0.1\nLoss = 33.180570846558204 | Training Accuracy = 0.1 | Val Loss = 32.05198449447714 | Val Accuracy = 0.1\nLoss = 33.185322682217425 | Training Accuracy = 0.1 | Val Loss = 32.78881172423523 | Val Accuracy = 0.1\nLoss = 33.175886077826924 | Training Accuracy = 0.1 | Val Loss = 33.341432146553814 | Val Accuracy = 0.1\nLoss = 33.217635737399924 | Training Accuracy = 0.1 | Val Loss = 32.05198449447714 | Val Accuracy = 0.1\nLoss = 33.13880465837029 | Training Accuracy = 0.1 | Val Loss = 33.89405256887238 | Val Accuracy = 0.1\nLoss = 33.144330862593485 | Training Accuracy = 0.1 | Val Loss = 33.341432146553814 | Val Accuracy = 0.1\nLoss = 33.21938573403897 | Training Accuracy = 0.1 | Val Loss = 33.89405256887238 | Val Accuracy = 0.1\n"
    }
   ],
   "source": [
    "from random import shuffle\n",
    "\n",
    "## input size\n",
    "input_dim = X_train.shape[1]\n",
    "\n",
    "## hyperparameters\n",
    "iterations = 10\n",
    "learning_rate = 1e4\n",
    "hidden_nodes = 32\n",
    "output_nodes = 10\n",
    "\n",
    "## define neural net\n",
    "nn = NN()\n",
    "nn.add_layer(Linear(input_dim, hidden_nodes))\n",
    "nn.add_layer(ReLU())\n",
    "nn.add_layer(Linear(hidden_nodes, output_nodes))\n",
    "\n",
    "nn = train(nn, X_train , y_train, minibatch_size=200, epoch=10, \\\n",
    "           learning_rate=learning_rate, X_val=X_val, y_val=y_val)"
   ]
  },
  {
   "cell_type": "markdown",
   "metadata": {},
   "source": [
    "#### fprop a single image and showing its prediction"
   ]
  },
  {
   "cell_type": "code",
   "execution_count": 14,
   "metadata": {},
   "outputs": [
    {
     "output_type": "execute_result",
     "data": {
      "text/plain": "<matplotlib.image.AxesImage at 0x14ba62a50>"
     },
     "metadata": {},
     "execution_count": 14
    },
    {
     "output_type": "display_data",
     "data": {
      "text/plain": "<Figure size 432x288 with 1 Axes>",
      "image/svg+xml": "<?xml version=\"1.0\" encoding=\"utf-8\" standalone=\"no\"?>\n<!DOCTYPE svg PUBLIC \"-//W3C//DTD SVG 1.1//EN\"\n  \"http://www.w3.org/Graphics/SVG/1.1/DTD/svg11.dtd\">\n<!-- Created with matplotlib (https://matplotlib.org/) -->\n<svg height=\"248.518125pt\" version=\"1.1\" viewBox=\"0 0 251.565 248.518125\" width=\"251.565pt\" xmlns=\"http://www.w3.org/2000/svg\" xmlns:xlink=\"http://www.w3.org/1999/xlink\">\n <defs>\n  <style type=\"text/css\">\n*{stroke-linecap:butt;stroke-linejoin:round;}\n  </style>\n </defs>\n <g id=\"figure_1\">\n  <g id=\"patch_1\">\n   <path d=\"M 0 248.518125 \nL 251.565 248.518125 \nL 251.565 0 \nL 0 0 \nz\n\" style=\"fill:none;\"/>\n  </g>\n  <g id=\"axes_1\">\n   <g id=\"patch_2\">\n    <path d=\"M 26.925 224.64 \nL 244.365 224.64 \nL 244.365 7.2 \nL 26.925 7.2 \nz\n\" style=\"fill:#ffffff;\"/>\n   </g>\n   <g clip-path=\"url(#p5c73b2f053)\">\n    <image height=\"218\" id=\"imagec1022b2e62\" transform=\"scale(1 -1)translate(0 -218)\" width=\"218\" x=\"26.925\" xlink:href=\"data:image/png;base64,\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\" y=\"-6.64\"/>\n   </g>\n   <g id=\"matplotlib.axis_1\">\n    <g id=\"xtick_1\">\n     <g id=\"line2d_1\">\n      <defs>\n       <path d=\"M 0 0 \nL 0 3.5 \n\" id=\"m3490f82296\" style=\"stroke:#000000;stroke-width:0.8;\"/>\n      </defs>\n      <g>\n       <use style=\"stroke:#000000;stroke-width:0.8;\" x=\"30.807857\" xlink:href=\"#m3490f82296\" y=\"224.64\"/>\n      </g>\n     </g>\n     <g id=\"text_1\">\n      <!-- 0 -->\n      <defs>\n       <path d=\"M 31.78125 66.40625 \nQ 24.171875 66.40625 20.328125 58.90625 \nQ 16.5 51.421875 16.5 36.375 \nQ 16.5 21.390625 20.328125 13.890625 \nQ 24.171875 6.390625 31.78125 6.390625 \nQ 39.453125 6.390625 43.28125 13.890625 \nQ 47.125 21.390625 47.125 36.375 \nQ 47.125 51.421875 43.28125 58.90625 \nQ 39.453125 66.40625 31.78125 66.40625 \nz\nM 31.78125 74.21875 \nQ 44.046875 74.21875 50.515625 64.515625 \nQ 56.984375 54.828125 56.984375 36.375 \nQ 56.984375 17.96875 50.515625 8.265625 \nQ 44.046875 -1.421875 31.78125 -1.421875 \nQ 19.53125 -1.421875 13.0625 8.265625 \nQ 6.59375 17.96875 6.59375 36.375 \nQ 6.59375 54.828125 13.0625 64.515625 \nQ 19.53125 74.21875 31.78125 74.21875 \nz\n\" id=\"DejaVuSans-48\"/>\n      </defs>\n      <g transform=\"translate(27.626607 239.238437)scale(0.1 -0.1)\">\n       <use xlink:href=\"#DejaVuSans-48\"/>\n      </g>\n     </g>\n    </g>\n    <g id=\"xtick_2\">\n     <g id=\"line2d_2\">\n      <g>\n       <use style=\"stroke:#000000;stroke-width:0.8;\" x=\"69.636429\" xlink:href=\"#m3490f82296\" y=\"224.64\"/>\n      </g>\n     </g>\n     <g id=\"text_2\">\n      <!-- 5 -->\n      <defs>\n       <path d=\"M 10.796875 72.90625 \nL 49.515625 72.90625 \nL 49.515625 64.59375 \nL 19.828125 64.59375 \nL 19.828125 46.734375 \nQ 21.96875 47.46875 24.109375 47.828125 \nQ 26.265625 48.1875 28.421875 48.1875 \nQ 40.625 48.1875 47.75 41.5 \nQ 54.890625 34.8125 54.890625 23.390625 \nQ 54.890625 11.625 47.5625 5.09375 \nQ 40.234375 -1.421875 26.90625 -1.421875 \nQ 22.3125 -1.421875 17.546875 -0.640625 \nQ 12.796875 0.140625 7.71875 1.703125 \nL 7.71875 11.625 \nQ 12.109375 9.234375 16.796875 8.0625 \nQ 21.484375 6.890625 26.703125 6.890625 \nQ 35.15625 6.890625 40.078125 11.328125 \nQ 45.015625 15.765625 45.015625 23.390625 \nQ 45.015625 31 40.078125 35.4375 \nQ 35.15625 39.890625 26.703125 39.890625 \nQ 22.75 39.890625 18.8125 39.015625 \nQ 14.890625 38.140625 10.796875 36.28125 \nz\n\" id=\"DejaVuSans-53\"/>\n      </defs>\n      <g transform=\"translate(66.455179 239.238437)scale(0.1 -0.1)\">\n       <use xlink:href=\"#DejaVuSans-53\"/>\n      </g>\n     </g>\n    </g>\n    <g id=\"xtick_3\">\n     <g id=\"line2d_3\">\n      <g>\n       <use style=\"stroke:#000000;stroke-width:0.8;\" x=\"108.465\" xlink:href=\"#m3490f82296\" y=\"224.64\"/>\n      </g>\n     </g>\n     <g id=\"text_3\">\n      <!-- 10 -->\n      <defs>\n       <path d=\"M 12.40625 8.296875 \nL 28.515625 8.296875 \nL 28.515625 63.921875 \nL 10.984375 60.40625 \nL 10.984375 69.390625 \nL 28.421875 72.90625 \nL 38.28125 72.90625 \nL 38.28125 8.296875 \nL 54.390625 8.296875 \nL 54.390625 0 \nL 12.40625 0 \nz\n\" id=\"DejaVuSans-49\"/>\n      </defs>\n      <g transform=\"translate(102.1025 239.238437)scale(0.1 -0.1)\">\n       <use xlink:href=\"#DejaVuSans-49\"/>\n       <use x=\"63.623047\" xlink:href=\"#DejaVuSans-48\"/>\n      </g>\n     </g>\n    </g>\n    <g id=\"xtick_4\">\n     <g id=\"line2d_4\">\n      <g>\n       <use style=\"stroke:#000000;stroke-width:0.8;\" x=\"147.293571\" xlink:href=\"#m3490f82296\" y=\"224.64\"/>\n      </g>\n     </g>\n     <g id=\"text_4\">\n      <!-- 15 -->\n      <g transform=\"translate(140.931071 239.238437)scale(0.1 -0.1)\">\n       <use xlink:href=\"#DejaVuSans-49\"/>\n       <use x=\"63.623047\" xlink:href=\"#DejaVuSans-53\"/>\n      </g>\n     </g>\n    </g>\n    <g id=\"xtick_5\">\n     <g id=\"line2d_5\">\n      <g>\n       <use style=\"stroke:#000000;stroke-width:0.8;\" x=\"186.122143\" xlink:href=\"#m3490f82296\" y=\"224.64\"/>\n      </g>\n     </g>\n     <g id=\"text_5\">\n      <!-- 20 -->\n      <defs>\n       <path d=\"M 19.1875 8.296875 \nL 53.609375 8.296875 \nL 53.609375 0 \nL 7.328125 0 \nL 7.328125 8.296875 \nQ 12.9375 14.109375 22.625 23.890625 \nQ 32.328125 33.6875 34.8125 36.53125 \nQ 39.546875 41.84375 41.421875 45.53125 \nQ 43.3125 49.21875 43.3125 52.78125 \nQ 43.3125 58.59375 39.234375 62.25 \nQ 35.15625 65.921875 28.609375 65.921875 \nQ 23.96875 65.921875 18.8125 64.3125 \nQ 13.671875 62.703125 7.8125 59.421875 \nL 7.8125 69.390625 \nQ 13.765625 71.78125 18.9375 73 \nQ 24.125 74.21875 28.421875 74.21875 \nQ 39.75 74.21875 46.484375 68.546875 \nQ 53.21875 62.890625 53.21875 53.421875 \nQ 53.21875 48.921875 51.53125 44.890625 \nQ 49.859375 40.875 45.40625 35.40625 \nQ 44.1875 33.984375 37.640625 27.21875 \nQ 31.109375 20.453125 19.1875 8.296875 \nz\n\" id=\"DejaVuSans-50\"/>\n      </defs>\n      <g transform=\"translate(179.759643 239.238437)scale(0.1 -0.1)\">\n       <use xlink:href=\"#DejaVuSans-50\"/>\n       <use x=\"63.623047\" xlink:href=\"#DejaVuSans-48\"/>\n      </g>\n     </g>\n    </g>\n    <g id=\"xtick_6\">\n     <g id=\"line2d_6\">\n      <g>\n       <use style=\"stroke:#000000;stroke-width:0.8;\" x=\"224.950714\" xlink:href=\"#m3490f82296\" y=\"224.64\"/>\n      </g>\n     </g>\n     <g id=\"text_6\">\n      <!-- 25 -->\n      <g transform=\"translate(218.588214 239.238437)scale(0.1 -0.1)\">\n       <use xlink:href=\"#DejaVuSans-50\"/>\n       <use x=\"63.623047\" xlink:href=\"#DejaVuSans-53\"/>\n      </g>\n     </g>\n    </g>\n   </g>\n   <g id=\"matplotlib.axis_2\">\n    <g id=\"ytick_1\">\n     <g id=\"line2d_7\">\n      <defs>\n       <path d=\"M 0 0 \nL -3.5 0 \n\" id=\"m4b79543f2f\" style=\"stroke:#000000;stroke-width:0.8;\"/>\n      </defs>\n      <g>\n       <use style=\"stroke:#000000;stroke-width:0.8;\" x=\"26.925\" xlink:href=\"#m4b79543f2f\" y=\"11.082857\"/>\n      </g>\n     </g>\n     <g id=\"text_7\">\n      <!-- 0 -->\n      <g transform=\"translate(13.5625 14.882076)scale(0.1 -0.1)\">\n       <use xlink:href=\"#DejaVuSans-48\"/>\n      </g>\n     </g>\n    </g>\n    <g id=\"ytick_2\">\n     <g id=\"line2d_8\">\n      <g>\n       <use style=\"stroke:#000000;stroke-width:0.8;\" x=\"26.925\" xlink:href=\"#m4b79543f2f\" y=\"49.911429\"/>\n      </g>\n     </g>\n     <g id=\"text_8\">\n      <!-- 5 -->\n      <g transform=\"translate(13.5625 53.710647)scale(0.1 -0.1)\">\n       <use xlink:href=\"#DejaVuSans-53\"/>\n      </g>\n     </g>\n    </g>\n    <g id=\"ytick_3\">\n     <g id=\"line2d_9\">\n      <g>\n       <use style=\"stroke:#000000;stroke-width:0.8;\" x=\"26.925\" xlink:href=\"#m4b79543f2f\" y=\"88.74\"/>\n      </g>\n     </g>\n     <g id=\"text_9\">\n      <!-- 10 -->\n      <g transform=\"translate(7.2 92.539219)scale(0.1 -0.1)\">\n       <use xlink:href=\"#DejaVuSans-49\"/>\n       <use x=\"63.623047\" xlink:href=\"#DejaVuSans-48\"/>\n      </g>\n     </g>\n    </g>\n    <g id=\"ytick_4\">\n     <g id=\"line2d_10\">\n      <g>\n       <use style=\"stroke:#000000;stroke-width:0.8;\" x=\"26.925\" xlink:href=\"#m4b79543f2f\" y=\"127.568571\"/>\n      </g>\n     </g>\n     <g id=\"text_10\">\n      <!-- 15 -->\n      <g transform=\"translate(7.2 131.36779)scale(0.1 -0.1)\">\n       <use xlink:href=\"#DejaVuSans-49\"/>\n       <use x=\"63.623047\" xlink:href=\"#DejaVuSans-53\"/>\n      </g>\n     </g>\n    </g>\n    <g id=\"ytick_5\">\n     <g id=\"line2d_11\">\n      <g>\n       <use style=\"stroke:#000000;stroke-width:0.8;\" x=\"26.925\" xlink:href=\"#m4b79543f2f\" y=\"166.397143\"/>\n      </g>\n     </g>\n     <g id=\"text_11\">\n      <!-- 20 -->\n      <g transform=\"translate(7.2 170.196362)scale(0.1 -0.1)\">\n       <use xlink:href=\"#DejaVuSans-50\"/>\n       <use x=\"63.623047\" xlink:href=\"#DejaVuSans-48\"/>\n      </g>\n     </g>\n    </g>\n    <g id=\"ytick_6\">\n     <g id=\"line2d_12\">\n      <g>\n       <use style=\"stroke:#000000;stroke-width:0.8;\" x=\"26.925\" xlink:href=\"#m4b79543f2f\" y=\"205.225714\"/>\n      </g>\n     </g>\n     <g id=\"text_12\">\n      <!-- 25 -->\n      <g transform=\"translate(7.2 209.024933)scale(0.1 -0.1)\">\n       <use xlink:href=\"#DejaVuSans-50\"/>\n       <use x=\"63.623047\" xlink:href=\"#DejaVuSans-53\"/>\n      </g>\n     </g>\n    </g>\n   </g>\n   <g id=\"patch_3\">\n    <path d=\"M 26.925 224.64 \nL 26.925 7.2 \n\" style=\"fill:none;stroke:#000000;stroke-linecap:square;stroke-linejoin:miter;stroke-width:0.8;\"/>\n   </g>\n   <g id=\"patch_4\">\n    <path d=\"M 244.365 224.64 \nL 244.365 7.2 \n\" style=\"fill:none;stroke:#000000;stroke-linecap:square;stroke-linejoin:miter;stroke-width:0.8;\"/>\n   </g>\n   <g id=\"patch_5\">\n    <path d=\"M 26.925 224.64 \nL 244.365 224.64 \n\" style=\"fill:none;stroke:#000000;stroke-linecap:square;stroke-linejoin:miter;stroke-width:0.8;\"/>\n   </g>\n   <g id=\"patch_6\">\n    <path d=\"M 26.925 7.2 \nL 244.365 7.2 \n\" style=\"fill:none;stroke:#000000;stroke-linecap:square;stroke-linejoin:miter;stroke-width:0.8;\"/>\n   </g>\n  </g>\n </g>\n <defs>\n  <clipPath id=\"p5c73b2f053\">\n   <rect height=\"217.44\" width=\"217.44\" x=\"26.925\" y=\"7.2\"/>\n  </clipPath>\n </defs>\n</svg>\n",
      "image/png": "[encoded data removed]"
     },
     "metadata": {
      "needs_background": "light"
     }
    }
   ],
   "source": [
    "plt.imshow(X_val[1].reshape(28,28), cmap='magma')"
   ]
  },
  {
   "cell_type": "code",
   "execution_count": 15,
   "metadata": {},
   "outputs": [],
   "source": [
    "# Predict Scores for each class\n",
    "prediction = nn.predict_scores(X_val[5])[0]\n"
   ]
  },
  {
   "cell_type": "code",
   "execution_count": 16,
   "metadata": {},
   "outputs": [
    {
     "output_type": "stream",
     "name": "stdout",
     "text": "Scores\n"
    },
    {
     "output_type": "execute_result",
     "data": {
      "text/plain": "array([0., 0., 1., 0., 0., 0., 0., 0., 0., 0.])"
     },
     "metadata": {},
     "execution_count": 16
    }
   ],
   "source": [
    "print(\"Scores\")\n",
    "prediction"
   ]
  },
  {
   "cell_type": "code",
   "execution_count": 17,
   "metadata": {},
   "outputs": [
    {
     "output_type": "execute_result",
     "data": {
      "text/plain": "2"
     },
     "metadata": {},
     "execution_count": 17
    }
   ],
   "source": [
    "np.argmax(prediction)"
   ]
  },
  {
   "cell_type": "code",
   "execution_count": 18,
   "metadata": {},
   "outputs": [
    {
     "output_type": "execute_result",
     "data": {
      "text/plain": "2"
     },
     "metadata": {},
     "execution_count": 18
    }
   ],
   "source": [
    "predict_class = nn.predict(X_val[0])[0]\n",
    "predict_class"
   ]
  },
  {
   "cell_type": "code",
   "execution_count": 19,
   "metadata": {},
   "outputs": [
    {
     "output_type": "execute_result",
     "data": {
      "text/plain": "9"
     },
     "metadata": {},
     "execution_count": 19
    }
   ],
   "source": [
    "# Original class\n",
    "y_val[0]"
   ]
  }
 ],
 "metadata": {
  "kernelspec": {
   "display_name": "Python 3",
   "language": "python",
   "name": "python3"
  },
  "language_info": {
   "codemirror_mode": {
    "name": "ipython",
    "version": 3
   },
   "file_extension": ".py",
   "mimetype": "text/x-python",
   "name": "python",
   "nbconvert_exporter": "python",
   "pygments_lexer": "ipython3",
   "version": "3.7.4-final"
  }
 },
 "nbformat": 4,
 "nbformat_minor": 2
}