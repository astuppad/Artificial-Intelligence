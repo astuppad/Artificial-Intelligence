{
 "cells": [
  {
   "cell_type": "code",
   "execution_count": 2,
   "metadata": {},
   "outputs": [],
   "source": [
    "# Import the libraries\n",
    "import pandas as pd\n",
    "from tensorflow.keras.models import Sequential\n",
    "from tensorflow.keras.layers import Dense\n",
    "from sklearn import model_selection\n",
    "from sklearn.model_selection import train_test_split\n",
    "from sklearn.preprocessing import LabelEncoder, OneHotEncoder\n",
    "from sklearn.metrics import confusion_matrix"
   ]
  },
  {
   "cell_type": "code",
   "execution_count": 40,
   "metadata": {},
   "outputs": [],
   "source": [
    "# Read the dataset\n",
    "ds = pd.read_csv(\"Churn_Modelling.csv\")"
   ]
  },
  {
   "cell_type": "code",
   "execution_count": 41,
   "metadata": {},
   "outputs": [
    {
     "output_type": "execute_result",
     "data": {
      "text/plain": "   RowNumber  CustomerId   Surname  ...  IsActiveMember EstimatedSalary Exited\n0          1    15634602  Hargrave  ...               1       101348.88      1\n1          2    15647311      Hill  ...               1       112542.58      0\n2          3    15619304      Onio  ...               0       113931.57      1\n3          4    15701354      Boni  ...               0        93826.63      0\n4          5    15737888  Mitchell  ...               1        79084.10      0\n5          6    15574012       Chu  ...               0       149756.71      1\n6          7    15592531  Bartlett  ...               1        10062.80      0\n7          8    15656148    Obinna  ...               0       119346.88      1\n8          9    15792365        He  ...               1        74940.50      0\n9         10    15592389        H?  ...               1        71725.73      0\n\n[10 rows x 14 columns]",
      "text/html": "<div>\n<style scoped>\n    .dataframe tbody tr th:only-of-type {\n        vertical-align: middle;\n    }\n\n    .dataframe tbody tr th {\n        vertical-align: top;\n    }\n\n    .dataframe thead th {\n        text-align: right;\n    }\n</style>\n<table border=\"1\" class=\"dataframe\">\n  <thead>\n    <tr style=\"text-align: right;\">\n      <th></th>\n      <th>RowNumber</th>\n      <th>CustomerId</th>\n      <th>Surname</th>\n      <th>CreditScore</th>\n      <th>Geography</th>\n      <th>Gender</th>\n      <th>Age</th>\n      <th>Tenure</th>\n      <th>Balance</th>\n      <th>NumOfProducts</th>\n      <th>HasCrCard</th>\n      <th>IsActiveMember</th>\n      <th>EstimatedSalary</th>\n      <th>Exited</th>\n    </tr>\n  </thead>\n  <tbody>\n    <tr>\n      <td>0</td>\n      <td>1</td>\n      <td>15634602</td>\n      <td>Hargrave</td>\n      <td>619</td>\n      <td>France</td>\n      <td>Female</td>\n      <td>42</td>\n      <td>2</td>\n      <td>0.00</td>\n      <td>1</td>\n      <td>1</td>\n      <td>1</td>\n      <td>101348.88</td>\n      <td>1</td>\n    </tr>\n    <tr>\n      <td>1</td>\n      <td>2</td>\n      <td>15647311</td>\n      <td>Hill</td>\n      <td>608</td>\n      <td>Spain</td>\n      <td>Female</td>\n      <td>41</td>\n      <td>1</td>\n      <td>83807.86</td>\n      <td>1</td>\n      <td>0</td>\n      <td>1</td>\n      <td>112542.58</td>\n      <td>0</td>\n    </tr>\n    <tr>\n      <td>2</td>\n      <td>3</td>\n      <td>15619304</td>\n      <td>Onio</td>\n      <td>502</td>\n      <td>France</td>\n      <td>Female</td>\n      <td>42</td>\n      <td>8</td>\n      <td>159660.80</td>\n      <td>3</td>\n      <td>1</td>\n      <td>0</td>\n      <td>113931.57</td>\n      <td>1</td>\n    </tr>\n    <tr>\n      <td>3</td>\n      <td>4</td>\n      <td>15701354</td>\n      <td>Boni</td>\n      <td>699</td>\n      <td>France</td>\n      <td>Female</td>\n      <td>39</td>\n      <td>1</td>\n      <td>0.00</td>\n      <td>2</td>\n      <td>0</td>\n      <td>0</td>\n      <td>93826.63</td>\n      <td>0</td>\n    </tr>\n    <tr>\n      <td>4</td>\n      <td>5</td>\n      <td>15737888</td>\n      <td>Mitchell</td>\n      <td>850</td>\n      <td>Spain</td>\n      <td>Female</td>\n      <td>43</td>\n      <td>2</td>\n      <td>125510.82</td>\n      <td>1</td>\n      <td>1</td>\n      <td>1</td>\n      <td>79084.10</td>\n      <td>0</td>\n    </tr>\n    <tr>\n      <td>5</td>\n      <td>6</td>\n      <td>15574012</td>\n      <td>Chu</td>\n      <td>645</td>\n      <td>Spain</td>\n      <td>Male</td>\n      <td>44</td>\n      <td>8</td>\n      <td>113755.78</td>\n      <td>2</td>\n      <td>1</td>\n      <td>0</td>\n      <td>149756.71</td>\n      <td>1</td>\n    </tr>\n    <tr>\n      <td>6</td>\n      <td>7</td>\n      <td>15592531</td>\n      <td>Bartlett</td>\n      <td>822</td>\n      <td>France</td>\n      <td>Male</td>\n      <td>50</td>\n      <td>7</td>\n      <td>0.00</td>\n      <td>2</td>\n      <td>1</td>\n      <td>1</td>\n      <td>10062.80</td>\n      <td>0</td>\n    </tr>\n    <tr>\n      <td>7</td>\n      <td>8</td>\n      <td>15656148</td>\n      <td>Obinna</td>\n      <td>376</td>\n      <td>Germany</td>\n      <td>Female</td>\n      <td>29</td>\n      <td>4</td>\n      <td>115046.74</td>\n      <td>4</td>\n      <td>1</td>\n      <td>0</td>\n      <td>119346.88</td>\n      <td>1</td>\n    </tr>\n    <tr>\n      <td>8</td>\n      <td>9</td>\n      <td>15792365</td>\n      <td>He</td>\n      <td>501</td>\n      <td>France</td>\n      <td>Male</td>\n      <td>44</td>\n      <td>4</td>\n      <td>142051.07</td>\n      <td>2</td>\n      <td>0</td>\n      <td>1</td>\n      <td>74940.50</td>\n      <td>0</td>\n    </tr>\n    <tr>\n      <td>9</td>\n      <td>10</td>\n      <td>15592389</td>\n      <td>H?</td>\n      <td>684</td>\n      <td>France</td>\n      <td>Male</td>\n      <td>27</td>\n      <td>2</td>\n      <td>134603.88</td>\n      <td>1</td>\n      <td>1</td>\n      <td>1</td>\n      <td>71725.73</td>\n      <td>0</td>\n    </tr>\n  </tbody>\n</table>\n</div>"
     },
     "metadata": {},
     "execution_count": 41
    }
   ],
   "source": [
    "ds.head(10)"
   ]
  },
  {
   "cell_type": "code",
   "execution_count": 42,
   "metadata": {},
   "outputs": [
    {
     "output_type": "execute_result",
     "data": {
      "text/plain": "France     5014\nGermany    2509\nSpain      2477\nName: Geography, dtype: int64"
     },
     "metadata": {},
     "execution_count": 42
    }
   ],
   "source": [
    "# Drop the columns which are unique for all users like IDs\n",
    "ds['Geography'].value_counts()"
   ]
  },
  {
   "cell_type": "code",
   "execution_count": 43,
   "metadata": {},
   "outputs": [
    {
     "output_type": "stream",
     "name": "stdout",
     "text": "<class 'pandas.core.frame.DataFrame'>\nRangeIndex: 10000 entries, 0 to 9999\nData columns (total 11 columns):\nCreditScore        10000 non-null int64\nGeography          10000 non-null object\nGender             10000 non-null object\nAge                10000 non-null int64\nTenure             10000 non-null int64\nBalance            10000 non-null float64\nNumOfProducts      10000 non-null int64\nHasCrCard          10000 non-null int64\nIsActiveMember     10000 non-null int64\nEstimatedSalary    10000 non-null float64\nExited             10000 non-null int64\ndtypes: float64(2), int64(7), object(2)\nmemory usage: 859.5+ KB\n"
    }
   ],
   "source": [
    "# Rownumber, Customer id, and surname are unique so we drop them\n",
    "ds = ds.drop(['RowNumber', 'CustomerId', 'Surname'], axis=1)\n",
    "ds.info()"
   ]
  },
  {
   "cell_type": "code",
   "execution_count": 44,
   "metadata": {},
   "outputs": [],
   "source": [
    "# Distinguish the features and target set\n",
    "X = ds.iloc[:, 0: 10].values\n",
    "y = ds.iloc[:, 10].values"
   ]
  },
  {
   "cell_type": "code",
   "execution_count": 45,
   "metadata": {},
   "outputs": [
    {
     "output_type": "stream",
     "name": "stdout",
     "text": "['France' 'Spain' 'France' 'France' 'Spain' 'Spain' 'France' 'Germany'] ... will become: \n[0 2 0 0 2 2 0 1]\n"
    }
   ],
   "source": [
    "#Encoding categorical (string based) data. Country: there are 3 options: France, Spain and Germany. This will convert those strings into scalar values for analysis.\n",
    "print(X[:8, 1], '... will become: ')\n",
    "lable_X_country_encoder = LabelEncoder()\n",
    "X[:, 1] = lable_X_country_encoder.fit_transform(X[:, 1])\n",
    "print(X[:8, 1])"
   ]
  },
  {
   "cell_type": "code",
   "execution_count": 46,
   "metadata": {},
   "outputs": [
    {
     "output_type": "stream",
     "name": "stdout",
     "text": "0 ... will become: \n[0 2 0 0 2 2]\n"
    }
   ],
   "source": [
    "# We will do the same thing for gender, this will be binary in the dataset\n",
    "print(X[6, 1], '... will become: ')\n",
    "label_X_gender_encoder = LabelEncoder()\n",
    "X[:, 2] = label_X_gender_encoder.fit_transform(X[:, 2])\n",
    "print(X[:6, 1])"
   ]
  },
  {
   "cell_type": "code",
   "execution_count": 47,
   "metadata": {},
   "outputs": [],
   "source": [
    "#The Problem here is that we are treating the countries as one variable with ordinal values (0 < 1 < 2). Therefore, one way to get rid of that problem is to split the countries into respective dimensions. Gender does not need this as it is binary\n",
    "#Converting the string features into their own dimensions. Gender doesn't matter here because its binary\n",
    "countryhotencoder = OneHotEncoder(categorical_features=[1])\n",
    "X = countryhotencoder.fit_transform(X).toarray()"
   ]
  },
  {
   "cell_type": "code",
   "execution_count": 48,
   "metadata": {},
   "outputs": [
    {
     "output_type": "execute_result",
     "data": {
      "text/plain": "(10000, 12)"
     },
     "metadata": {},
     "execution_count": 48
    }
   ],
   "source": [
    "X.shape"
   ]
  },
  {
   "cell_type": "code",
   "execution_count": 49,
   "metadata": {},
   "outputs": [
    {
     "output_type": "execute_result",
     "data": {
      "text/plain": "array([[1.0000000e+00, 0.0000000e+00, 0.0000000e+00, ..., 1.0000000e+00,\n        1.0000000e+00, 1.0134888e+05],\n       [0.0000000e+00, 0.0000000e+00, 1.0000000e+00, ..., 0.0000000e+00,\n        1.0000000e+00, 1.1254258e+05],\n       [1.0000000e+00, 0.0000000e+00, 0.0000000e+00, ..., 1.0000000e+00,\n        0.0000000e+00, 1.1393157e+05],\n       ...,\n       [1.0000000e+00, 0.0000000e+00, 0.0000000e+00, ..., 0.0000000e+00,\n        1.0000000e+00, 4.2085580e+04],\n       [0.0000000e+00, 1.0000000e+00, 0.0000000e+00, ..., 1.0000000e+00,\n        0.0000000e+00, 9.2888520e+04],\n       [1.0000000e+00, 0.0000000e+00, 0.0000000e+00, ..., 1.0000000e+00,\n        0.0000000e+00, 3.8190780e+04]])"
     },
     "metadata": {},
     "execution_count": 49
    }
   ],
   "source": [
    "X"
   ]
  },
  {
   "cell_type": "code",
   "execution_count": 50,
   "metadata": {},
   "outputs": [],
   "source": [
    "# A 0 on two countries means that the country has to be the one variable which wasn't included \n",
    "# This will save us from the problem of using too many dimensions\n",
    "X = X[:,1:] # Got rid of Spain as a dimension."
   ]
  },
  {
   "cell_type": "code",
   "execution_count": 53,
   "metadata": {},
   "outputs": [],
   "source": [
    "# Divide the data into train and test\n",
    "# Splitting the data into trainand test\n",
    "X_train, X_test, y_train, y_test = train_test_split(X, y, test_size=0.2, random_state = 10)"
   ]
  },
  {
   "cell_type": "code",
   "execution_count": null,
   "metadata": {},
   "outputs": [],
   "source": [
    "# Normalize the train and test data\n",
    "from sklearn.preprocessing import StandardScaler()\n",
    "sc = StandardScaler()\n",
    "X_train_scaled = sc.fit_transform(X_train)\n",
    "X_test_scaled = sc.fit_transform(X)"
   ]
  },
  {
   "cell_type": "code",
   "execution_count": 71,
   "metadata": {},
   "outputs": [],
   "source": [
    "classifier = Sequential()"
   ]
  },
  {
   "cell_type": "code",
   "execution_count": 72,
   "metadata": {},
   "outputs": [],
   "source": [
    "classifier.add(Dense(activation='relu', input_dim = 11, units=11, kernel_initializer='uniform'))"
   ]
  },
  {
   "cell_type": "code",
   "execution_count": 73,
   "metadata": {},
   "outputs": [],
   "source": [
    "classifier.add(Dense(6, activation='sigmoid', kernel_initializer='uniform'))"
   ]
  },
  {
   "cell_type": "code",
   "execution_count": 76,
   "metadata": {},
   "outputs": [],
   "source": [
    "classifier.add(Dense(1, activation='sigmoid', kernel_initializer='uniform'))"
   ]
  },
  {
   "cell_type": "code",
   "execution_count": 77,
   "metadata": {},
   "outputs": [],
   "source": [
    "classifier.compile(optimizer='sgd', loss='mse', metrics=['accuracy'])"
   ]
  },
  {
   "cell_type": "code",
   "execution_count": 78,
   "metadata": {},
   "outputs": [
    {
     "output_type": "stream",
     "name": "stdout",
     "text": "Model: \"sequential_1\"\n_________________________________________________________________\nLayer (type)                 Output Shape              Param #   \n=================================================================\ndense_3 (Dense)              (None, 11)                132       \n_________________________________________________________________\ndense_4 (Dense)              (None, 6)                 72        \n_________________________________________________________________\ndense_5 (Dense)              (None, 1)                 7         \n=================================================================\nTotal params: 211\nTrainable params: 211\nNon-trainable params: 0\n_________________________________________________________________\n"
    }
   ],
   "source": [
    "classifier.summary()"
   ]
  },
  {
   "cell_type": "code",
   "execution_count": 79,
   "metadata": {},
   "outputs": [
    {
     "output_type": "stream",
     "name": "stdout",
     "text": "Train on 8000 samples, validate on 2000 samples\nEpoch 1/100\n8000/8000 [==============================] - 1s 63us/sample - loss: 0.1955 - accuracy: 0.7861 - val_loss: 0.1749 - val_accuracy: 0.7890\nEpoch 2/100\n8000/8000 [==============================] - 0s 29us/sample - loss: 0.1661 - accuracy: 0.7981 - val_loss: 0.1678 - val_accuracy: 0.7890\nEpoch 3/100\n8000/8000 [==============================] - 0s 36us/sample - loss: 0.1623 - accuracy: 0.7981 - val_loss: 0.1667 - val_accuracy: 0.7890\nEpoch 4/100\n8000/8000 [==============================] - 0s 37us/sample - loss: 0.1615 - accuracy: 0.7981 - val_loss: 0.1665 - val_accuracy: 0.7890\nEpoch 5/100\n8000/8000 [==============================] - 0s 34us/sample - loss: 0.1612 - accuracy: 0.7981 - val_loss: 0.1665 - val_accuracy: 0.7890\nEpoch 6/100\n8000/8000 [==============================] - 0s 33us/sample - loss: 0.1612 - accuracy: 0.7981 - val_loss: 0.1665 - val_accuracy: 0.7890\nEpoch 7/100\n8000/8000 [==============================] - 0s 35us/sample - loss: 0.1612 - accuracy: 0.7981 - val_loss: 0.1665 - val_accuracy: 0.7890\nEpoch 8/100\n8000/8000 [==============================] - 0s 35us/sample - loss: 0.1611 - accuracy: 0.7981 - val_loss: 0.1666 - val_accuracy: 0.7890\nEpoch 9/100\n8000/8000 [==============================] - 0s 34us/sample - loss: 0.1611 - accuracy: 0.7981 - val_loss: 0.1666 - val_accuracy: 0.7890\nEpoch 10/100\n8000/8000 [==============================] - 0s 38us/sample - loss: 0.1611 - accuracy: 0.7981 - val_loss: 0.1666 - val_accuracy: 0.7890\nEpoch 11/100\n8000/8000 [==============================] - 0s 36us/sample - loss: 0.1611 - accuracy: 0.7981 - val_loss: 0.1666 - val_accuracy: 0.7890\nEpoch 12/100\n8000/8000 [==============================] - 0s 36us/sample - loss: 0.1611 - accuracy: 0.7981 - val_loss: 0.1666 - val_accuracy: 0.7890\nEpoch 13/100\n8000/8000 [==============================] - 0s 32us/sample - loss: 0.1611 - accuracy: 0.7981 - val_loss: 0.1666 - val_accuracy: 0.7890\nEpoch 14/100\n8000/8000 [==============================] - 0s 32us/sample - loss: 0.1611 - accuracy: 0.7981 - val_loss: 0.1666 - val_accuracy: 0.7890\nEpoch 15/100\n8000/8000 [==============================] - 0s 30us/sample - loss: 0.1611 - accuracy: 0.7981 - val_loss: 0.1666 - val_accuracy: 0.7890\nEpoch 16/100\n8000/8000 [==============================] - 0s 29us/sample - loss: 0.1611 - accuracy: 0.7981 - val_loss: 0.1666 - val_accuracy: 0.7890\nEpoch 17/100\n8000/8000 [==============================] - 0s 29us/sample - loss: 0.1611 - accuracy: 0.7981 - val_loss: 0.1666 - val_accuracy: 0.7890\nEpoch 18/100\n8000/8000 [==============================] - 0s 30us/sample - loss: 0.1611 - accuracy: 0.7981 - val_loss: 0.1666 - val_accuracy: 0.7890\nEpoch 19/100\n8000/8000 [==============================] - 0s 29us/sample - loss: 0.1611 - accuracy: 0.7981 - val_loss: 0.1666 - val_accuracy: 0.7890\nEpoch 20/100\n8000/8000 [==============================] - 0s 29us/sample - loss: 0.1611 - accuracy: 0.7981 - val_loss: 0.1666 - val_accuracy: 0.7890\nEpoch 21/100\n8000/8000 [==============================] - 0s 35us/sample - loss: 0.1611 - accuracy: 0.7981 - val_loss: 0.1666 - val_accuracy: 0.7890\nEpoch 22/100\n8000/8000 [==============================] - 0s 34us/sample - loss: 0.1611 - accuracy: 0.7981 - val_loss: 0.1666 - val_accuracy: 0.7890\nEpoch 23/100\n8000/8000 [==============================] - 0s 30us/sample - loss: 0.1611 - accuracy: 0.7981 - val_loss: 0.1666 - val_accuracy: 0.7890\nEpoch 24/100\n8000/8000 [==============================] - 0s 29us/sample - loss: 0.1611 - accuracy: 0.7981 - val_loss: 0.1666 - val_accuracy: 0.7890\nEpoch 25/100\n8000/8000 [==============================] - 0s 33us/sample - loss: 0.1611 - accuracy: 0.7981 - val_loss: 0.1666 - val_accuracy: 0.7890\nEpoch 26/100\n8000/8000 [==============================] - 0s 35us/sample - loss: 0.1611 - accuracy: 0.7981 - val_loss: 0.1666 - val_accuracy: 0.7890\nEpoch 27/100\n8000/8000 [==============================] - 0s 35us/sample - loss: 0.1611 - accuracy: 0.7981 - val_loss: 0.1666 - val_accuracy: 0.7890\nEpoch 28/100\n8000/8000 [==============================] - 0s 35us/sample - loss: 0.1611 - accuracy: 0.7981 - val_loss: 0.1666 - val_accuracy: 0.7890\nEpoch 29/100\n8000/8000 [==============================] - 0s 33us/sample - loss: 0.1611 - accuracy: 0.7981 - val_loss: 0.1666 - val_accuracy: 0.7890\nEpoch 30/100\n8000/8000 [==============================] - 0s 34us/sample - loss: 0.1611 - accuracy: 0.7981 - val_loss: 0.1666 - val_accuracy: 0.7890\nEpoch 31/100\n8000/8000 [==============================] - 0s 33us/sample - loss: 0.1611 - accuracy: 0.7981 - val_loss: 0.1666 - val_accuracy: 0.7890\nEpoch 32/100\n8000/8000 [==============================] - 0s 30us/sample - loss: 0.1611 - accuracy: 0.7981 - val_loss: 0.1666 - val_accuracy: 0.7890\nEpoch 33/100\n8000/8000 [==============================] - 0s 33us/sample - loss: 0.1611 - accuracy: 0.7981 - val_loss: 0.1666 - val_accuracy: 0.7890\nEpoch 34/100\n8000/8000 [==============================] - 0s 34us/sample - loss: 0.1611 - accuracy: 0.7981 - val_loss: 0.1666 - val_accuracy: 0.7890\nEpoch 35/100\n8000/8000 [==============================] - 0s 36us/sample - loss: 0.1611 - accuracy: 0.7981 - val_loss: 0.1666 - val_accuracy: 0.7890\nEpoch 36/100\n8000/8000 [==============================] - 0s 34us/sample - loss: 0.1611 - accuracy: 0.7981 - val_loss: 0.1666 - val_accuracy: 0.7890\nEpoch 37/100\n8000/8000 [==============================] - 0s 32us/sample - loss: 0.1611 - accuracy: 0.7981 - val_loss: 0.1666 - val_accuracy: 0.7890\nEpoch 38/100\n8000/8000 [==============================] - 0s 35us/sample - loss: 0.1611 - accuracy: 0.7981 - val_loss: 0.1666 - val_accuracy: 0.7890\nEpoch 39/100\n8000/8000 [==============================] - 0s 34us/sample - loss: 0.1611 - accuracy: 0.7981 - val_loss: 0.1666 - val_accuracy: 0.7890\nEpoch 40/100\n8000/8000 [==============================] - 0s 37us/sample - loss: 0.1611 - accuracy: 0.7981 - val_loss: 0.1666 - val_accuracy: 0.7890\nEpoch 41/100\n8000/8000 [==============================] - 0s 36us/sample - loss: 0.1611 - accuracy: 0.7981 - val_loss: 0.1666 - val_accuracy: 0.7890\nEpoch 42/100\n8000/8000 [==============================] - 0s 33us/sample - loss: 0.1611 - accuracy: 0.7981 - val_loss: 0.1666 - val_accuracy: 0.7890\nEpoch 43/100\n8000/8000 [==============================] - 0s 36us/sample - loss: 0.1611 - accuracy: 0.7981 - val_loss: 0.1666 - val_accuracy: 0.7890\nEpoch 44/100\n8000/8000 [==============================] - 0s 34us/sample - loss: 0.1611 - accuracy: 0.7981 - val_loss: 0.1666 - val_accuracy: 0.7890\nEpoch 45/100\n8000/8000 [==============================] - 0s 35us/sample - loss: 0.1611 - accuracy: 0.7981 - val_loss: 0.1666 - val_accuracy: 0.7890\nEpoch 46/100\n8000/8000 [==============================] - 0s 40us/sample - loss: 0.1611 - accuracy: 0.7981 - val_loss: 0.1666 - val_accuracy: 0.7890\nEpoch 47/100\n8000/8000 [==============================] - 0s 36us/sample - loss: 0.1611 - accuracy: 0.7981 - val_loss: 0.1666 - val_accuracy: 0.7890\nEpoch 48/100\n8000/8000 [==============================] - 0s 41us/sample - loss: 0.1611 - accuracy: 0.7981 - val_loss: 0.1666 - val_accuracy: 0.7890\nEpoch 49/100\n8000/8000 [==============================] - 0s 36us/sample - loss: 0.1611 - accuracy: 0.7981 - val_loss: 0.1666 - val_accuracy: 0.7890\nEpoch 50/100\n8000/8000 [==============================] - 0s 32us/sample - loss: 0.1611 - accuracy: 0.7981 - val_loss: 0.1666 - val_accuracy: 0.7890\nEpoch 51/100\n8000/8000 [==============================] - 0s 37us/sample - loss: 0.1611 - accuracy: 0.7981 - val_loss: 0.1666 - val_accuracy: 0.7890\nEpoch 52/100\n8000/8000 [==============================] - 0s 36us/sample - loss: 0.1611 - accuracy: 0.7981 - val_loss: 0.1666 - val_accuracy: 0.7890\nEpoch 53/100\n8000/8000 [==============================] - 0s 37us/sample - loss: 0.1611 - accuracy: 0.7981 - val_loss: 0.1666 - val_accuracy: 0.7890\nEpoch 54/100\n8000/8000 [==============================] - 0s 34us/sample - loss: 0.1611 - accuracy: 0.7981 - val_loss: 0.1666 - val_accuracy: 0.7890\nEpoch 55/100\n8000/8000 [==============================] - 0s 32us/sample - loss: 0.1611 - accuracy: 0.7981 - val_loss: 0.1666 - val_accuracy: 0.7890\nEpoch 56/100\n8000/8000 [==============================] - 0s 34us/sample - loss: 0.1611 - accuracy: 0.7981 - val_loss: 0.1666 - val_accuracy: 0.7890\nEpoch 57/100\n8000/8000 [==============================] - 0s 32us/sample - loss: 0.1611 - accuracy: 0.7981 - val_loss: 0.1666 - val_accuracy: 0.7890\nEpoch 58/100\n8000/8000 [==============================] - 0s 32us/sample - loss: 0.1611 - accuracy: 0.7981 - val_loss: 0.1666 - val_accuracy: 0.7890\nEpoch 59/100\n8000/8000 [==============================] - 0s 30us/sample - loss: 0.1611 - accuracy: 0.7981 - val_loss: 0.1666 - val_accuracy: 0.7890\nEpoch 60/100\n8000/8000 [==============================] - 0s 30us/sample - loss: 0.1611 - accuracy: 0.7981 - val_loss: 0.1666 - val_accuracy: 0.7890\nEpoch 61/100\n8000/8000 [==============================] - 0s 30us/sample - loss: 0.1611 - accuracy: 0.7981 - val_loss: 0.1666 - val_accuracy: 0.7890\nEpoch 62/100\n8000/8000 [==============================] - 0s 30us/sample - loss: 0.1611 - accuracy: 0.7981 - val_loss: 0.1666 - val_accuracy: 0.7890\nEpoch 63/100\n8000/8000 [==============================] - 0s 30us/sample - loss: 0.1611 - accuracy: 0.7981 - val_loss: 0.1666 - val_accuracy: 0.7890\nEpoch 64/100\n8000/8000 [==============================] - 0s 30us/sample - loss: 0.1611 - accuracy: 0.7981 - val_loss: 0.1666 - val_accuracy: 0.7890\nEpoch 65/100\n8000/8000 [==============================] - 0s 30us/sample - loss: 0.1611 - accuracy: 0.7981 - val_loss: 0.1666 - val_accuracy: 0.7890\nEpoch 66/100\n8000/8000 [==============================] - 0s 33us/sample - loss: 0.1611 - accuracy: 0.7981 - val_loss: 0.1666 - val_accuracy: 0.7890\nEpoch 67/100\n8000/8000 [==============================] - 0s 35us/sample - loss: 0.1611 - accuracy: 0.7981 - val_loss: 0.1666 - val_accuracy: 0.7890\nEpoch 68/100\n8000/8000 [==============================] - 0s 33us/sample - loss: 0.1611 - accuracy: 0.7981 - val_loss: 0.1666 - val_accuracy: 0.7890\nEpoch 69/100\n8000/8000 [==============================] - 0s 36us/sample - loss: 0.1611 - accuracy: 0.7981 - val_loss: 0.1666 - val_accuracy: 0.7890\nEpoch 70/100\n8000/8000 [==============================] - 0s 36us/sample - loss: 0.1611 - accuracy: 0.7981 - val_loss: 0.1666 - val_accuracy: 0.7890\nEpoch 71/100\n8000/8000 [==============================] - 0s 30us/sample - loss: 0.1611 - accuracy: 0.7981 - val_loss: 0.1666 - val_accuracy: 0.7890\nEpoch 72/100\n8000/8000 [==============================] - 0s 32us/sample - loss: 0.1611 - accuracy: 0.7981 - val_loss: 0.1666 - val_accuracy: 0.7890\nEpoch 73/100\n8000/8000 [==============================] - 0s 35us/sample - loss: 0.1611 - accuracy: 0.7981 - val_loss: 0.1666 - val_accuracy: 0.7890\nEpoch 74/100\n8000/8000 [==============================] - 0s 36us/sample - loss: 0.1611 - accuracy: 0.7981 - val_loss: 0.1666 - val_accuracy: 0.7890\nEpoch 75/100\n8000/8000 [==============================] - 0s 35us/sample - loss: 0.1611 - accuracy: 0.7981 - val_loss: 0.1666 - val_accuracy: 0.7890\nEpoch 76/100\n8000/8000 [==============================] - 0s 35us/sample - loss: 0.1611 - accuracy: 0.7981 - val_loss: 0.1666 - val_accuracy: 0.7890\nEpoch 77/100\n8000/8000 [==============================] - 0s 37us/sample - loss: 0.1611 - accuracy: 0.7981 - val_loss: 0.1666 - val_accuracy: 0.7890\nEpoch 78/100\n8000/8000 [==============================] - 0s 36us/sample - loss: 0.1611 - accuracy: 0.7981 - val_loss: 0.1666 - val_accuracy: 0.7890\nEpoch 79/100\n8000/8000 [==============================] - 0s 36us/sample - loss: 0.1611 - accuracy: 0.7981 - val_loss: 0.1666 - val_accuracy: 0.7890\nEpoch 80/100\n8000/8000 [==============================] - 0s 36us/sample - loss: 0.1611 - accuracy: 0.7981 - val_loss: 0.1666 - val_accuracy: 0.7890\nEpoch 81/100\n8000/8000 [==============================] - 0s 41us/sample - loss: 0.1611 - accuracy: 0.7981 - val_loss: 0.1666 - val_accuracy: 0.7890\nEpoch 82/100\n8000/8000 [==============================] - 0s 37us/sample - loss: 0.1611 - accuracy: 0.7981 - val_loss: 0.1665 - val_accuracy: 0.7890\nEpoch 83/100\n8000/8000 [==============================] - 0s 35us/sample - loss: 0.1611 - accuracy: 0.7981 - val_loss: 0.1666 - val_accuracy: 0.7890\nEpoch 84/100\n8000/8000 [==============================] - 0s 30us/sample - loss: 0.1611 - accuracy: 0.7981 - val_loss: 0.1666 - val_accuracy: 0.7890\nEpoch 85/100\n8000/8000 [==============================] - 0s 30us/sample - loss: 0.1611 - accuracy: 0.7981 - val_loss: 0.1666 - val_accuracy: 0.7890\nEpoch 86/100\n8000/8000 [==============================] - 0s 33us/sample - loss: 0.1611 - accuracy: 0.7981 - val_loss: 0.1666 - val_accuracy: 0.7890\nEpoch 87/100\n8000/8000 [==============================] - 0s 32us/sample - loss: 0.1611 - accuracy: 0.7981 - val_loss: 0.1666 - val_accuracy: 0.7890\nEpoch 88/100\n8000/8000 [==============================] - 0s 32us/sample - loss: 0.1611 - accuracy: 0.7981 - val_loss: 0.1666 - val_accuracy: 0.7890\nEpoch 89/100\n8000/8000 [==============================] - 0s 32us/sample - loss: 0.1611 - accuracy: 0.7981 - val_loss: 0.1666 - val_accuracy: 0.7890\nEpoch 90/100\n8000/8000 [==============================] - 0s 33us/sample - loss: 0.1611 - accuracy: 0.7981 - val_loss: 0.1666 - val_accuracy: 0.7890\nEpoch 91/100\n8000/8000 [==============================] - 0s 32us/sample - loss: 0.1611 - accuracy: 0.7981 - val_loss: 0.1666 - val_accuracy: 0.7890\nEpoch 92/100\n8000/8000 [==============================] - 0s 33us/sample - loss: 0.1611 - accuracy: 0.7981 - val_loss: 0.1666 - val_accuracy: 0.7890\nEpoch 93/100\n8000/8000 [==============================] - 0s 32us/sample - loss: 0.1611 - accuracy: 0.7981 - val_loss: 0.1666 - val_accuracy: 0.7890\nEpoch 94/100\n8000/8000 [==============================] - 0s 33us/sample - loss: 0.1611 - accuracy: 0.7981 - val_loss: 0.1666 - val_accuracy: 0.7890\nEpoch 95/100\n8000/8000 [==============================] - 0s 32us/sample - loss: 0.1611 - accuracy: 0.7981 - val_loss: 0.1666 - val_accuracy: 0.7890\nEpoch 96/100\n8000/8000 [==============================] - 0s 33us/sample - loss: 0.1611 - accuracy: 0.7981 - val_loss: 0.1666 - val_accuracy: 0.7890\nEpoch 97/100\n8000/8000 [==============================] - 0s 32us/sample - loss: 0.1611 - accuracy: 0.7981 - val_loss: 0.1666 - val_accuracy: 0.7890\nEpoch 98/100\n8000/8000 [==============================] - 0s 33us/sample - loss: 0.1611 - accuracy: 0.7981 - val_loss: 0.1666 - val_accuracy: 0.7890\nEpoch 99/100\n8000/8000 [==============================] - 0s 32us/sample - loss: 0.1611 - accuracy: 0.7981 - val_loss: 0.1666 - val_accuracy: 0.7890\nEpoch 100/100\n8000/8000 [==============================] - 0s 32us/sample - loss: 0.1611 - accuracy: 0.7981 - val_loss: 0.1666 - val_accuracy: 0.7890\n"
    },
    {
     "output_type": "execute_result",
     "data": {
      "text/plain": "<tensorflow.python.keras.callbacks.History at 0x15575c410>"
     },
     "metadata": {},
     "execution_count": 79
    }
   ],
   "source": [
    "classifier.fit(X_train, y_train,\n",
    "               validation_data = (X_test, y_test),\n",
    "               epochs = 100,\n",
    "               batch_size = 32)"
   ]
  },
  {
   "cell_type": "code",
   "execution_count": 82,
   "metadata": {},
   "outputs": [
    {
     "output_type": "stream",
     "name": "stdout",
     "text": "[[0.20187521]\n [0.20187521]\n [0.20187521]\n ...\n [0.20187521]\n [0.20187521]\n [0.20187521]]\n"
    }
   ],
   "source": [
    "# Predict the result as 0.5 as threshold\n",
    "y_pred = classifier.predict(X_test)\n",
    "print(y_pred)"
   ]
  },
  {
   "cell_type": "code",
   "execution_count": 83,
   "metadata": {},
   "outputs": [
    {
     "output_type": "stream",
     "name": "stdout",
     "text": "[[False]\n [False]\n [False]\n ...\n [False]\n [False]\n [False]]\n"
    }
   ],
   "source": [
    "y_pred = (y_pred > 0.5)\n",
    "print(y_pred)"
   ]
  },
  {
   "cell_type": "code",
   "execution_count": 85,
   "metadata": {},
   "outputs": [
    {
     "output_type": "stream",
     "name": "stdout",
     "text": "[[1578    0]\n [ 422    0]]\n"
    }
   ],
   "source": [
    "cm1 = confusion_matrix(y_test,y_pred)\n",
    "print(cm1)"
   ]
  },
  {
   "cell_type": "code",
   "execution_count": 86,
   "metadata": {},
   "outputs": [
    {
     "output_type": "stream",
     "name": "stdout",
     "text": "78.9 % of testing data was classified correctly\n"
    }
   ],
   "source": [
    "accuracy_model1 = ((cm1[0][0]+cm1[1][1])*100)/(cm1[0][0]+cm1[1][1]+cm1[0][1]+cm1[1][0])\n",
    "print (accuracy_model1, '% of testing data was classified correctly')"
   ]
  },
  {
   "cell_type": "code",
   "execution_count": 87,
   "metadata": {},
   "outputs": [
    {
     "output_type": "error",
     "ename": "SyntaxError",
     "evalue": "invalid syntax (<ipython-input-87-e82a908f5a06>, line 1)",
     "traceback": [
      "\u001b[0;36m  File \u001b[0;32m\"<ipython-input-87-e82a908f5a06>\"\u001b[0;36m, line \u001b[0;32m1\u001b[0m\n\u001b[0;31m    Optimize the model\u001b[0m\n\u001b[0m               ^\u001b[0m\n\u001b[0;31mSyntaxError\u001b[0m\u001b[0;31m:\u001b[0m invalid syntax\n"
     ]
    }
   ],
   "source": [
    "Optimize the model\n",
    "Some important parameters to look out for while optimizing neural networks are:\n",
    "\n",
    "-Type of architecture\n",
    "\n",
    "-Number of Layers\n",
    "\n",
    "-Number of Neurons in a layer\n",
    "\n",
    "-Regularization parameters\n",
    "\n",
    "-Learning Rate\n",
    "\n",
    "-Type of optimization / backpropagation technique to use\n",
    "\n",
    "-Dropout rate\n",
    "\n",
    "-Weight sharing\n",
    "\n",
    "Number of Layers:\n",
    "We will keep it similar to the above model so that we can compare the accuracy. 1 hidden layer.\n",
    "\n",
    "Activation:\n",
    "input layer: relu becasue we are in an input layer. uses the ReLu activation function for ϕ output layer: sigmoid becasue we are in an output layer. uses the Sigmoid activation function for ϕ . This is used instead of the ReLu function becasue it generates probabilities for the outcome. We want the probability that each customer leaves the bank.\n",
    "\n",
    "Type of optimization / backpropagation technique to use:\n",
    "We will use Adam. Adam is a very efficeint variation of Stochastic Gradient Descent. For Adam and its variant, learning rate or the decay rate does not really matter too much.\n",
    "\n",
    "Learning Rate:\n",
    "default learning rate 0.001.\n",
    "\n",
    "Number of Neurons in a layer:\n",
    "We will keep it 6 as per our initial calculation above.\n",
    "\n",
    "Weight sharing / kernel_initializer:\n",
    "uniform the distribution with which we randomly initialize weights for the nodes in this layer.\n",
    "\n",
    "Loss:\n",
    "loss: binary_crossentropy This is the loss function used within adam. This should be the logarthmic loss. If our dependent (output variable) is Binary, it is binary_crossentropy. If Categorical, then it is called categorical_crossentropy\n",
    "\n",
    "Rebuilding the model using these optimised parameters¶"
   ]
  },
  {
   "cell_type": "code",
   "execution_count": 103,
   "metadata": {},
   "outputs": [],
   "source": [
    "classifier = Sequential()"
   ]
  },
  {
   "cell_type": "code",
   "execution_count": 104,
   "metadata": {},
   "outputs": [],
   "source": [
    "classifier.add(Dense(activation='relu', input_dim = 11, units=5, kernel_initializer='uniform'))"
   ]
  },
  {
   "cell_type": "code",
   "execution_count": 105,
   "metadata": {},
   "outputs": [],
   "source": [
    "classifier.add(Dense(activation='relu', units=6, kernel_initializer='uniform'))"
   ]
  },
  {
   "cell_type": "code",
   "execution_count": 106,
   "metadata": {},
   "outputs": [],
   "source": [
    "classifier.add(Dense(activation='sigmoid', units=1, kernel_initializer='uniform'))"
   ]
  },
  {
   "cell_type": "code",
   "execution_count": 107,
   "metadata": {},
   "outputs": [],
   "source": [
    "classifier.compile(optimizer='adam', loss='binary_crossentropy', metrics=['accuracy'])"
   ]
  },
  {
   "cell_type": "code",
   "execution_count": 108,
   "metadata": {},
   "outputs": [
    {
     "output_type": "stream",
     "name": "stdout",
     "text": "Train on 8000 samples, validate on 2000 samples\nEpoch 1/100\n8000/8000 [==============================] - 0s 43us/sample - loss: 0.6250 - accuracy: 0.7975 - val_loss: 0.6047 - val_accuracy: 0.7890\nEpoch 2/100\n8000/8000 [==============================] - 0s 6us/sample - loss: 0.5640 - accuracy: 0.7981 - val_loss: 0.5549 - val_accuracy: 0.7890\nEpoch 3/100\n8000/8000 [==============================] - 0s 7us/sample - loss: 0.5451 - accuracy: 0.7981 - val_loss: 0.5502 - val_accuracy: 0.7890\nEpoch 4/100\n8000/8000 [==============================] - 0s 7us/sample - loss: 0.5363 - accuracy: 0.7981 - val_loss: 0.5441 - val_accuracy: 0.7890\nEpoch 5/100\n8000/8000 [==============================] - 0s 7us/sample - loss: 0.5300 - accuracy: 0.7981 - val_loss: 0.5389 - val_accuracy: 0.7890\nEpoch 6/100\n8000/8000 [==============================] - 0s 7us/sample - loss: 0.5168 - accuracy: 0.7981 - val_loss: 0.5201 - val_accuracy: 0.7890\nEpoch 7/100\n8000/8000 [==============================] - 0s 8us/sample - loss: 0.5076 - accuracy: 0.7981 - val_loss: 0.5169 - val_accuracy: 0.7890\nEpoch 8/100\n8000/8000 [==============================] - 0s 8us/sample - loss: 0.5088 - accuracy: 0.7981 - val_loss: 0.5262 - val_accuracy: 0.7890\nEpoch 9/100\n8000/8000 [==============================] - 0s 7us/sample - loss: 0.5057 - accuracy: 0.7981 - val_loss: 0.5274 - val_accuracy: 0.7890\nEpoch 10/100\n8000/8000 [==============================] - 0s 8us/sample - loss: 0.5067 - accuracy: 0.7981 - val_loss: 0.5151 - val_accuracy: 0.7890\nEpoch 11/100\n8000/8000 [==============================] - 0s 8us/sample - loss: 0.5032 - accuracy: 0.7981 - val_loss: 0.5167 - val_accuracy: 0.7890\nEpoch 12/100\n8000/8000 [==============================] - 0s 8us/sample - loss: 0.5037 - accuracy: 0.7981 - val_loss: 0.5168 - val_accuracy: 0.7890\nEpoch 13/100\n8000/8000 [==============================] - 0s 9us/sample - loss: 0.5015 - accuracy: 0.7981 - val_loss: 0.5177 - val_accuracy: 0.7890\nEpoch 14/100\n8000/8000 [==============================] - 0s 8us/sample - loss: 0.5048 - accuracy: 0.7981 - val_loss: 0.5200 - val_accuracy: 0.7890\nEpoch 15/100\n8000/8000 [==============================] - 0s 8us/sample - loss: 0.5052 - accuracy: 0.7981 - val_loss: 0.5171 - val_accuracy: 0.7890\nEpoch 16/100\n8000/8000 [==============================] - 0s 7us/sample - loss: 0.5020 - accuracy: 0.7981 - val_loss: 0.5198 - val_accuracy: 0.7890\nEpoch 17/100\n8000/8000 [==============================] - 0s 7us/sample - loss: 0.5035 - accuracy: 0.7981 - val_loss: 0.5154 - val_accuracy: 0.7890\nEpoch 18/100\n8000/8000 [==============================] - 0s 7us/sample - loss: 0.5069 - accuracy: 0.7981 - val_loss: 0.5167 - val_accuracy: 0.7890\nEpoch 19/100\n8000/8000 [==============================] - 0s 8us/sample - loss: 0.5032 - accuracy: 0.7981 - val_loss: 0.5159 - val_accuracy: 0.7890\nEpoch 20/100\n8000/8000 [==============================] - 0s 8us/sample - loss: 0.5032 - accuracy: 0.7981 - val_loss: 0.5169 - val_accuracy: 0.7890\nEpoch 21/100\n8000/8000 [==============================] - 0s 7us/sample - loss: 0.5005 - accuracy: 0.7981 - val_loss: 0.5152 - val_accuracy: 0.7890\nEpoch 22/100\n8000/8000 [==============================] - 0s 7us/sample - loss: 0.5003 - accuracy: 0.7981 - val_loss: 0.5133 - val_accuracy: 0.7890\nEpoch 23/100\n8000/8000 [==============================] - 0s 8us/sample - loss: 0.5023 - accuracy: 0.7981 - val_loss: 0.5132 - val_accuracy: 0.7890\nEpoch 24/100\n8000/8000 [==============================] - 0s 7us/sample - loss: 0.5009 - accuracy: 0.7981 - val_loss: 0.5141 - val_accuracy: 0.7890\nEpoch 25/100\n8000/8000 [==============================] - 0s 7us/sample - loss: 0.5025 - accuracy: 0.7981 - val_loss: 0.5152 - val_accuracy: 0.7890\nEpoch 26/100\n8000/8000 [==============================] - 0s 7us/sample - loss: 0.5013 - accuracy: 0.7981 - val_loss: 0.5166 - val_accuracy: 0.7890\nEpoch 27/100\n8000/8000 [==============================] - 0s 7us/sample - loss: 0.5050 - accuracy: 0.7981 - val_loss: 0.5216 - val_accuracy: 0.7890\nEpoch 28/100\n8000/8000 [==============================] - 0s 7us/sample - loss: 0.5015 - accuracy: 0.7981 - val_loss: 0.5148 - val_accuracy: 0.7890\nEpoch 29/100\n8000/8000 [==============================] - 0s 7us/sample - loss: 0.4999 - accuracy: 0.7981 - val_loss: 0.5129 - val_accuracy: 0.7890\nEpoch 30/100\n8000/8000 [==============================] - 0s 10us/sample - loss: 0.5000 - accuracy: 0.7981 - val_loss: 0.5132 - val_accuracy: 0.7890\nEpoch 31/100\n8000/8000 [==============================] - 0s 9us/sample - loss: 0.5001 - accuracy: 0.7981 - val_loss: 0.5140 - val_accuracy: 0.7890\nEpoch 32/100\n8000/8000 [==============================] - 0s 6us/sample - loss: 0.5002 - accuracy: 0.7981 - val_loss: 0.5194 - val_accuracy: 0.7890\nEpoch 33/100\n8000/8000 [==============================] - 0s 7us/sample - loss: 0.5003 - accuracy: 0.7981 - val_loss: 0.5136 - val_accuracy: 0.7890\nEpoch 34/100\n8000/8000 [==============================] - 0s 7us/sample - loss: 0.4996 - accuracy: 0.7981 - val_loss: 0.5132 - val_accuracy: 0.7890\nEpoch 35/100\n8000/8000 [==============================] - 0s 7us/sample - loss: 0.4989 - accuracy: 0.7981 - val_loss: 0.5127 - val_accuracy: 0.7890\nEpoch 36/100\n8000/8000 [==============================] - 0s 7us/sample - loss: 0.5032 - accuracy: 0.7981 - val_loss: 0.5197 - val_accuracy: 0.7890\nEpoch 37/100\n8000/8000 [==============================] - 0s 7us/sample - loss: 0.5018 - accuracy: 0.7981 - val_loss: 0.5129 - val_accuracy: 0.7890\nEpoch 38/100\n8000/8000 [==============================] - 0s 7us/sample - loss: 0.4995 - accuracy: 0.7981 - val_loss: 0.5125 - val_accuracy: 0.7890\nEpoch 39/100\n8000/8000 [==============================] - 0s 8us/sample - loss: 0.4991 - accuracy: 0.7981 - val_loss: 0.5139 - val_accuracy: 0.7890\nEpoch 40/100\n8000/8000 [==============================] - 0s 7us/sample - loss: 0.4986 - accuracy: 0.7981 - val_loss: 0.5179 - val_accuracy: 0.7890\nEpoch 41/100\n8000/8000 [==============================] - 0s 8us/sample - loss: 0.4992 - accuracy: 0.7981 - val_loss: 0.5120 - val_accuracy: 0.7890\nEpoch 42/100\n8000/8000 [==============================] - 0s 7us/sample - loss: 0.5014 - accuracy: 0.7981 - val_loss: 0.5130 - val_accuracy: 0.7890\nEpoch 43/100\n8000/8000 [==============================] - 0s 7us/sample - loss: 0.4984 - accuracy: 0.7981 - val_loss: 0.5121 - val_accuracy: 0.7890\nEpoch 44/100\n8000/8000 [==============================] - 0s 7us/sample - loss: 0.5002 - accuracy: 0.7981 - val_loss: 0.5201 - val_accuracy: 0.7890\nEpoch 45/100\n8000/8000 [==============================] - 0s 6us/sample - loss: 0.4988 - accuracy: 0.7981 - val_loss: 0.5168 - val_accuracy: 0.7890\nEpoch 46/100\n8000/8000 [==============================] - 0s 6us/sample - loss: 0.5005 - accuracy: 0.7981 - val_loss: 0.5123 - val_accuracy: 0.7890\nEpoch 47/100\n8000/8000 [==============================] - 0s 7us/sample - loss: 0.4978 - accuracy: 0.7981 - val_loss: 0.5119 - val_accuracy: 0.7890\nEpoch 48/100\n8000/8000 [==============================] - 0s 7us/sample - loss: 0.5012 - accuracy: 0.7981 - val_loss: 0.5128 - val_accuracy: 0.7890\nEpoch 49/100\n8000/8000 [==============================] - 0s 7us/sample - loss: 0.4996 - accuracy: 0.7981 - val_loss: 0.5127 - val_accuracy: 0.7890\nEpoch 50/100\n8000/8000 [==============================] - 0s 7us/sample - loss: 0.4988 - accuracy: 0.7981 - val_loss: 0.5121 - val_accuracy: 0.7890\nEpoch 51/100\n8000/8000 [==============================] - 0s 7us/sample - loss: 0.4988 - accuracy: 0.7981 - val_loss: 0.5140 - val_accuracy: 0.7890\nEpoch 52/100\n8000/8000 [==============================] - 0s 6us/sample - loss: 0.4978 - accuracy: 0.7981 - val_loss: 0.5124 - val_accuracy: 0.7890\nEpoch 53/100\n8000/8000 [==============================] - 0s 7us/sample - loss: 0.4974 - accuracy: 0.7981 - val_loss: 0.5155 - val_accuracy: 0.7890\nEpoch 54/100\n8000/8000 [==============================] - 0s 7us/sample - loss: 0.4985 - accuracy: 0.7981 - val_loss: 0.5110 - val_accuracy: 0.7890\nEpoch 55/100\n8000/8000 [==============================] - 0s 7us/sample - loss: 0.4982 - accuracy: 0.7981 - val_loss: 0.5126 - val_accuracy: 0.7890\nEpoch 56/100\n8000/8000 [==============================] - 0s 6us/sample - loss: 0.4973 - accuracy: 0.7981 - val_loss: 0.5130 - val_accuracy: 0.7890\nEpoch 57/100\n8000/8000 [==============================] - 0s 6us/sample - loss: 0.4985 - accuracy: 0.7981 - val_loss: 0.5116 - val_accuracy: 0.7890\nEpoch 58/100\n8000/8000 [==============================] - 0s 7us/sample - loss: 0.4987 - accuracy: 0.7981 - val_loss: 0.5109 - val_accuracy: 0.7890\nEpoch 59/100\n8000/8000 [==============================] - 0s 8us/sample - loss: 0.4981 - accuracy: 0.7981 - val_loss: 0.5136 - val_accuracy: 0.7890\nEpoch 60/100\n8000/8000 [==============================] - 0s 8us/sample - loss: 0.4986 - accuracy: 0.7981 - val_loss: 0.5132 - val_accuracy: 0.7890\nEpoch 61/100\n8000/8000 [==============================] - 0s 7us/sample - loss: 0.4982 - accuracy: 0.7981 - val_loss: 0.5136 - val_accuracy: 0.7890\nEpoch 62/100\n8000/8000 [==============================] - 0s 7us/sample - loss: 0.4986 - accuracy: 0.7981 - val_loss: 0.5125 - val_accuracy: 0.7890\nEpoch 63/100\n8000/8000 [==============================] - 0s 7us/sample - loss: 0.4992 - accuracy: 0.7981 - val_loss: 0.5104 - val_accuracy: 0.7890\nEpoch 64/100\n8000/8000 [==============================] - 0s 8us/sample - loss: 0.4972 - accuracy: 0.7981 - val_loss: 0.5102 - val_accuracy: 0.7890\nEpoch 65/100\n8000/8000 [==============================] - 0s 8us/sample - loss: 0.4976 - accuracy: 0.7981 - val_loss: 0.5113 - val_accuracy: 0.7890\nEpoch 66/100\n8000/8000 [==============================] - 0s 8us/sample - loss: 0.4978 - accuracy: 0.7981 - val_loss: 0.5099 - val_accuracy: 0.7890\nEpoch 67/100\n8000/8000 [==============================] - 0s 7us/sample - loss: 0.4973 - accuracy: 0.7981 - val_loss: 0.5139 - val_accuracy: 0.7890\nEpoch 68/100\n8000/8000 [==============================] - 0s 8us/sample - loss: 0.4965 - accuracy: 0.7981 - val_loss: 0.5114 - val_accuracy: 0.7890\nEpoch 69/100\n8000/8000 [==============================] - 0s 8us/sample - loss: 0.4976 - accuracy: 0.7981 - val_loss: 0.5102 - val_accuracy: 0.7890\nEpoch 70/100\n8000/8000 [==============================] - 0s 7us/sample - loss: 0.4980 - accuracy: 0.7981 - val_loss: 0.5102 - val_accuracy: 0.7890\nEpoch 71/100\n8000/8000 [==============================] - 0s 7us/sample - loss: 0.4974 - accuracy: 0.7981 - val_loss: 0.5098 - val_accuracy: 0.7890\nEpoch 72/100\n8000/8000 [==============================] - 0s 9us/sample - loss: 0.4973 - accuracy: 0.7981 - val_loss: 0.5124 - val_accuracy: 0.7890\nEpoch 73/100\n8000/8000 [==============================] - 0s 8us/sample - loss: 0.4966 - accuracy: 0.7981 - val_loss: 0.5124 - val_accuracy: 0.7890\nEpoch 74/100\n8000/8000 [==============================] - 0s 8us/sample - loss: 0.4963 - accuracy: 0.7981 - val_loss: 0.5095 - val_accuracy: 0.7890\nEpoch 75/100\n8000/8000 [==============================] - 0s 7us/sample - loss: 0.4961 - accuracy: 0.7981 - val_loss: 0.5146 - val_accuracy: 0.7890\nEpoch 76/100\n8000/8000 [==============================] - 0s 7us/sample - loss: 0.4961 - accuracy: 0.7981 - val_loss: 0.5119 - val_accuracy: 0.7890\nEpoch 77/100\n8000/8000 [==============================] - 0s 8us/sample - loss: 0.4957 - accuracy: 0.7981 - val_loss: 0.5101 - val_accuracy: 0.7890\nEpoch 78/100\n8000/8000 [==============================] - 0s 7us/sample - loss: 0.4963 - accuracy: 0.7981 - val_loss: 0.5167 - val_accuracy: 0.7890\nEpoch 79/100\n8000/8000 [==============================] - 0s 7us/sample - loss: 0.4973 - accuracy: 0.7981 - val_loss: 0.5095 - val_accuracy: 0.7890\nEpoch 80/100\n8000/8000 [==============================] - 0s 7us/sample - loss: 0.4976 - accuracy: 0.7981 - val_loss: 0.5099 - val_accuracy: 0.7890\nEpoch 81/100\n8000/8000 [==============================] - 0s 8us/sample - loss: 0.4960 - accuracy: 0.7981 - val_loss: 0.5109 - val_accuracy: 0.7890\nEpoch 82/100\n8000/8000 [==============================] - 0s 7us/sample - loss: 0.4957 - accuracy: 0.7981 - val_loss: 0.5095 - val_accuracy: 0.7890\nEpoch 83/100\n8000/8000 [==============================] - 0s 7us/sample - loss: 0.4957 - accuracy: 0.7981 - val_loss: 0.5094 - val_accuracy: 0.7890\nEpoch 84/100\n8000/8000 [==============================] - 0s 7us/sample - loss: 0.4957 - accuracy: 0.7981 - val_loss: 0.5090 - val_accuracy: 0.7890\nEpoch 85/100\n8000/8000 [==============================] - 0s 7us/sample - loss: 0.4958 - accuracy: 0.7981 - val_loss: 0.5091 - val_accuracy: 0.7890\nEpoch 86/100\n8000/8000 [==============================] - 0s 8us/sample - loss: 0.4958 - accuracy: 0.7981 - val_loss: 0.5102 - val_accuracy: 0.7890\nEpoch 87/100\n8000/8000 [==============================] - 0s 7us/sample - loss: 0.4995 - accuracy: 0.7981 - val_loss: 0.5106 - val_accuracy: 0.7890\nEpoch 88/100\n8000/8000 [==============================] - 0s 7us/sample - loss: 0.4964 - accuracy: 0.7981 - val_loss: 0.5089 - val_accuracy: 0.7890\nEpoch 89/100\n8000/8000 [==============================] - 0s 7us/sample - loss: 0.4965 - accuracy: 0.7981 - val_loss: 0.5112 - val_accuracy: 0.7890\nEpoch 90/100\n8000/8000 [==============================] - 0s 6us/sample - loss: 0.4988 - accuracy: 0.7981 - val_loss: 0.5099 - val_accuracy: 0.7890\nEpoch 91/100\n8000/8000 [==============================] - 0s 7us/sample - loss: 0.4959 - accuracy: 0.7981 - val_loss: 0.5093 - val_accuracy: 0.7890\nEpoch 92/100\n8000/8000 [==============================] - 0s 6us/sample - loss: 0.4963 - accuracy: 0.7981 - val_loss: 0.5087 - val_accuracy: 0.7890\nEpoch 93/100\n8000/8000 [==============================] - 0s 7us/sample - loss: 0.4959 - accuracy: 0.7981 - val_loss: 0.5093 - val_accuracy: 0.7890\nEpoch 94/100\n8000/8000 [==============================] - 0s 7us/sample - loss: 0.4961 - accuracy: 0.7981 - val_loss: 0.5126 - val_accuracy: 0.7890\nEpoch 95/100\n8000/8000 [==============================] - 0s 7us/sample - loss: 0.4965 - accuracy: 0.7981 - val_loss: 0.5088 - val_accuracy: 0.7890\nEpoch 96/100\n8000/8000 [==============================] - 0s 7us/sample - loss: 0.4959 - accuracy: 0.7981 - val_loss: 0.5107 - val_accuracy: 0.7890\nEpoch 97/100\n8000/8000 [==============================] - 0s 7us/sample - loss: 0.4950 - accuracy: 0.7981 - val_loss: 0.5086 - val_accuracy: 0.7890\nEpoch 98/100\n8000/8000 [==============================] - 0s 7us/sample - loss: 0.4952 - accuracy: 0.7981 - val_loss: 0.5090 - val_accuracy: 0.7890\nEpoch 99/100\n8000/8000 [==============================] - 0s 7us/sample - loss: 0.4953 - accuracy: 0.7981 - val_loss: 0.5098 - val_accuracy: 0.7890\nEpoch 100/100\n8000/8000 [==============================] - 0s 7us/sample - loss: 0.4963 - accuracy: 0.7981 - val_loss: 0.5138 - val_accuracy: 0.7890\n"
    },
    {
     "output_type": "execute_result",
     "data": {
      "text/plain": "<tensorflow.python.keras.callbacks.History at 0x1562d5d10>"
     },
     "metadata": {},
     "execution_count": 108
    }
   ],
   "source": [
    "classifier.fit(X_train, y_train,\n",
    "               validation_data=(X_test, y_test),\n",
    "               epochs=100,\n",
    "               batch_size=200)"
   ]
  },
  {
   "cell_type": "code",
   "execution_count": 109,
   "metadata": {},
   "outputs": [
    {
     "output_type": "stream",
     "name": "stdout",
     "text": "[[0.20227776]\n [0.0753125 ]\n [0.23014206]\n ...\n [0.20357516]\n [0.1756397 ]\n [0.16867915]]\n"
    }
   ],
   "source": [
    "y_pred = classifier.predict(X_test)\n",
    "print(y_pred)"
   ]
  },
  {
   "cell_type": "code",
   "execution_count": 110,
   "metadata": {},
   "outputs": [],
   "source": [
    "y_pred = (y_pred > 0.5)"
   ]
  },
  {
   "cell_type": "code",
   "execution_count": 111,
   "metadata": {},
   "outputs": [
    {
     "output_type": "stream",
     "name": "stdout",
     "text": "[[1578    0]\n [ 422    0]]\n"
    }
   ],
   "source": [
    "cm2 = confusion_matrix(y_test, y_pred)\n",
    "print(cm2)"
   ]
  },
  {
   "cell_type": "code",
   "execution_count": 112,
   "metadata": {},
   "outputs": [
    {
     "output_type": "stream",
     "name": "stdout",
     "text": "78.9 % of testing data was classified correctly\n"
    }
   ],
   "source": [
    "accuracy_model2 = ((cm2[0][0]+cm2[1][1])*100)/(cm2[0][0]+cm2[1][1]+cm2[0][1]+cm2[1][0])\n",
    "print (accuracy_model2, '% of testing data was classified correctly')"
   ]
  }
 ],
 "metadata": {
  "language_info": {
   "codemirror_mode": {
    "name": "ipython",
    "version": 3
   },
   "file_extension": ".py",
   "mimetype": "text/x-python",
   "name": "python",
   "nbconvert_exporter": "python",
   "pygments_lexer": "ipython3",
   "version": "3.7.4-final"
  },
  "orig_nbformat": 2,
  "kernelspec": {
   "name": "python3",
   "display_name": "Python 3"
  }
 },
 "nbformat": 4,
 "nbformat_minor": 2
}