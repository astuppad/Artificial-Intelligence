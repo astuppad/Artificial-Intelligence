{
 "nbformat": 4,
 "nbformat_minor": 2,
 "metadata": {
  "language_info": {
   "name": "python",
   "codemirror_mode": {
    "name": "ipython",
    "version": 3
   },
   "version": "3.7.4-final"
  },
  "orig_nbformat": 2,
  "file_extension": ".py",
  "mimetype": "text/x-python",
  "name": "python",
  "npconvert_exporter": "python",
  "pygments_lexer": "ipython3",
  "version": 3,
  "kernelspec": {
   "name": "python3",
   "display_name": "Python 3"
  }
 },
 "cells": [
  {
   "cell_type": "code",
   "execution_count": 20,
   "metadata": {},
   "outputs": [],
   "source": [
    "import numpy as np\n",
    "import matplotlib\n",
    "import matplotlib.pyplot as plt\n",
    "from sklearn.datasets import fetch_openml\n",
    "from sklearn.metrics import classification_report, confusion_matrix\n",
    "\n",
    "mnist = fetch_openml('mnist_784')\n",
    "inputData, y = mnist[\"data\"], mnist[\"target\"]"
   ]
  },
  {
   "cell_type": "code",
   "execution_count": 21,
   "metadata": {},
   "outputs": [
    {
     "output_type": "stream",
     "name": "stdout",
     "text": "(70000, 784)\n(70000,)\n"
    }
   ],
   "source": [
    "print(inputData.shape)\n",
    "print(y.shape)"
   ]
  },
  {
   "cell_type": "code",
   "execution_count": 22,
   "metadata": {},
   "outputs": [],
   "source": [
    "inputData = inputData / 255\n",
    "nDigits = 10"
   ]
  },
  {
   "cell_type": "code",
   "execution_count": 23,
   "metadata": {},
   "outputs": [],
   "source": [
    "yOneHot= np.zeros([y.shape[0], nDigits])\n",
    "for i in range(y.shape[0]):\n",
    "    yOneHot[i, int(y[i])]\n",
    "\n",
    "y = yOneHot"
   ]
  },
  {
   "cell_type": "code",
   "execution_count": 25,
   "metadata": {},
   "outputs": [
    {
     "output_type": "stream",
     "name": "stdout",
     "text": "(70000, 10)\n"
    }
   ],
   "source": [
    "print(y.shape)"
   ]
  },
  {
   "cell_type": "code",
   "execution_count": 28,
   "metadata": {},
   "outputs": [],
   "source": [
    "m = 60000\n",
    "m_test = inputData.shape[0] - m\n",
    "\n",
    "y_train, y_test = y[:m, :].reshape(m, nDigits), y[m:, :].reshape(m_test, nDigits)\n",
    "InputData_train, InputData_test = inputData[:m,:], inputData[m:,:]\n",
    "np.random.seed(1002)"
   ]
  },
  {
   "cell_type": "code",
   "execution_count": 29,
   "metadata": {},
   "outputs": [
    {
     "output_type": "stream",
     "name": "stdout",
     "text": "[0. 0. 0. 0. 0. 0. 0. 0. 0. 0.]\n"
    },
    {
     "output_type": "display_data",
     "data": {
      "text/plain": "<Figure size 432x288 with 1 Axes>",
      "image/svg+xml": "<?xml version=\"1.0\" encoding=\"utf-8\" standalone=\"no\"?>\n<!DOCTYPE svg PUBLIC \"-//W3C//DTD SVG 1.1//EN\"\n  \"http://www.w3.org/Graphics/SVG/1.1/DTD/svg11.dtd\">\n<!-- Created with matplotlib (https://matplotlib.org/) -->\n<svg height=\"231.84pt\" version=\"1.1\" viewBox=\"0 0 231.84 231.84\" width=\"231.84pt\" xmlns=\"http://www.w3.org/2000/svg\" xmlns:xlink=\"http://www.w3.org/1999/xlink\">\n <defs>\n  <style type=\"text/css\">\n*{stroke-linecap:butt;stroke-linejoin:round;}\n  </style>\n </defs>\n <g id=\"figure_1\">\n  <g id=\"patch_1\">\n   <path d=\"M 0 231.84 \nL 231.84 231.84 \nL 231.84 0 \nL 0 0 \nz\n\" style=\"fill:none;\"/>\n  </g>\n  <g id=\"axes_1\">\n   <g clip-path=\"url(#pe3bc6d40f7)\">\n    <image height=\"218\" id=\"imageb9d9f8b0e9\" transform=\"scale(1 -1)translate(0 -218)\" width=\"218\" x=\"7.2\" xlink:href=\"data:image/png;base64,\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\" y=\"-6.64\"/>\n   </g>\n  </g>\n </g>\n <defs>\n  <clipPath id=\"pe3bc6d40f7\">\n   <rect height=\"217.44\" width=\"217.44\" x=\"7.2\" y=\"7.2\"/>\n  </clipPath>\n </defs>\n</svg>\n",
      "image/png": "[encoded data removed]"
     },
     "metadata": {
      "needs_background": "light"
     }
    }
   ],
   "source": [
    "i = 7000\n",
    "plt.imshow(InputData_train[i, :].reshape(28, 28), cmap = matplotlib.cm.binary)\n",
    "plt.axis(\"off\")\n",
    "print(y_train[i, :])"
   ]
  },
  {
   "cell_type": "code",
   "execution_count": 30,
   "metadata": {},
   "outputs": [],
   "source": [
    "# Define Activation, loss, and their derivative\n",
    "def sigmoid(x):\n",
    "    return 1 / (1 + np.exp(-x)) "
   ]
  },
  {
   "cell_type": "code",
   "execution_count": 31,
   "metadata": {},
   "outputs": [],
   "source": [
    "def sigmoid_derivative(z):\n",
    "    return z * (1 - z)"
   ]
  },
  {
   "cell_type": "code",
   "execution_count": 32,
   "metadata": {},
   "outputs": [],
   "source": [
    "def reLu(x):\n",
    "    return np.maximum(0, x)"
   ]
  },
  {
   "cell_type": "code",
   "execution_count": 33,
   "metadata": {},
   "outputs": [],
   "source": [
    "def reLu_derivative(x):\n",
    "    return 0.5 * (np.sign(x) + 1) # ReLu derivative is either 0 or 1"
   ]
  },
  {
   "cell_type": "code",
   "execution_count": 43,
   "metadata": {},
   "outputs": [],
   "source": [
    "def CrossEntropyLoss(y, y_hat):\n",
    "    L_sum = np.sum(np.multiply(y, np.log(y_hat)))\n",
    "    m = y.shape[1]\n",
    "    L = - (1 / m) * L_sum\n",
    "    return L"
   ]
  },
  {
   "cell_type": "code",
   "execution_count": 45,
   "metadata": {},
   "outputs": [],
   "source": [
    "def softmax(y):\n",
    "    return np.exp(y) / np.sum(np.exp(y), axis = 0)"
   ]
  },
  {
   "cell_type": "code",
   "execution_count": 46,
   "metadata": {},
   "outputs": [],
   "source": [
    "def CE_softmax_derivative(output, ideal_output):\n",
    "    return output - ideal_output"
   ]
  },
  {
   "cell_type": "code",
   "execution_count": null,
   "metadata": {},
   "outputs": [],
   "source": []
  }
 ]
}