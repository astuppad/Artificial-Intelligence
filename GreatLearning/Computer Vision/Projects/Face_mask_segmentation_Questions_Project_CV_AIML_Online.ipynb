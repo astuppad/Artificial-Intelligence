{
  "nbformat": 4,
  "nbformat_minor": 0,
  "metadata": {
    "accelerator": "GPU",
    "colab": {
      "name": "Face_mask_segmentation_Questions_Project_CV_AIML_Online.ipynb",
      "provenance": [],
      "collapsed_sections": []
    },
    "kernelspec": {
      "display_name": "Python 3",
      "language": "python",
      "name": "python3"
    },
    "language_info": {
      "codemirror_mode": {
        "name": "ipython",
        "version": 3
      },
      "file_extension": ".py",
      "mimetype": "text/x-python",
      "name": "python",
      "nbconvert_exporter": "python",
      "pygments_lexer": "ipython3",
      "version": "3.7.4"
    }
  },
  "cells": [
    {
      "cell_type": "markdown",
      "metadata": {
        "colab_type": "text",
        "id": "VvWl3ebqzCc1"
      },
      "source": [
        "# Instructions\n",
        "- Some parts of the code are already done for you\n",
        "- You need to execute all the cells\n",
        "- You need to add the code where ever you see `\"#### Add your code here ####\"`\n",
        "- Marks are mentioned along with the cells"
      ]
    },
    {
      "cell_type": "markdown",
      "metadata": {
        "colab_type": "text",
        "id": "NgR0j5310qqC"
      },
      "source": [
        "# Face Mask Segmentation\n",
        "Task is to predict the boundaries(mask) around the face in a given image."
      ]
    },
    {
      "cell_type": "markdown",
      "metadata": {
        "colab_type": "text",
        "id": "Aa0jyJzw091I"
      },
      "source": [
        "## Dataset\n",
        "Faces in images marked with bounding boxes. Have around 500 images with around 1100 faces manually tagged via bounding box."
      ]
    },
    {
      "cell_type": "markdown",
      "metadata": {
        "colab_type": "text",
        "id": "CjRTlPkp1LC2"
      },
      "source": [
        "### Mount Google drive if you are using google colab\n",
        "- We recommend using Google Colab as you can face memory issues and longer runtimes while running on local"
      ]
    },
    {
      "cell_type": "code",
      "metadata": {
        "colab_type": "code",
        "id": "sBWMoTJ9cf3Z",
        "colab": {
          "base_uri": "https://localhost:8080/",
          "height": 34
        },
        "outputId": "cb8a70e8-bb4f-45e0-8de8-e6283e4e3bb0"
      },
      "source": [
        "from google.colab import drive\n",
        "drive.mount('/content/drive')"
      ],
      "execution_count": 77,
      "outputs": [
        {
          "output_type": "stream",
          "text": [
            "Drive already mounted at /content/drive; to attempt to forcibly remount, call drive.mount(\"/content/drive\", force_remount=True).\n"
          ],
          "name": "stdout"
        }
      ]
    },
    {
      "cell_type": "markdown",
      "metadata": {
        "colab_type": "text",
        "id": "sO9mgMmp13sI"
      },
      "source": [
        "### Change current working directory to project folder (1 mark)"
      ]
    },
    {
      "cell_type": "code",
      "metadata": {
        "colab_type": "code",
        "id": "TddMnf4D1-59",
        "colab": {}
      },
      "source": [
        "import os\n",
        "import tensorflow\n",
        "working_dir = './drive/My Drive/Datasets/'"
      ],
      "execution_count": 78,
      "outputs": []
    },
    {
      "cell_type": "markdown",
      "metadata": {
        "colab_type": "text",
        "id": "3srplE-FEpKa"
      },
      "source": [
        "### Load the \"images.npy\" file (2 marks)\n",
        "- This file contains images with details of bounding boxes"
      ]
    },
    {
      "cell_type": "code",
      "metadata": {
        "colab_type": "code",
        "id": "MqFE_tZDf0sM",
        "colab": {}
      },
      "source": [
        "import numpy as np\n",
        "data = np.load(working_dir + 'face_mask_images.npy', allow_pickle=True)"
      ],
      "execution_count": 79,
      "outputs": []
    },
    {
      "cell_type": "markdown",
      "metadata": {
        "colab_type": "text",
        "id": "_SMP8zliFT7R"
      },
      "source": [
        "### Check one sample from the loaded \"images.npy\" file  (2 marks)\n",
        "Hint - print data[10][1] "
      ]
    },
    {
      "cell_type": "code",
      "metadata": {
        "colab_type": "code",
        "id": "NoqNvPK-iXqG",
        "colab": {
          "base_uri": "https://localhost:8080/",
          "height": 54
        },
        "outputId": "a22beb25-0041-42d6-95d2-58594a348f77"
      },
      "source": [
        "print(\"Image : \", data[10][1])"
      ],
      "execution_count": 80,
      "outputs": [
        {
          "output_type": "stream",
          "text": [
            "Image :  [{'label': ['Face'], 'notes': '', 'points': [{'x': 0.48, 'y': 0.10385756676557864}, {'x': 0.7716666666666666, 'y': 0.6795252225519288}], 'imageWidth': 600, 'imageHeight': 337}]\n"
          ],
          "name": "stdout"
        }
      ]
    },
    {
      "cell_type": "markdown",
      "metadata": {
        "colab_type": "text",
        "id": "m94G4p3CE5Cj"
      },
      "source": [
        "### Set image dimensions   (2 marks)\n",
        "- Initialize image height, image width with value: 224 "
      ]
    },
    {
      "cell_type": "code",
      "metadata": {
        "colab_type": "code",
        "id": "kuZmtOASevDo",
        "colab": {}
      },
      "source": [
        "IMAGE_WIDTH = 224\n",
        "IMAGE_HEIGHT = 224\n",
        "\n",
        "HIEGHT_CELLS = 224\n",
        "WIDTH_CELLS = 224"
      ],
      "execution_count": 81,
      "outputs": []
    },
    {
      "cell_type": "markdown",
      "metadata": {
        "colab_type": "text",
        "id": "wY6FEsCjG47s"
      },
      "source": [
        "### Create features and labels\n",
        "- Here feature is the image\n",
        "- The label is the mask\n",
        "- Images will be stored in \"X_train\" array\n",
        "- Masks will be stored in \"masks\" array"
      ]
    },
    {
      "cell_type": "code",
      "metadata": {
        "colab_type": "code",
        "id": "XjCT9EVTgAvr",
        "colab": {}
      },
      "source": [
        "import cv2\n",
        "from tensorflow.keras.applications.mobilenet import preprocess_input\n",
        "\n",
        "masks = np.zeros((int(data.shape[0]), HIEGHT_CELLS, WIDTH_CELLS))\n",
        "X = np.zeros((int(data.shape[0]), IMAGE_HEIGHT, IMAGE_WIDTH, 3))\n",
        "for index in range(data.shape[0]):\n",
        "    img = data[index][0]\n",
        "    img = cv2.resize(img, dsize=(IMAGE_HEIGHT, IMAGE_WIDTH), interpolation=cv2.INTER_CUBIC)\n",
        "    segimg = img = cv2.resize(img, dsize=(IMAGE_HEIGHT, IMAGE_WIDTH), interpolation=cv2.INTER_CUBIC)\n",
        "    try:\n",
        "      img = img[:, :, :3]\n",
        "    except:\n",
        "      continue\n",
        "    X[index] = preprocess_input(np.array(img, dtype=np.float32))\n",
        "    for i in data[index][1]:\n",
        "        x1 = int(i[\"points\"][0]['x'] * WIDTH_CELLS)\n",
        "        x2 = int(i[\"points\"][1]['x'] * WIDTH_CELLS)\n",
        "        y1 = int(i[\"points\"][0]['y'] * HIEGHT_CELLS)\n",
        "        y2 = int(i[\"points\"][1]['y'] * HIEGHT_CELLS)\n",
        "        masks[index][y1:y2, x1:x2] = 1"
      ],
      "execution_count": 82,
      "outputs": []
    },
    {
      "cell_type": "markdown",
      "metadata": {
        "colab_type": "text",
        "id": "N3AYbP79bFtJ"
      },
      "source": [
        "### Print the shape of X_train and mask array  (2 marks)"
      ]
    },
    {
      "cell_type": "code",
      "metadata": {
        "colab_type": "code",
        "id": "3PIRaEdWIjDa",
        "colab": {
          "base_uri": "https://localhost:8080/",
          "height": 34
        },
        "outputId": "e4518857-f99f-4c58-977f-b029269603f2"
      },
      "source": [
        "print(\"Shape of X: \", X.shape)\n",
        "# Total found 409 images with 224X224 with RGB color"
      ],
      "execution_count": 83,
      "outputs": [
        {
          "output_type": "stream",
          "text": [
            "Shape of X:  (409, 224, 224, 3)\n"
          ],
          "name": "stdout"
        }
      ]
    },
    {
      "cell_type": "code",
      "metadata": {
        "colab_type": "code",
        "id": "Gw6uH5DxgI_r",
        "colab": {
          "base_uri": "https://localhost:8080/",
          "height": 34
        },
        "outputId": "a1c7c8bd-bb15-4924-d22e-ff1b63e5ccdb"
      },
      "source": [
        "print(\"Shape of mask\", masks.shape)"
      ],
      "execution_count": 84,
      "outputs": [
        {
          "output_type": "stream",
          "text": [
            "Shape of mask (409, 224, 224)\n"
          ],
          "name": "stdout"
        }
      ]
    },
    {
      "cell_type": "markdown",
      "metadata": {
        "colab_type": "text",
        "id": "R4wgkWq1bk5F"
      },
      "source": [
        "### Print a sample image and image array"
      ]
    },
    {
      "cell_type": "code",
      "metadata": {
        "colab_type": "code",
        "id": "qfRZjQufj0N9",
        "colab": {
          "base_uri": "https://localhost:8080/",
          "height": 1000
        },
        "outputId": "a52c0fe2-75d4-4070-93b4-71ffc8a76e11"
      },
      "source": [
        "from matplotlib import pyplot\n",
        "n = 10\n",
        "print(X[n])\n",
        "pyplot.imshow(X[n])"
      ],
      "execution_count": 85,
      "outputs": [
        {
          "output_type": "stream",
          "text": [
            "Clipping input data to the valid range for imshow with RGB data ([0..1] for floats or [0..255] for integers).\n"
          ],
          "name": "stderr"
        },
        {
          "output_type": "stream",
          "text": [
            "[[[-0.98431373 -0.98431373 -0.98431373]\n",
            "  [-0.98431373 -0.98431373 -0.98431373]\n",
            "  [-0.98431373 -0.98431373 -0.98431373]\n",
            "  ...\n",
            "  [-1.         -1.         -1.        ]\n",
            "  [-1.         -1.         -1.        ]\n",
            "  [-1.         -1.         -1.        ]]\n",
            "\n",
            " [[-0.98431373 -0.98431373 -0.98431373]\n",
            "  [-0.98431373 -0.98431373 -0.98431373]\n",
            "  [-0.98431373 -0.98431373 -0.98431373]\n",
            "  ...\n",
            "  [-1.         -1.         -1.        ]\n",
            "  [-1.         -1.         -1.        ]\n",
            "  [-1.         -1.         -1.        ]]\n",
            "\n",
            " [[-0.98431373 -0.98431373 -0.98431373]\n",
            "  [-0.98431373 -0.98431373 -0.98431373]\n",
            "  [-0.98431373 -0.98431373 -0.98431373]\n",
            "  ...\n",
            "  [-1.         -1.         -1.        ]\n",
            "  [-1.         -1.         -1.        ]\n",
            "  [-1.         -1.         -1.        ]]\n",
            "\n",
            " ...\n",
            "\n",
            " [[-1.         -1.         -1.        ]\n",
            "  [-1.         -1.         -1.        ]\n",
            "  [-1.         -1.         -1.        ]\n",
            "  ...\n",
            "  [-0.96862745 -0.96862745 -0.96862745]\n",
            "  [-0.96078432 -0.96078432 -0.96078432]\n",
            "  [-0.96078432 -0.96078432 -0.96078432]]\n",
            "\n",
            " [[-1.         -1.         -1.        ]\n",
            "  [-1.         -1.         -1.        ]\n",
            "  [-1.         -1.         -1.        ]\n",
            "  ...\n",
            "  [-0.96862745 -0.96862745 -0.96862745]\n",
            "  [-0.96078432 -0.96078432 -0.96078432]\n",
            "  [-0.95294118 -0.95294118 -0.95294118]]\n",
            "\n",
            " [[-1.         -1.         -1.        ]\n",
            "  [-1.         -1.         -1.        ]\n",
            "  [-1.         -1.         -1.        ]\n",
            "  ...\n",
            "  [-0.97647059 -0.97647059 -0.97647059]\n",
            "  [-0.96862745 -0.96862745 -0.96862745]\n",
            "  [-0.96078432 -0.96078432 -0.96078432]]]\n"
          ],
          "name": "stdout"
        },
        {
          "output_type": "execute_result",
          "data": {
            "text/plain": [
              "<matplotlib.image.AxesImage at 0x7f882cebfda0>"
            ]
          },
          "metadata": {
            "tags": []
          },
          "execution_count": 85
        },
        {
          "output_type": "display_data",
          "data": {
            "image/png": "[encoded data removed]",
            "text/plain": [
              "<Figure size 432x288 with 1 Axes>"
            ]
          },
          "metadata": {
            "tags": [],
            "needs_background": "light"
          }
        }
      ]
    },
    {
      "cell_type": "code",
      "metadata": {
        "colab_type": "code",
        "id": "983gGKcwlSe8",
        "colab": {
          "base_uri": "https://localhost:8080/",
          "height": 286
        },
        "outputId": "1a462c62-7cc2-49e2-833e-dc9377dd1e2a"
      },
      "source": [
        "pyplot.imshow(masks[n])"
      ],
      "execution_count": 86,
      "outputs": [
        {
          "output_type": "execute_result",
          "data": {
            "text/plain": [
              "<matplotlib.image.AxesImage at 0x7f88a32698d0>"
            ]
          },
          "metadata": {
            "tags": []
          },
          "execution_count": 86
        },
        {
          "output_type": "display_data",
          "data": {
            "image/png": "[encoded data removed]",
            "text/plain": [
              "<Figure size 432x288 with 1 Axes>"
            ]
          },
          "metadata": {
            "tags": [],
            "needs_background": "light"
          }
        }
      ]
    },
    {
      "cell_type": "markdown",
      "metadata": {
        "colab_type": "text",
        "id": "Z0Qa1UOue9TE"
      },
      "source": [
        "## Create the model (10 marks)\n",
        "- Add MobileNet as model with below parameter values\n",
        "  - input_shape: IMAGE_HEIGHT, IMAGE_WIDTH, 3\n",
        "  - include_top: False\n",
        "  - alpha: 1.0\n",
        "  - weights: \"imagenet\"\n",
        "- Add UNET architecture layers\n",
        "  - This is the trickiest part of the project, you need to research and implement it correctly"
      ]
    },
    {
      "cell_type": "code",
      "metadata": {
        "id": "4RxBApvq5fLF",
        "colab_type": "code",
        "colab": {}
      },
      "source": [
        "ALPHA = 1.0"
      ],
      "execution_count": 87,
      "outputs": []
    },
    {
      "cell_type": "code",
      "metadata": {
        "colab_type": "code",
        "id": "BTVYOvANrUVx",
        "colab": {}
      },
      "source": [
        "# from tensorflow.keras.applications.mobilenet import MobileNet\n",
        "# from tensorflow.keras.layers import Concatenate, UpSampling2D, Conv2D, Reshape\n",
        "# from tensorflow.keras.models import Model\n",
        "\n",
        "\n",
        "# def create_model(trainable=True):\n",
        "#     model = MobileNet(input_shape=(IMAGE_HEIGHT, IMAGE_WIDTH, 3), include_top=False, alpha=ALPHA, weights=\"imagenet\")\n",
        "#     for layer in model.layers:\n",
        "#         layer.trainable = trainable\n",
        "\n",
        "#     block1 = model.get_layer(\"conv_pw_5_relu\").output\n",
        "#     block2 = model.get_layer(\"conv_pw_11_relu\").output\n",
        "#     block3 = model.get_layer(\"conv_pw_13_relu\").output\n",
        "\n",
        "#     x = Concatenate()([UpSampling2D()(block3), block2])\n",
        "#     x = Concatenate()([UpSampling2D()(x), block1])\n",
        "\n",
        "#     x = Conv2D(1, kernel_size=1, activation=\"sigmoid\")(x)\n",
        "#     x = Reshape((HIEGHT_CELLS, WIDTH_CELLS))(x)\n",
        "\n",
        "#     return Model(inputs = model.input, outputs = x)"
      ],
      "execution_count": 88,
      "outputs": []
    },
    {
      "cell_type": "code",
      "metadata": {
        "id": "J2tdANpCelXi",
        "colab_type": "code",
        "colab": {
          "base_uri": "https://localhost:8080/",
          "height": 507
        },
        "outputId": "4bd587a6-f25d-40ef-8944-1eafb3f730a9"
      },
      "source": [
        "!pip install git+https://github.com/qubvel/segmentation_models"
      ],
      "execution_count": 89,
      "outputs": [
        {
          "output_type": "stream",
          "text": [
            "Collecting git+https://github.com/qubvel/segmentation_models\n",
            "  Cloning https://github.com/qubvel/segmentation_models to /tmp/pip-req-build-m1jea_hd\n",
            "  Running command git clone -q https://github.com/qubvel/segmentation_models /tmp/pip-req-build-m1jea_hd\n",
            "  Running command git submodule update --init --recursive -q\n",
            "Requirement already satisfied (use --upgrade to upgrade): segmentation-models==1.0.1 from git+https://github.com/qubvel/segmentation_models in /usr/local/lib/python3.6/dist-packages\n",
            "Requirement already satisfied: keras_applications<=1.0.8,>=1.0.7 in /usr/local/lib/python3.6/dist-packages (from segmentation-models==1.0.1) (1.0.8)\n",
            "Requirement already satisfied: image-classifiers==1.0.0 in /usr/local/lib/python3.6/dist-packages (from segmentation-models==1.0.1) (1.0.0)\n",
            "Requirement already satisfied: efficientnet==1.0.0 in /usr/local/lib/python3.6/dist-packages (from segmentation-models==1.0.1) (1.0.0)\n",
            "Requirement already satisfied: h5py in /usr/local/lib/python3.6/dist-packages (from keras_applications<=1.0.8,>=1.0.7->segmentation-models==1.0.1) (2.10.0)\n",
            "Requirement already satisfied: numpy>=1.9.1 in /usr/local/lib/python3.6/dist-packages (from keras_applications<=1.0.8,>=1.0.7->segmentation-models==1.0.1) (1.18.5)\n",
            "Requirement already satisfied: scikit-image in /usr/local/lib/python3.6/dist-packages (from efficientnet==1.0.0->segmentation-models==1.0.1) (0.16.2)\n",
            "Requirement already satisfied: six in /usr/local/lib/python3.6/dist-packages (from h5py->keras_applications<=1.0.8,>=1.0.7->segmentation-models==1.0.1) (1.12.0)\n",
            "Requirement already satisfied: scipy>=0.19.0 in /usr/local/lib/python3.6/dist-packages (from scikit-image->efficientnet==1.0.0->segmentation-models==1.0.1) (1.4.1)\n",
            "Requirement already satisfied: matplotlib!=3.0.0,>=2.0.0 in /usr/local/lib/python3.6/dist-packages (from scikit-image->efficientnet==1.0.0->segmentation-models==1.0.1) (3.2.1)\n",
            "Requirement already satisfied: imageio>=2.3.0 in /usr/local/lib/python3.6/dist-packages (from scikit-image->efficientnet==1.0.0->segmentation-models==1.0.1) (2.4.1)\n",
            "Requirement already satisfied: PyWavelets>=0.4.0 in /usr/local/lib/python3.6/dist-packages (from scikit-image->efficientnet==1.0.0->segmentation-models==1.0.1) (1.1.1)\n",
            "Requirement already satisfied: networkx>=2.0 in /usr/local/lib/python3.6/dist-packages (from scikit-image->efficientnet==1.0.0->segmentation-models==1.0.1) (2.4)\n",
            "Requirement already satisfied: pillow>=4.3.0 in /usr/local/lib/python3.6/dist-packages (from scikit-image->efficientnet==1.0.0->segmentation-models==1.0.1) (7.0.0)\n",
            "Requirement already satisfied: cycler>=0.10 in /usr/local/lib/python3.6/dist-packages (from matplotlib!=3.0.0,>=2.0.0->scikit-image->efficientnet==1.0.0->segmentation-models==1.0.1) (0.10.0)\n",
            "Requirement already satisfied: kiwisolver>=1.0.1 in /usr/local/lib/python3.6/dist-packages (from matplotlib!=3.0.0,>=2.0.0->scikit-image->efficientnet==1.0.0->segmentation-models==1.0.1) (1.2.0)\n",
            "Requirement already satisfied: pyparsing!=2.0.4,!=2.1.2,!=2.1.6,>=2.0.1 in /usr/local/lib/python3.6/dist-packages (from matplotlib!=3.0.0,>=2.0.0->scikit-image->efficientnet==1.0.0->segmentation-models==1.0.1) (2.4.7)\n",
            "Requirement already satisfied: python-dateutil>=2.1 in /usr/local/lib/python3.6/dist-packages (from matplotlib!=3.0.0,>=2.0.0->scikit-image->efficientnet==1.0.0->segmentation-models==1.0.1) (2.8.1)\n",
            "Requirement already satisfied: decorator>=4.3.0 in /usr/local/lib/python3.6/dist-packages (from networkx>=2.0->scikit-image->efficientnet==1.0.0->segmentation-models==1.0.1) (4.4.2)\n",
            "Building wheels for collected packages: segmentation-models\n",
            "  Building wheel for segmentation-models (setup.py) ... \u001b[?25l\u001b[?25hdone\n",
            "  Created wheel for segmentation-models: filename=segmentation_models-1.0.1-cp36-none-any.whl size=33792 sha256=0e460a901108c4afda7af6a9346c7ba24144fa7759d74921235d390b0b231549\n",
            "  Stored in directory: /tmp/pip-ephem-wheel-cache-cam2klxt/wheels/49/cf/46/cbb4bb64518c402aea99df9d466f1081450597e653256bbcf4\n",
            "Successfully built segmentation-models\n"
          ],
          "name": "stdout"
        }
      ]
    },
    {
      "cell_type": "code",
      "metadata": {
        "id": "hP4hP0_tRm9D",
        "colab_type": "code",
        "colab": {}
      },
      "source": [
        "from segmentation_models import Unet\n",
        "from tensorflow.keras.layers import Concatenate, UpSampling2D, Conv2D, Reshape\n",
        "from tensorflow.keras.models import Model\n",
        "from tensorflow.keras.layers import Input\n",
        "\n",
        "N = X.shape[-1]\n",
        "def create_model(trainable=True):\n",
        "  model = Unet(backbone_name = 'resnet34', encoder_weights='imagenet', input_shape=(IMAGE_HEIGHT, IMAGE_WIDTH, 3))\n",
        "  return model"
      ],
      "execution_count": 179,
      "outputs": []
    },
    {
      "cell_type": "markdown",
      "metadata": {
        "colab_type": "text",
        "id": "_snZ9o0ZBAiv"
      },
      "source": [
        "### Call the create_model function"
      ]
    },
    {
      "cell_type": "code",
      "metadata": {
        "colab_type": "code",
        "id": "9TfSSP51uPoO",
        "colab": {
          "base_uri": "https://localhost:8080/",
          "height": 1000
        },
        "outputId": "90039e9e-cfce-494c-c654-231f0a19ae12"
      },
      "source": [
        "# Give trainable=False as argument, if you want to freeze lower layers for fast training (but low accuracy)\n",
        "model = create_model(False)\n",
        "\n",
        "# Print summary\n",
        "model.summary()"
      ],
      "execution_count": 180,
      "outputs": [
        {
          "output_type": "stream",
          "text": [
            "Model: \"model_10\"\n",
            "__________________________________________________________________________________________________\n",
            "Layer (type)                    Output Shape         Param #     Connected to                     \n",
            "==================================================================================================\n",
            "data (InputLayer)               (None, 224, 224, 3)  0                                            \n",
            "__________________________________________________________________________________________________\n",
            "bn_data (BatchNormalization)    (None, 224, 224, 3)  9           data[0][0]                       \n",
            "__________________________________________________________________________________________________\n",
            "zero_padding2d_155 (ZeroPadding (None, 230, 230, 3)  0           bn_data[0][0]                    \n",
            "__________________________________________________________________________________________________\n",
            "conv0 (Conv2D)                  (None, 112, 112, 64) 9408        zero_padding2d_155[0][0]         \n",
            "__________________________________________________________________________________________________\n",
            "bn0 (BatchNormalization)        (None, 112, 112, 64) 256         conv0[0][0]                      \n",
            "__________________________________________________________________________________________________\n",
            "relu0 (Activation)              (None, 112, 112, 64) 0           bn0[0][0]                        \n",
            "__________________________________________________________________________________________________\n",
            "zero_padding2d_156 (ZeroPadding (None, 114, 114, 64) 0           relu0[0][0]                      \n",
            "__________________________________________________________________________________________________\n",
            "pooling0 (MaxPooling2D)         (None, 56, 56, 64)   0           zero_padding2d_156[0][0]         \n",
            "__________________________________________________________________________________________________\n",
            "stage1_unit1_bn1 (BatchNormaliz (None, 56, 56, 64)   256         pooling0[0][0]                   \n",
            "__________________________________________________________________________________________________\n",
            "stage1_unit1_relu1 (Activation) (None, 56, 56, 64)   0           stage1_unit1_bn1[0][0]           \n",
            "__________________________________________________________________________________________________\n",
            "zero_padding2d_157 (ZeroPadding (None, 58, 58, 64)   0           stage1_unit1_relu1[0][0]         \n",
            "__________________________________________________________________________________________________\n",
            "stage1_unit1_conv1 (Conv2D)     (None, 56, 56, 64)   36864       zero_padding2d_157[0][0]         \n",
            "__________________________________________________________________________________________________\n",
            "stage1_unit1_bn2 (BatchNormaliz (None, 56, 56, 64)   256         stage1_unit1_conv1[0][0]         \n",
            "__________________________________________________________________________________________________\n",
            "stage1_unit1_relu2 (Activation) (None, 56, 56, 64)   0           stage1_unit1_bn2[0][0]           \n",
            "__________________________________________________________________________________________________\n",
            "zero_padding2d_158 (ZeroPadding (None, 58, 58, 64)   0           stage1_unit1_relu2[0][0]         \n",
            "__________________________________________________________________________________________________\n",
            "stage1_unit1_conv2 (Conv2D)     (None, 56, 56, 64)   36864       zero_padding2d_158[0][0]         \n",
            "__________________________________________________________________________________________________\n",
            "stage1_unit1_sc (Conv2D)        (None, 56, 56, 64)   4096        stage1_unit1_relu1[0][0]         \n",
            "__________________________________________________________________________________________________\n",
            "add_99 (Add)                    (None, 56, 56, 64)   0           stage1_unit1_conv2[0][0]         \n",
            "                                                                 stage1_unit1_sc[0][0]            \n",
            "__________________________________________________________________________________________________\n",
            "stage1_unit2_bn1 (BatchNormaliz (None, 56, 56, 64)   256         add_99[0][0]                     \n",
            "__________________________________________________________________________________________________\n",
            "stage1_unit2_relu1 (Activation) (None, 56, 56, 64)   0           stage1_unit2_bn1[0][0]           \n",
            "__________________________________________________________________________________________________\n",
            "zero_padding2d_159 (ZeroPadding (None, 58, 58, 64)   0           stage1_unit2_relu1[0][0]         \n",
            "__________________________________________________________________________________________________\n",
            "stage1_unit2_conv1 (Conv2D)     (None, 56, 56, 64)   36864       zero_padding2d_159[0][0]         \n",
            "__________________________________________________________________________________________________\n",
            "stage1_unit2_bn2 (BatchNormaliz (None, 56, 56, 64)   256         stage1_unit2_conv1[0][0]         \n",
            "__________________________________________________________________________________________________\n",
            "stage1_unit2_relu2 (Activation) (None, 56, 56, 64)   0           stage1_unit2_bn2[0][0]           \n",
            "__________________________________________________________________________________________________\n",
            "zero_padding2d_160 (ZeroPadding (None, 58, 58, 64)   0           stage1_unit2_relu2[0][0]         \n",
            "__________________________________________________________________________________________________\n",
            "stage1_unit2_conv2 (Conv2D)     (None, 56, 56, 64)   36864       zero_padding2d_160[0][0]         \n",
            "__________________________________________________________________________________________________\n",
            "add_100 (Add)                   (None, 56, 56, 64)   0           stage1_unit2_conv2[0][0]         \n",
            "                                                                 add_99[0][0]                     \n",
            "__________________________________________________________________________________________________\n",
            "stage1_unit3_bn1 (BatchNormaliz (None, 56, 56, 64)   256         add_100[0][0]                    \n",
            "__________________________________________________________________________________________________\n",
            "stage1_unit3_relu1 (Activation) (None, 56, 56, 64)   0           stage1_unit3_bn1[0][0]           \n",
            "__________________________________________________________________________________________________\n",
            "zero_padding2d_161 (ZeroPadding (None, 58, 58, 64)   0           stage1_unit3_relu1[0][0]         \n",
            "__________________________________________________________________________________________________\n",
            "stage1_unit3_conv1 (Conv2D)     (None, 56, 56, 64)   36864       zero_padding2d_161[0][0]         \n",
            "__________________________________________________________________________________________________\n",
            "stage1_unit3_bn2 (BatchNormaliz (None, 56, 56, 64)   256         stage1_unit3_conv1[0][0]         \n",
            "__________________________________________________________________________________________________\n",
            "stage1_unit3_relu2 (Activation) (None, 56, 56, 64)   0           stage1_unit3_bn2[0][0]           \n",
            "__________________________________________________________________________________________________\n",
            "zero_padding2d_162 (ZeroPadding (None, 58, 58, 64)   0           stage1_unit3_relu2[0][0]         \n",
            "__________________________________________________________________________________________________\n",
            "stage1_unit3_conv2 (Conv2D)     (None, 56, 56, 64)   36864       zero_padding2d_162[0][0]         \n",
            "__________________________________________________________________________________________________\n",
            "add_101 (Add)                   (None, 56, 56, 64)   0           stage1_unit3_conv2[0][0]         \n",
            "                                                                 add_100[0][0]                    \n",
            "__________________________________________________________________________________________________\n",
            "stage2_unit1_bn1 (BatchNormaliz (None, 56, 56, 64)   256         add_101[0][0]                    \n",
            "__________________________________________________________________________________________________\n",
            "stage2_unit1_relu1 (Activation) (None, 56, 56, 64)   0           stage2_unit1_bn1[0][0]           \n",
            "__________________________________________________________________________________________________\n",
            "zero_padding2d_163 (ZeroPadding (None, 58, 58, 64)   0           stage2_unit1_relu1[0][0]         \n",
            "__________________________________________________________________________________________________\n",
            "stage2_unit1_conv1 (Conv2D)     (None, 28, 28, 128)  73728       zero_padding2d_163[0][0]         \n",
            "__________________________________________________________________________________________________\n",
            "stage2_unit1_bn2 (BatchNormaliz (None, 28, 28, 128)  512         stage2_unit1_conv1[0][0]         \n",
            "__________________________________________________________________________________________________\n",
            "stage2_unit1_relu2 (Activation) (None, 28, 28, 128)  0           stage2_unit1_bn2[0][0]           \n",
            "__________________________________________________________________________________________________\n",
            "zero_padding2d_164 (ZeroPadding (None, 30, 30, 128)  0           stage2_unit1_relu2[0][0]         \n",
            "__________________________________________________________________________________________________\n",
            "stage2_unit1_conv2 (Conv2D)     (None, 28, 28, 128)  147456      zero_padding2d_164[0][0]         \n",
            "__________________________________________________________________________________________________\n",
            "stage2_unit1_sc (Conv2D)        (None, 28, 28, 128)  8192        stage2_unit1_relu1[0][0]         \n",
            "__________________________________________________________________________________________________\n",
            "add_102 (Add)                   (None, 28, 28, 128)  0           stage2_unit1_conv2[0][0]         \n",
            "                                                                 stage2_unit1_sc[0][0]            \n",
            "__________________________________________________________________________________________________\n",
            "stage2_unit2_bn1 (BatchNormaliz (None, 28, 28, 128)  512         add_102[0][0]                    \n",
            "__________________________________________________________________________________________________\n",
            "stage2_unit2_relu1 (Activation) (None, 28, 28, 128)  0           stage2_unit2_bn1[0][0]           \n",
            "__________________________________________________________________________________________________\n",
            "zero_padding2d_165 (ZeroPadding (None, 30, 30, 128)  0           stage2_unit2_relu1[0][0]         \n",
            "__________________________________________________________________________________________________\n",
            "stage2_unit2_conv1 (Conv2D)     (None, 28, 28, 128)  147456      zero_padding2d_165[0][0]         \n",
            "__________________________________________________________________________________________________\n",
            "stage2_unit2_bn2 (BatchNormaliz (None, 28, 28, 128)  512         stage2_unit2_conv1[0][0]         \n",
            "__________________________________________________________________________________________________\n",
            "stage2_unit2_relu2 (Activation) (None, 28, 28, 128)  0           stage2_unit2_bn2[0][0]           \n",
            "__________________________________________________________________________________________________\n",
            "zero_padding2d_166 (ZeroPadding (None, 30, 30, 128)  0           stage2_unit2_relu2[0][0]         \n",
            "__________________________________________________________________________________________________\n",
            "stage2_unit2_conv2 (Conv2D)     (None, 28, 28, 128)  147456      zero_padding2d_166[0][0]         \n",
            "__________________________________________________________________________________________________\n",
            "add_103 (Add)                   (None, 28, 28, 128)  0           stage2_unit2_conv2[0][0]         \n",
            "                                                                 add_102[0][0]                    \n",
            "__________________________________________________________________________________________________\n",
            "stage2_unit3_bn1 (BatchNormaliz (None, 28, 28, 128)  512         add_103[0][0]                    \n",
            "__________________________________________________________________________________________________\n",
            "stage2_unit3_relu1 (Activation) (None, 28, 28, 128)  0           stage2_unit3_bn1[0][0]           \n",
            "__________________________________________________________________________________________________\n",
            "zero_padding2d_167 (ZeroPadding (None, 30, 30, 128)  0           stage2_unit3_relu1[0][0]         \n",
            "__________________________________________________________________________________________________\n",
            "stage2_unit3_conv1 (Conv2D)     (None, 28, 28, 128)  147456      zero_padding2d_167[0][0]         \n",
            "__________________________________________________________________________________________________\n",
            "stage2_unit3_bn2 (BatchNormaliz (None, 28, 28, 128)  512         stage2_unit3_conv1[0][0]         \n",
            "__________________________________________________________________________________________________\n",
            "stage2_unit3_relu2 (Activation) (None, 28, 28, 128)  0           stage2_unit3_bn2[0][0]           \n",
            "__________________________________________________________________________________________________\n",
            "zero_padding2d_168 (ZeroPadding (None, 30, 30, 128)  0           stage2_unit3_relu2[0][0]         \n",
            "__________________________________________________________________________________________________\n",
            "stage2_unit3_conv2 (Conv2D)     (None, 28, 28, 128)  147456      zero_padding2d_168[0][0]         \n",
            "__________________________________________________________________________________________________\n",
            "add_104 (Add)                   (None, 28, 28, 128)  0           stage2_unit3_conv2[0][0]         \n",
            "                                                                 add_103[0][0]                    \n",
            "__________________________________________________________________________________________________\n",
            "stage2_unit4_bn1 (BatchNormaliz (None, 28, 28, 128)  512         add_104[0][0]                    \n",
            "__________________________________________________________________________________________________\n",
            "stage2_unit4_relu1 (Activation) (None, 28, 28, 128)  0           stage2_unit4_bn1[0][0]           \n",
            "__________________________________________________________________________________________________\n",
            "zero_padding2d_169 (ZeroPadding (None, 30, 30, 128)  0           stage2_unit4_relu1[0][0]         \n",
            "__________________________________________________________________________________________________\n",
            "stage2_unit4_conv1 (Conv2D)     (None, 28, 28, 128)  147456      zero_padding2d_169[0][0]         \n",
            "__________________________________________________________________________________________________\n",
            "stage2_unit4_bn2 (BatchNormaliz (None, 28, 28, 128)  512         stage2_unit4_conv1[0][0]         \n",
            "__________________________________________________________________________________________________\n",
            "stage2_unit4_relu2 (Activation) (None, 28, 28, 128)  0           stage2_unit4_bn2[0][0]           \n",
            "__________________________________________________________________________________________________\n",
            "zero_padding2d_170 (ZeroPadding (None, 30, 30, 128)  0           stage2_unit4_relu2[0][0]         \n",
            "__________________________________________________________________________________________________\n",
            "stage2_unit4_conv2 (Conv2D)     (None, 28, 28, 128)  147456      zero_padding2d_170[0][0]         \n",
            "__________________________________________________________________________________________________\n",
            "add_105 (Add)                   (None, 28, 28, 128)  0           stage2_unit4_conv2[0][0]         \n",
            "                                                                 add_104[0][0]                    \n",
            "__________________________________________________________________________________________________\n",
            "stage3_unit1_bn1 (BatchNormaliz (None, 28, 28, 128)  512         add_105[0][0]                    \n",
            "__________________________________________________________________________________________________\n",
            "stage3_unit1_relu1 (Activation) (None, 28, 28, 128)  0           stage3_unit1_bn1[0][0]           \n",
            "__________________________________________________________________________________________________\n",
            "zero_padding2d_171 (ZeroPadding (None, 30, 30, 128)  0           stage3_unit1_relu1[0][0]         \n",
            "__________________________________________________________________________________________________\n",
            "stage3_unit1_conv1 (Conv2D)     (None, 14, 14, 256)  294912      zero_padding2d_171[0][0]         \n",
            "__________________________________________________________________________________________________\n",
            "stage3_unit1_bn2 (BatchNormaliz (None, 14, 14, 256)  1024        stage3_unit1_conv1[0][0]         \n",
            "__________________________________________________________________________________________________\n",
            "stage3_unit1_relu2 (Activation) (None, 14, 14, 256)  0           stage3_unit1_bn2[0][0]           \n",
            "__________________________________________________________________________________________________\n",
            "zero_padding2d_172 (ZeroPadding (None, 16, 16, 256)  0           stage3_unit1_relu2[0][0]         \n",
            "__________________________________________________________________________________________________\n",
            "stage3_unit1_conv2 (Conv2D)     (None, 14, 14, 256)  589824      zero_padding2d_172[0][0]         \n",
            "__________________________________________________________________________________________________\n",
            "stage3_unit1_sc (Conv2D)        (None, 14, 14, 256)  32768       stage3_unit1_relu1[0][0]         \n",
            "__________________________________________________________________________________________________\n",
            "add_106 (Add)                   (None, 14, 14, 256)  0           stage3_unit1_conv2[0][0]         \n",
            "                                                                 stage3_unit1_sc[0][0]            \n",
            "__________________________________________________________________________________________________\n",
            "stage3_unit2_bn1 (BatchNormaliz (None, 14, 14, 256)  1024        add_106[0][0]                    \n",
            "__________________________________________________________________________________________________\n",
            "stage3_unit2_relu1 (Activation) (None, 14, 14, 256)  0           stage3_unit2_bn1[0][0]           \n",
            "__________________________________________________________________________________________________\n",
            "zero_padding2d_173 (ZeroPadding (None, 16, 16, 256)  0           stage3_unit2_relu1[0][0]         \n",
            "__________________________________________________________________________________________________\n",
            "stage3_unit2_conv1 (Conv2D)     (None, 14, 14, 256)  589824      zero_padding2d_173[0][0]         \n",
            "__________________________________________________________________________________________________\n",
            "stage3_unit2_bn2 (BatchNormaliz (None, 14, 14, 256)  1024        stage3_unit2_conv1[0][0]         \n",
            "__________________________________________________________________________________________________\n",
            "stage3_unit2_relu2 (Activation) (None, 14, 14, 256)  0           stage3_unit2_bn2[0][0]           \n",
            "__________________________________________________________________________________________________\n",
            "zero_padding2d_174 (ZeroPadding (None, 16, 16, 256)  0           stage3_unit2_relu2[0][0]         \n",
            "__________________________________________________________________________________________________\n",
            "stage3_unit2_conv2 (Conv2D)     (None, 14, 14, 256)  589824      zero_padding2d_174[0][0]         \n",
            "__________________________________________________________________________________________________\n",
            "add_107 (Add)                   (None, 14, 14, 256)  0           stage3_unit2_conv2[0][0]         \n",
            "                                                                 add_106[0][0]                    \n",
            "__________________________________________________________________________________________________\n",
            "stage3_unit3_bn1 (BatchNormaliz (None, 14, 14, 256)  1024        add_107[0][0]                    \n",
            "__________________________________________________________________________________________________\n",
            "stage3_unit3_relu1 (Activation) (None, 14, 14, 256)  0           stage3_unit3_bn1[0][0]           \n",
            "__________________________________________________________________________________________________\n",
            "zero_padding2d_175 (ZeroPadding (None, 16, 16, 256)  0           stage3_unit3_relu1[0][0]         \n",
            "__________________________________________________________________________________________________\n",
            "stage3_unit3_conv1 (Conv2D)     (None, 14, 14, 256)  589824      zero_padding2d_175[0][0]         \n",
            "__________________________________________________________________________________________________\n",
            "stage3_unit3_bn2 (BatchNormaliz (None, 14, 14, 256)  1024        stage3_unit3_conv1[0][0]         \n",
            "__________________________________________________________________________________________________\n",
            "stage3_unit3_relu2 (Activation) (None, 14, 14, 256)  0           stage3_unit3_bn2[0][0]           \n",
            "__________________________________________________________________________________________________\n",
            "zero_padding2d_176 (ZeroPadding (None, 16, 16, 256)  0           stage3_unit3_relu2[0][0]         \n",
            "__________________________________________________________________________________________________\n",
            "stage3_unit3_conv2 (Conv2D)     (None, 14, 14, 256)  589824      zero_padding2d_176[0][0]         \n",
            "__________________________________________________________________________________________________\n",
            "add_108 (Add)                   (None, 14, 14, 256)  0           stage3_unit3_conv2[0][0]         \n",
            "                                                                 add_107[0][0]                    \n",
            "__________________________________________________________________________________________________\n",
            "stage3_unit4_bn1 (BatchNormaliz (None, 14, 14, 256)  1024        add_108[0][0]                    \n",
            "__________________________________________________________________________________________________\n",
            "stage3_unit4_relu1 (Activation) (None, 14, 14, 256)  0           stage3_unit4_bn1[0][0]           \n",
            "__________________________________________________________________________________________________\n",
            "zero_padding2d_177 (ZeroPadding (None, 16, 16, 256)  0           stage3_unit4_relu1[0][0]         \n",
            "__________________________________________________________________________________________________\n",
            "stage3_unit4_conv1 (Conv2D)     (None, 14, 14, 256)  589824      zero_padding2d_177[0][0]         \n",
            "__________________________________________________________________________________________________\n",
            "stage3_unit4_bn2 (BatchNormaliz (None, 14, 14, 256)  1024        stage3_unit4_conv1[0][0]         \n",
            "__________________________________________________________________________________________________\n",
            "stage3_unit4_relu2 (Activation) (None, 14, 14, 256)  0           stage3_unit4_bn2[0][0]           \n",
            "__________________________________________________________________________________________________\n",
            "zero_padding2d_178 (ZeroPadding (None, 16, 16, 256)  0           stage3_unit4_relu2[0][0]         \n",
            "__________________________________________________________________________________________________\n",
            "stage3_unit4_conv2 (Conv2D)     (None, 14, 14, 256)  589824      zero_padding2d_178[0][0]         \n",
            "__________________________________________________________________________________________________\n",
            "add_109 (Add)                   (None, 14, 14, 256)  0           stage3_unit4_conv2[0][0]         \n",
            "                                                                 add_108[0][0]                    \n",
            "__________________________________________________________________________________________________\n",
            "stage3_unit5_bn1 (BatchNormaliz (None, 14, 14, 256)  1024        add_109[0][0]                    \n",
            "__________________________________________________________________________________________________\n",
            "stage3_unit5_relu1 (Activation) (None, 14, 14, 256)  0           stage3_unit5_bn1[0][0]           \n",
            "__________________________________________________________________________________________________\n",
            "zero_padding2d_179 (ZeroPadding (None, 16, 16, 256)  0           stage3_unit5_relu1[0][0]         \n",
            "__________________________________________________________________________________________________\n",
            "stage3_unit5_conv1 (Conv2D)     (None, 14, 14, 256)  589824      zero_padding2d_179[0][0]         \n",
            "__________________________________________________________________________________________________\n",
            "stage3_unit5_bn2 (BatchNormaliz (None, 14, 14, 256)  1024        stage3_unit5_conv1[0][0]         \n",
            "__________________________________________________________________________________________________\n",
            "stage3_unit5_relu2 (Activation) (None, 14, 14, 256)  0           stage3_unit5_bn2[0][0]           \n",
            "__________________________________________________________________________________________________\n",
            "zero_padding2d_180 (ZeroPadding (None, 16, 16, 256)  0           stage3_unit5_relu2[0][0]         \n",
            "__________________________________________________________________________________________________\n",
            "stage3_unit5_conv2 (Conv2D)     (None, 14, 14, 256)  589824      zero_padding2d_180[0][0]         \n",
            "__________________________________________________________________________________________________\n",
            "add_110 (Add)                   (None, 14, 14, 256)  0           stage3_unit5_conv2[0][0]         \n",
            "                                                                 add_109[0][0]                    \n",
            "__________________________________________________________________________________________________\n",
            "stage3_unit6_bn1 (BatchNormaliz (None, 14, 14, 256)  1024        add_110[0][0]                    \n",
            "__________________________________________________________________________________________________\n",
            "stage3_unit6_relu1 (Activation) (None, 14, 14, 256)  0           stage3_unit6_bn1[0][0]           \n",
            "__________________________________________________________________________________________________\n",
            "zero_padding2d_181 (ZeroPadding (None, 16, 16, 256)  0           stage3_unit6_relu1[0][0]         \n",
            "__________________________________________________________________________________________________\n",
            "stage3_unit6_conv1 (Conv2D)     (None, 14, 14, 256)  589824      zero_padding2d_181[0][0]         \n",
            "__________________________________________________________________________________________________\n",
            "stage3_unit6_bn2 (BatchNormaliz (None, 14, 14, 256)  1024        stage3_unit6_conv1[0][0]         \n",
            "__________________________________________________________________________________________________\n",
            "stage3_unit6_relu2 (Activation) (None, 14, 14, 256)  0           stage3_unit6_bn2[0][0]           \n",
            "__________________________________________________________________________________________________\n",
            "zero_padding2d_182 (ZeroPadding (None, 16, 16, 256)  0           stage3_unit6_relu2[0][0]         \n",
            "__________________________________________________________________________________________________\n",
            "stage3_unit6_conv2 (Conv2D)     (None, 14, 14, 256)  589824      zero_padding2d_182[0][0]         \n",
            "__________________________________________________________________________________________________\n",
            "add_111 (Add)                   (None, 14, 14, 256)  0           stage3_unit6_conv2[0][0]         \n",
            "                                                                 add_110[0][0]                    \n",
            "__________________________________________________________________________________________________\n",
            "stage4_unit1_bn1 (BatchNormaliz (None, 14, 14, 256)  1024        add_111[0][0]                    \n",
            "__________________________________________________________________________________________________\n",
            "stage4_unit1_relu1 (Activation) (None, 14, 14, 256)  0           stage4_unit1_bn1[0][0]           \n",
            "__________________________________________________________________________________________________\n",
            "zero_padding2d_183 (ZeroPadding (None, 16, 16, 256)  0           stage4_unit1_relu1[0][0]         \n",
            "__________________________________________________________________________________________________\n",
            "stage4_unit1_conv1 (Conv2D)     (None, 7, 7, 512)    1179648     zero_padding2d_183[0][0]         \n",
            "__________________________________________________________________________________________________\n",
            "stage4_unit1_bn2 (BatchNormaliz (None, 7, 7, 512)    2048        stage4_unit1_conv1[0][0]         \n",
            "__________________________________________________________________________________________________\n",
            "stage4_unit1_relu2 (Activation) (None, 7, 7, 512)    0           stage4_unit1_bn2[0][0]           \n",
            "__________________________________________________________________________________________________\n",
            "zero_padding2d_184 (ZeroPadding (None, 9, 9, 512)    0           stage4_unit1_relu2[0][0]         \n",
            "__________________________________________________________________________________________________\n",
            "stage4_unit1_conv2 (Conv2D)     (None, 7, 7, 512)    2359296     zero_padding2d_184[0][0]         \n",
            "__________________________________________________________________________________________________\n",
            "stage4_unit1_sc (Conv2D)        (None, 7, 7, 512)    131072      stage4_unit1_relu1[0][0]         \n",
            "__________________________________________________________________________________________________\n",
            "add_112 (Add)                   (None, 7, 7, 512)    0           stage4_unit1_conv2[0][0]         \n",
            "                                                                 stage4_unit1_sc[0][0]            \n",
            "__________________________________________________________________________________________________\n",
            "stage4_unit2_bn1 (BatchNormaliz (None, 7, 7, 512)    2048        add_112[0][0]                    \n",
            "__________________________________________________________________________________________________\n",
            "stage4_unit2_relu1 (Activation) (None, 7, 7, 512)    0           stage4_unit2_bn1[0][0]           \n",
            "__________________________________________________________________________________________________\n",
            "zero_padding2d_185 (ZeroPadding (None, 9, 9, 512)    0           stage4_unit2_relu1[0][0]         \n",
            "__________________________________________________________________________________________________\n",
            "stage4_unit2_conv1 (Conv2D)     (None, 7, 7, 512)    2359296     zero_padding2d_185[0][0]         \n",
            "__________________________________________________________________________________________________\n",
            "stage4_unit2_bn2 (BatchNormaliz (None, 7, 7, 512)    2048        stage4_unit2_conv1[0][0]         \n",
            "__________________________________________________________________________________________________\n",
            "stage4_unit2_relu2 (Activation) (None, 7, 7, 512)    0           stage4_unit2_bn2[0][0]           \n",
            "__________________________________________________________________________________________________\n",
            "zero_padding2d_186 (ZeroPadding (None, 9, 9, 512)    0           stage4_unit2_relu2[0][0]         \n",
            "__________________________________________________________________________________________________\n",
            "stage4_unit2_conv2 (Conv2D)     (None, 7, 7, 512)    2359296     zero_padding2d_186[0][0]         \n",
            "__________________________________________________________________________________________________\n",
            "add_113 (Add)                   (None, 7, 7, 512)    0           stage4_unit2_conv2[0][0]         \n",
            "                                                                 add_112[0][0]                    \n",
            "__________________________________________________________________________________________________\n",
            "stage4_unit3_bn1 (BatchNormaliz (None, 7, 7, 512)    2048        add_113[0][0]                    \n",
            "__________________________________________________________________________________________________\n",
            "stage4_unit3_relu1 (Activation) (None, 7, 7, 512)    0           stage4_unit3_bn1[0][0]           \n",
            "__________________________________________________________________________________________________\n",
            "zero_padding2d_187 (ZeroPadding (None, 9, 9, 512)    0           stage4_unit3_relu1[0][0]         \n",
            "__________________________________________________________________________________________________\n",
            "stage4_unit3_conv1 (Conv2D)     (None, 7, 7, 512)    2359296     zero_padding2d_187[0][0]         \n",
            "__________________________________________________________________________________________________\n",
            "stage4_unit3_bn2 (BatchNormaliz (None, 7, 7, 512)    2048        stage4_unit3_conv1[0][0]         \n",
            "__________________________________________________________________________________________________\n",
            "stage4_unit3_relu2 (Activation) (None, 7, 7, 512)    0           stage4_unit3_bn2[0][0]           \n",
            "__________________________________________________________________________________________________\n",
            "zero_padding2d_188 (ZeroPadding (None, 9, 9, 512)    0           stage4_unit3_relu2[0][0]         \n",
            "__________________________________________________________________________________________________\n",
            "stage4_unit3_conv2 (Conv2D)     (None, 7, 7, 512)    2359296     zero_padding2d_188[0][0]         \n",
            "__________________________________________________________________________________________________\n",
            "add_114 (Add)                   (None, 7, 7, 512)    0           stage4_unit3_conv2[0][0]         \n",
            "                                                                 add_113[0][0]                    \n",
            "__________________________________________________________________________________________________\n",
            "bn1 (BatchNormalization)        (None, 7, 7, 512)    2048        add_114[0][0]                    \n",
            "__________________________________________________________________________________________________\n",
            "relu1 (Activation)              (None, 7, 7, 512)    0           bn1[0][0]                        \n",
            "__________________________________________________________________________________________________\n",
            "decoder_stage0_upsampling (UpSa (None, 14, 14, 512)  0           relu1[0][0]                      \n",
            "__________________________________________________________________________________________________\n",
            "decoder_stage0_concat (Concaten (None, 14, 14, 768)  0           decoder_stage0_upsampling[0][0]  \n",
            "                                                                 stage4_unit1_relu1[0][0]         \n",
            "__________________________________________________________________________________________________\n",
            "decoder_stage0a_conv (Conv2D)   (None, 14, 14, 256)  1769472     decoder_stage0_concat[0][0]      \n",
            "__________________________________________________________________________________________________\n",
            "decoder_stage0a_bn (BatchNormal (None, 14, 14, 256)  1024        decoder_stage0a_conv[0][0]       \n",
            "__________________________________________________________________________________________________\n",
            "decoder_stage0a_relu (Activatio (None, 14, 14, 256)  0           decoder_stage0a_bn[0][0]         \n",
            "__________________________________________________________________________________________________\n",
            "decoder_stage0b_conv (Conv2D)   (None, 14, 14, 256)  589824      decoder_stage0a_relu[0][0]       \n",
            "__________________________________________________________________________________________________\n",
            "decoder_stage0b_bn (BatchNormal (None, 14, 14, 256)  1024        decoder_stage0b_conv[0][0]       \n",
            "__________________________________________________________________________________________________\n",
            "decoder_stage0b_relu (Activatio (None, 14, 14, 256)  0           decoder_stage0b_bn[0][0]         \n",
            "__________________________________________________________________________________________________\n",
            "decoder_stage1_upsampling (UpSa (None, 28, 28, 256)  0           decoder_stage0b_relu[0][0]       \n",
            "__________________________________________________________________________________________________\n",
            "decoder_stage1_concat (Concaten (None, 28, 28, 384)  0           decoder_stage1_upsampling[0][0]  \n",
            "                                                                 stage3_unit1_relu1[0][0]         \n",
            "__________________________________________________________________________________________________\n",
            "decoder_stage1a_conv (Conv2D)   (None, 28, 28, 128)  442368      decoder_stage1_concat[0][0]      \n",
            "__________________________________________________________________________________________________\n",
            "decoder_stage1a_bn (BatchNormal (None, 28, 28, 128)  512         decoder_stage1a_conv[0][0]       \n",
            "__________________________________________________________________________________________________\n",
            "decoder_stage1a_relu (Activatio (None, 28, 28, 128)  0           decoder_stage1a_bn[0][0]         \n",
            "__________________________________________________________________________________________________\n",
            "decoder_stage1b_conv (Conv2D)   (None, 28, 28, 128)  147456      decoder_stage1a_relu[0][0]       \n",
            "__________________________________________________________________________________________________\n",
            "decoder_stage1b_bn (BatchNormal (None, 28, 28, 128)  512         decoder_stage1b_conv[0][0]       \n",
            "__________________________________________________________________________________________________\n",
            "decoder_stage1b_relu (Activatio (None, 28, 28, 128)  0           decoder_stage1b_bn[0][0]         \n",
            "__________________________________________________________________________________________________\n",
            "decoder_stage2_upsampling (UpSa (None, 56, 56, 128)  0           decoder_stage1b_relu[0][0]       \n",
            "__________________________________________________________________________________________________\n",
            "decoder_stage2_concat (Concaten (None, 56, 56, 192)  0           decoder_stage2_upsampling[0][0]  \n",
            "                                                                 stage2_unit1_relu1[0][0]         \n",
            "__________________________________________________________________________________________________\n",
            "decoder_stage2a_conv (Conv2D)   (None, 56, 56, 64)   110592      decoder_stage2_concat[0][0]      \n",
            "__________________________________________________________________________________________________\n",
            "decoder_stage2a_bn (BatchNormal (None, 56, 56, 64)   256         decoder_stage2a_conv[0][0]       \n",
            "__________________________________________________________________________________________________\n",
            "decoder_stage2a_relu (Activatio (None, 56, 56, 64)   0           decoder_stage2a_bn[0][0]         \n",
            "__________________________________________________________________________________________________\n",
            "decoder_stage2b_conv (Conv2D)   (None, 56, 56, 64)   36864       decoder_stage2a_relu[0][0]       \n",
            "__________________________________________________________________________________________________\n",
            "decoder_stage2b_bn (BatchNormal (None, 56, 56, 64)   256         decoder_stage2b_conv[0][0]       \n",
            "__________________________________________________________________________________________________\n",
            "decoder_stage2b_relu (Activatio (None, 56, 56, 64)   0           decoder_stage2b_bn[0][0]         \n",
            "__________________________________________________________________________________________________\n",
            "decoder_stage3_upsampling (UpSa (None, 112, 112, 64) 0           decoder_stage2b_relu[0][0]       \n",
            "__________________________________________________________________________________________________\n",
            "decoder_stage3_concat (Concaten (None, 112, 112, 128 0           decoder_stage3_upsampling[0][0]  \n",
            "                                                                 relu0[0][0]                      \n",
            "__________________________________________________________________________________________________\n",
            "decoder_stage3a_conv (Conv2D)   (None, 112, 112, 32) 36864       decoder_stage3_concat[0][0]      \n",
            "__________________________________________________________________________________________________\n",
            "decoder_stage3a_bn (BatchNormal (None, 112, 112, 32) 128         decoder_stage3a_conv[0][0]       \n",
            "__________________________________________________________________________________________________\n",
            "decoder_stage3a_relu (Activatio (None, 112, 112, 32) 0           decoder_stage3a_bn[0][0]         \n",
            "__________________________________________________________________________________________________\n",
            "decoder_stage3b_conv (Conv2D)   (None, 112, 112, 32) 9216        decoder_stage3a_relu[0][0]       \n",
            "__________________________________________________________________________________________________\n",
            "decoder_stage3b_bn (BatchNormal (None, 112, 112, 32) 128         decoder_stage3b_conv[0][0]       \n",
            "__________________________________________________________________________________________________\n",
            "decoder_stage3b_relu (Activatio (None, 112, 112, 32) 0           decoder_stage3b_bn[0][0]         \n",
            "__________________________________________________________________________________________________\n",
            "decoder_stage4_upsampling (UpSa (None, 224, 224, 32) 0           decoder_stage3b_relu[0][0]       \n",
            "__________________________________________________________________________________________________\n",
            "decoder_stage4a_conv (Conv2D)   (None, 224, 224, 16) 4608        decoder_stage4_upsampling[0][0]  \n",
            "__________________________________________________________________________________________________\n",
            "decoder_stage4a_bn (BatchNormal (None, 224, 224, 16) 64          decoder_stage4a_conv[0][0]       \n",
            "__________________________________________________________________________________________________\n",
            "decoder_stage4a_relu (Activatio (None, 224, 224, 16) 0           decoder_stage4a_bn[0][0]         \n",
            "__________________________________________________________________________________________________\n",
            "decoder_stage4b_conv (Conv2D)   (None, 224, 224, 16) 2304        decoder_stage4a_relu[0][0]       \n",
            "__________________________________________________________________________________________________\n",
            "decoder_stage4b_bn (BatchNormal (None, 224, 224, 16) 64          decoder_stage4b_conv[0][0]       \n",
            "__________________________________________________________________________________________________\n",
            "decoder_stage4b_relu (Activatio (None, 224, 224, 16) 0           decoder_stage4b_bn[0][0]         \n",
            "__________________________________________________________________________________________________\n",
            "final_conv (Conv2D)             (None, 224, 224, 1)  145         decoder_stage4b_relu[0][0]       \n",
            "__________________________________________________________________________________________________\n",
            "sigmoid (Activation)            (None, 224, 224, 1)  0           final_conv[0][0]                 \n",
            "==================================================================================================\n",
            "Total params: 24,456,154\n",
            "Trainable params: 24,438,804\n",
            "Non-trainable params: 17,350\n",
            "__________________________________________________________________________________________________\n"
          ],
          "name": "stdout"
        }
      ]
    },
    {
      "cell_type": "markdown",
      "metadata": {
        "colab_type": "text",
        "id": "2spcE4TvfEZw"
      },
      "source": [
        "### Define dice coefficient function (10 marks)\n",
        "- Create a function to calculate dice coefficient\n"
      ]
    },
    {
      "cell_type": "code",
      "metadata": {
        "colab_type": "code",
        "id": "8H8aViXZuWz1",
        "colab": {}
      },
      "source": [
        "def dice_coefficient(y_true, y_pred):\n",
        "    numerator = 2 * tensorflow.reduce_sum(y_true * y_pred)\n",
        "    denominator = tensorflow.reduce_sum(y_true + y_pred)\n",
        "    return numerator / (denominator + tensorflow.keras.backend.epsilon())"
      ],
      "execution_count": 92,
      "outputs": []
    },
    {
      "cell_type": "markdown",
      "metadata": {
        "colab_type": "text",
        "id": "Nkp5SDM1fIu2"
      },
      "source": [
        "### Define loss"
      ]
    },
    {
      "cell_type": "code",
      "metadata": {
        "colab_type": "code",
        "id": "FEOVfs19KVLv",
        "colab": {}
      },
      "source": [
        "from tensorflow.keras.losses import binary_crossentropy\n",
        "from tensorflow.keras.backend import log, epsilon\n",
        "def loss(y_true, y_pred):\n",
        "    return binary_crossentropy(y_true, y_pred) - log(dice_coefficient(y_true, y_pred) + epsilon())"
      ],
      "execution_count": 93,
      "outputs": []
    },
    {
      "cell_type": "markdown",
      "metadata": {
        "colab_type": "text",
        "id": "Thltv_akfOMS"
      },
      "source": [
        "### Compile the model (3 marks)\n",
        "- Complie the model using below parameters\n",
        "  - loss: use the loss function defined above\n",
        "  - optimizers: use Adam optimizer\n",
        "  - metrics: use dice_coefficient function defined above"
      ]
    },
    {
      "cell_type": "code",
      "metadata": {
        "id": "yzDBK2IRzk85",
        "colab_type": "code",
        "colab": {}
      },
      "source": [
        "from tensorflow.keras.optimizers import Adam \n",
        "from tensorflow.keras.losses import binary_crossentropy\n",
        "\n",
        "optimizer = Adam(lr = 1e-4, beta_1 = 0.9, beta_2 = 0.0999, epsilon=None, decay=0.0, amsgrad=False)\n",
        "model.compile(loss=loss, optimizer=optimizer, metrics=[dice_coefficient])"
      ],
      "execution_count": 181,
      "outputs": []
    },
    {
      "cell_type": "markdown",
      "metadata": {
        "colab_type": "text",
        "id": "VTumZyg0fuVy"
      },
      "source": [
        "### Define checkpoint and earlystopping"
      ]
    },
    {
      "cell_type": "code",
      "metadata": {
        "colab_type": "code",
        "id": "QNlQHt8DMy7h",
        "colab": {
          "base_uri": "https://localhost:8080/",
          "height": 34
        },
        "outputId": "0cbe2e5d-8e37-445d-eef9-bec26c40408e"
      },
      "source": [
        "from tensorflow.keras.callbacks import ModelCheckpoint, EarlyStopping, ReduceLROnPlateau\n",
        "checkpoint = ModelCheckpoint(\"model-{loss:.2f}.h5\", monitor=\"loss\", verbose=1, save_best_only=True,\n",
        "                             save_weights_only=True, mode=\"min\", period=1)\n",
        "stop = EarlyStopping(monitor=\"loss\", patience=5, mode=\"min\")\n",
        "reduce_lr = ReduceLROnPlateau(monitor=\"loss\", factor=0.2, patience=5, min_lr=1e-6, verbose=1, mode=\"min\")"
      ],
      "execution_count": 95,
      "outputs": [
        {
          "output_type": "stream",
          "text": [
            "WARNING:tensorflow:`period` argument is deprecated. Please use `save_freq` to specify the frequency in number of batches seen.\n"
          ],
          "name": "stdout"
        }
      ]
    },
    {
      "cell_type": "markdown",
      "metadata": {
        "colab_type": "text",
        "id": "LxxbwvXEf07e"
      },
      "source": [
        "### Fit the model (3 marks)\n",
        "- Fit the model using below parameters\n",
        "  - epochs: you can decide\n",
        "  - batch_size: 1\n",
        "  - callbacks: checkpoint, reduce_lr, stop"
      ]
    },
    {
      "cell_type": "code",
      "metadata": {
        "id": "-LbgxzwXhySf",
        "colab_type": "code",
        "colab": {}
      },
      "source": [
        "from segmentation_models import get_preprocessing\n",
        "\n",
        "BACKBONE = 'resnet34'\n",
        "preprocess_input = get_preprocessing(BACKBONE)\n",
        "X = preprocess_input(X)"
      ],
      "execution_count": 182,
      "outputs": []
    },
    {
      "cell_type": "code",
      "metadata": {
        "id": "baqkFMXPndse",
        "colab_type": "code",
        "colab": {}
      },
      "source": [
        "masks = masks.reshape(masks.shape[0], IMAGE_HEIGHT, IMAGE_WIDTH, 1)"
      ],
      "execution_count": 173,
      "outputs": []
    },
    {
      "cell_type": "code",
      "metadata": {
        "id": "XiQ46MLrmJq-",
        "colab_type": "code",
        "colab": {}
      },
      "source": [
        "from sklearn.model_selection import train_test_split\n",
        "X_train, X_valid, y_train, y_valid = train_test_split(X, masks, test_size=0.3, random_state=2)"
      ],
      "execution_count": 189,
      "outputs": []
    },
    {
      "cell_type": "code",
      "metadata": {
        "colab_type": "code",
        "id": "guFfKsEmq58j",
        "colab": {
          "base_uri": "https://localhost:8080/",
          "height": 1000
        },
        "outputId": "a62b6100-2557-40e4-e797-096440cff78d"
      },
      "source": [
        "model.fit(X_train, y_train, validation_data=(X_valid, y_valid), epochs=100, batch_size=34)"
      ],
      "execution_count": 183,
      "outputs": [
        {
          "output_type": "stream",
          "text": [
            "Train on 286 samples, validate on 123 samples\n",
            "Epoch 1/100\n",
            "286/286 [==============================] - 29s 102ms/step - loss: 2.0401 - dice_coefficient: 0.2098 - val_loss: 2.2486 - val_dice_coefficient: 0.2010\n",
            "Epoch 2/100\n",
            "286/286 [==============================] - 13s 44ms/step - loss: 1.6766 - dice_coefficient: 0.2825 - val_loss: 2.1927 - val_dice_coefficient: 0.1906\n",
            "Epoch 3/100\n",
            "286/286 [==============================] - 13s 44ms/step - loss: 1.4315 - dice_coefficient: 0.3403 - val_loss: 3.9799 - val_dice_coefficient: 0.0459\n",
            "Epoch 4/100\n",
            "286/286 [==============================] - 12s 44ms/step - loss: 1.2850 - dice_coefficient: 0.3811 - val_loss: 5.2974 - val_dice_coefficient: 0.0164\n",
            "Epoch 5/100\n",
            "286/286 [==============================] - 12s 44ms/step - loss: 1.2036 - dice_coefficient: 0.4065 - val_loss: 9.5910 - val_dice_coefficient: 0.0018\n",
            "Epoch 6/100\n",
            "286/286 [==============================] - 12s 44ms/step - loss: 1.1388 - dice_coefficient: 0.4303 - val_loss: 22.0400 - val_dice_coefficient: 0.2325\n",
            "Epoch 7/100\n",
            "286/286 [==============================] - 12s 44ms/step - loss: 1.0407 - dice_coefficient: 0.4607 - val_loss: 32.4511 - val_dice_coefficient: 1.7039e-05\n",
            "Epoch 8/100\n",
            "286/286 [==============================] - 12s 43ms/step - loss: 0.9852 - dice_coefficient: 0.4782 - val_loss: 7.5173 - val_dice_coefficient: 0.0861\n",
            "Epoch 9/100\n",
            "286/286 [==============================] - 12s 44ms/step - loss: 0.8954 - dice_coefficient: 0.5182 - val_loss: 22.9304 - val_dice_coefficient: 0.2294\n",
            "Epoch 10/100\n",
            "286/286 [==============================] - 12s 44ms/step - loss: 0.8554 - dice_coefficient: 0.5354 - val_loss: 2.4999 - val_dice_coefficient: 0.3043\n",
            "Epoch 11/100\n",
            "286/286 [==============================] - 12s 43ms/step - loss: 0.7671 - dice_coefficient: 0.5656 - val_loss: 2.2402 - val_dice_coefficient: 0.2498\n",
            "Epoch 12/100\n",
            "286/286 [==============================] - 12s 43ms/step - loss: 0.7311 - dice_coefficient: 0.5794 - val_loss: 3.5352 - val_dice_coefficient: 0.0574\n",
            "Epoch 13/100\n",
            "286/286 [==============================] - 12s 43ms/step - loss: 0.6803 - dice_coefficient: 0.6067 - val_loss: 2.2206 - val_dice_coefficient: 0.1894\n",
            "Epoch 14/100\n",
            "286/286 [==============================] - 12s 43ms/step - loss: 0.6357 - dice_coefficient: 0.6223 - val_loss: 2.2080 - val_dice_coefficient: 0.1725\n",
            "Epoch 15/100\n",
            "286/286 [==============================] - 12s 43ms/step - loss: 0.6124 - dice_coefficient: 0.6352 - val_loss: 2.2845 - val_dice_coefficient: 0.1521\n",
            "Epoch 16/100\n",
            "286/286 [==============================] - 12s 43ms/step - loss: 0.5686 - dice_coefficient: 0.6571 - val_loss: 2.2610 - val_dice_coefficient: 0.1551\n",
            "Epoch 17/100\n",
            "286/286 [==============================] - 12s 43ms/step - loss: 0.5274 - dice_coefficient: 0.6720 - val_loss: 2.4728 - val_dice_coefficient: 0.1241\n",
            "Epoch 18/100\n",
            "286/286 [==============================] - 12s 43ms/step - loss: 0.5166 - dice_coefficient: 0.6816 - val_loss: 2.5487 - val_dice_coefficient: 0.1152\n",
            "Epoch 19/100\n",
            "286/286 [==============================] - 12s 43ms/step - loss: 0.4924 - dice_coefficient: 0.6918 - val_loss: 2.5467 - val_dice_coefficient: 0.1165\n",
            "Epoch 20/100\n",
            "286/286 [==============================] - 12s 43ms/step - loss: 0.4638 - dice_coefficient: 0.7116 - val_loss: 2.6916 - val_dice_coefficient: 0.1010\n",
            "Epoch 21/100\n",
            "286/286 [==============================] - 12s 43ms/step - loss: 0.4690 - dice_coefficient: 0.7129 - val_loss: 2.2467 - val_dice_coefficient: 0.1524\n",
            "Epoch 22/100\n",
            "286/286 [==============================] - 12s 43ms/step - loss: 0.4602 - dice_coefficient: 0.7137 - val_loss: 2.6087 - val_dice_coefficient: 0.1088\n",
            "Epoch 23/100\n",
            "286/286 [==============================] - 12s 43ms/step - loss: 0.4285 - dice_coefficient: 0.7260 - val_loss: 2.8466 - val_dice_coefficient: 0.0874\n",
            "Epoch 24/100\n",
            "286/286 [==============================] - 12s 43ms/step - loss: 0.3993 - dice_coefficient: 0.7457 - val_loss: 2.6625 - val_dice_coefficient: 0.1035\n",
            "Epoch 25/100\n",
            "286/286 [==============================] - 12s 44ms/step - loss: 0.3888 - dice_coefficient: 0.7536 - val_loss: 2.5410 - val_dice_coefficient: 0.1153\n",
            "Epoch 26/100\n",
            "286/286 [==============================] - 12s 43ms/step - loss: 0.3653 - dice_coefficient: 0.7668 - val_loss: 2.7298 - val_dice_coefficient: 0.0970\n",
            "Epoch 27/100\n",
            "286/286 [==============================] - 12s 44ms/step - loss: 0.3560 - dice_coefficient: 0.7715 - val_loss: 2.6670 - val_dice_coefficient: 0.1027\n",
            "Epoch 28/100\n",
            "286/286 [==============================] - 12s 44ms/step - loss: 0.3416 - dice_coefficient: 0.7847 - val_loss: 2.6805 - val_dice_coefficient: 0.1014\n",
            "Epoch 29/100\n",
            "286/286 [==============================] - 12s 44ms/step - loss: 0.3283 - dice_coefficient: 0.7902 - val_loss: 2.7786 - val_dice_coefficient: 0.0927\n",
            "Epoch 30/100\n",
            "286/286 [==============================] - 12s 44ms/step - loss: 0.3248 - dice_coefficient: 0.7904 - val_loss: 2.8294 - val_dice_coefficient: 0.0894\n",
            "Epoch 31/100\n",
            "286/286 [==============================] - 12s 44ms/step - loss: 0.3145 - dice_coefficient: 0.8020 - val_loss: 2.5227 - val_dice_coefficient: 0.1213\n",
            "Epoch 32/100\n",
            "286/286 [==============================] - 12s 43ms/step - loss: 0.3127 - dice_coefficient: 0.8009 - val_loss: 3.1627 - val_dice_coefficient: 0.0664\n",
            "Epoch 33/100\n",
            "286/286 [==============================] - 12s 43ms/step - loss: 0.2779 - dice_coefficient: 0.8194 - val_loss: 2.8728 - val_dice_coefficient: 0.0885\n",
            "Epoch 34/100\n",
            "286/286 [==============================] - 12s 43ms/step - loss: 0.2632 - dice_coefficient: 0.8298 - val_loss: 2.5738 - val_dice_coefficient: 0.1177\n",
            "Epoch 35/100\n",
            "286/286 [==============================] - 12s 43ms/step - loss: 0.2584 - dice_coefficient: 0.8334 - val_loss: 1.7569 - val_dice_coefficient: 0.2464\n",
            "Epoch 36/100\n",
            "286/286 [==============================] - 12s 43ms/step - loss: 0.2392 - dice_coefficient: 0.8434 - val_loss: 2.4020 - val_dice_coefficient: 0.1433\n",
            "Epoch 37/100\n",
            "286/286 [==============================] - 12s 43ms/step - loss: 0.2422 - dice_coefficient: 0.8425 - val_loss: 2.0555 - val_dice_coefficient: 0.1939\n",
            "Epoch 38/100\n",
            "286/286 [==============================] - 12s 43ms/step - loss: 0.2345 - dice_coefficient: 0.8467 - val_loss: 1.3645 - val_dice_coefficient: 0.3725\n",
            "Epoch 39/100\n",
            "286/286 [==============================] - 12s 43ms/step - loss: 0.2239 - dice_coefficient: 0.8551 - val_loss: 4.0981 - val_dice_coefficient: 0.0287\n",
            "Epoch 40/100\n",
            "286/286 [==============================] - 12s 43ms/step - loss: 0.2253 - dice_coefficient: 0.8558 - val_loss: 4.0174 - val_dice_coefficient: 0.0308\n",
            "Epoch 41/100\n",
            "286/286 [==============================] - 12s 43ms/step - loss: 0.2104 - dice_coefficient: 0.8624 - val_loss: 4.1657 - val_dice_coefficient: 0.0274\n",
            "Epoch 42/100\n",
            "286/286 [==============================] - 12s 44ms/step - loss: 0.2173 - dice_coefficient: 0.8635 - val_loss: 3.9735 - val_dice_coefficient: 0.0332\n",
            "Epoch 43/100\n",
            "286/286 [==============================] - 12s 44ms/step - loss: 0.2000 - dice_coefficient: 0.8705 - val_loss: 4.0434 - val_dice_coefficient: 0.0308\n",
            "Epoch 44/100\n",
            "286/286 [==============================] - 12s 43ms/step - loss: 0.2037 - dice_coefficient: 0.8689 - val_loss: 3.7915 - val_dice_coefficient: 0.0399\n",
            "Epoch 45/100\n",
            "286/286 [==============================] - 12s 43ms/step - loss: 0.1868 - dice_coefficient: 0.8763 - val_loss: 3.8563 - val_dice_coefficient: 0.0387\n",
            "Epoch 46/100\n",
            "286/286 [==============================] - 12s 44ms/step - loss: 0.1745 - dice_coefficient: 0.8873 - val_loss: 3.7588 - val_dice_coefficient: 0.0430\n",
            "Epoch 47/100\n",
            "286/286 [==============================] - 12s 43ms/step - loss: 0.1725 - dice_coefficient: 0.8890 - val_loss: 3.9297 - val_dice_coefficient: 0.0371\n",
            "Epoch 48/100\n",
            "286/286 [==============================] - 12s 44ms/step - loss: 0.1735 - dice_coefficient: 0.8898 - val_loss: 3.3570 - val_dice_coefficient: 0.0681\n",
            "Epoch 49/100\n",
            "286/286 [==============================] - 12s 43ms/step - loss: 0.1673 - dice_coefficient: 0.8914 - val_loss: 3.7410 - val_dice_coefficient: 0.0446\n",
            "Epoch 50/100\n",
            "286/286 [==============================] - 12s 44ms/step - loss: 0.1607 - dice_coefficient: 0.8988 - val_loss: 3.7467 - val_dice_coefficient: 0.0427\n",
            "Epoch 51/100\n",
            "286/286 [==============================] - 12s 43ms/step - loss: 0.1569 - dice_coefficient: 0.9009 - val_loss: 2.9541 - val_dice_coefficient: 0.1015\n",
            "Epoch 52/100\n",
            "286/286 [==============================] - 12s 43ms/step - loss: 0.1455 - dice_coefficient: 0.9077 - val_loss: 2.6831 - val_dice_coefficient: 0.1299\n",
            "Epoch 53/100\n",
            "286/286 [==============================] - 12s 43ms/step - loss: 0.1536 - dice_coefficient: 0.9031 - val_loss: 2.5986 - val_dice_coefficient: 0.1420\n",
            "Epoch 54/100\n",
            "286/286 [==============================] - 12s 43ms/step - loss: 0.1541 - dice_coefficient: 0.9015 - val_loss: 2.6608 - val_dice_coefficient: 0.1402\n",
            "Epoch 55/100\n",
            "286/286 [==============================] - 12s 43ms/step - loss: 0.1380 - dice_coefficient: 0.9104 - val_loss: 3.2084 - val_dice_coefficient: 0.0848\n",
            "Epoch 56/100\n",
            "286/286 [==============================] - 12s 43ms/step - loss: 0.1349 - dice_coefficient: 0.9094 - val_loss: 2.5266 - val_dice_coefficient: 0.1527\n",
            "Epoch 57/100\n",
            "286/286 [==============================] - 12s 43ms/step - loss: 0.1299 - dice_coefficient: 0.9173 - val_loss: 2.9778 - val_dice_coefficient: 0.1046\n",
            "Epoch 58/100\n",
            "286/286 [==============================] - 12s 43ms/step - loss: 0.1249 - dice_coefficient: 0.9215 - val_loss: 2.6625 - val_dice_coefficient: 0.1471\n",
            "Epoch 59/100\n",
            "286/286 [==============================] - 12s 43ms/step - loss: 0.1199 - dice_coefficient: 0.9238 - val_loss: 2.1980 - val_dice_coefficient: 0.2124\n",
            "Epoch 60/100\n",
            "286/286 [==============================] - 12s 43ms/step - loss: 0.1225 - dice_coefficient: 0.9208 - val_loss: 2.1060 - val_dice_coefficient: 0.2365\n",
            "Epoch 61/100\n",
            "286/286 [==============================] - 12s 43ms/step - loss: 0.1235 - dice_coefficient: 0.9175 - val_loss: 1.9421 - val_dice_coefficient: 0.2796\n",
            "Epoch 62/100\n",
            "286/286 [==============================] - 12s 43ms/step - loss: 0.1360 - dice_coefficient: 0.9161 - val_loss: 2.1101 - val_dice_coefficient: 0.2436\n",
            "Epoch 63/100\n",
            "286/286 [==============================] - 12s 43ms/step - loss: 0.1354 - dice_coefficient: 0.9180 - val_loss: 2.1724 - val_dice_coefficient: 0.2417\n",
            "Epoch 64/100\n",
            "286/286 [==============================] - 12s 44ms/step - loss: 0.1324 - dice_coefficient: 0.9180 - val_loss: 1.5676 - val_dice_coefficient: 0.3759\n",
            "Epoch 65/100\n",
            "286/286 [==============================] - 13s 44ms/step - loss: 0.1267 - dice_coefficient: 0.9205 - val_loss: 1.6979 - val_dice_coefficient: 0.3451\n",
            "Epoch 66/100\n",
            "286/286 [==============================] - 12s 44ms/step - loss: 0.1193 - dice_coefficient: 0.9244 - val_loss: 1.6915 - val_dice_coefficient: 0.3431\n",
            "Epoch 67/100\n",
            "286/286 [==============================] - 12s 44ms/step - loss: 0.1191 - dice_coefficient: 0.9262 - val_loss: 1.4934 - val_dice_coefficient: 0.4148\n",
            "Epoch 68/100\n",
            "286/286 [==============================] - 12s 44ms/step - loss: 0.1221 - dice_coefficient: 0.9235 - val_loss: 1.6722 - val_dice_coefficient: 0.3545\n",
            "Epoch 69/100\n",
            "286/286 [==============================] - 12s 44ms/step - loss: 0.1187 - dice_coefficient: 0.9259 - val_loss: 1.3882 - val_dice_coefficient: 0.4270\n",
            "Epoch 70/100\n",
            "286/286 [==============================] - 12s 44ms/step - loss: 0.1166 - dice_coefficient: 0.9249 - val_loss: 1.2141 - val_dice_coefficient: 0.4966\n",
            "Epoch 71/100\n",
            "286/286 [==============================] - 12s 44ms/step - loss: 0.1095 - dice_coefficient: 0.9305 - val_loss: 1.5630 - val_dice_coefficient: 0.3873\n",
            "Epoch 72/100\n",
            "286/286 [==============================] - 12s 43ms/step - loss: 0.1039 - dice_coefficient: 0.9343 - val_loss: 1.8643 - val_dice_coefficient: 0.3103\n",
            "Epoch 73/100\n",
            "286/286 [==============================] - 12s 43ms/step - loss: 0.1045 - dice_coefficient: 0.9346 - val_loss: 1.6623 - val_dice_coefficient: 0.3599\n",
            "Epoch 74/100\n",
            "286/286 [==============================] - 12s 43ms/step - loss: 0.0951 - dice_coefficient: 0.9397 - val_loss: 1.3834 - val_dice_coefficient: 0.4525\n",
            "Epoch 75/100\n",
            "286/286 [==============================] - 12s 43ms/step - loss: 0.0911 - dice_coefficient: 0.9416 - val_loss: 1.3290 - val_dice_coefficient: 0.4647\n",
            "Epoch 76/100\n",
            "286/286 [==============================] - 12s 43ms/step - loss: 0.0927 - dice_coefficient: 0.9424 - val_loss: 1.3104 - val_dice_coefficient: 0.4819\n",
            "Epoch 77/100\n",
            "286/286 [==============================] - 12s 43ms/step - loss: 0.1064 - dice_coefficient: 0.9367 - val_loss: 1.1725 - val_dice_coefficient: 0.5266\n",
            "Epoch 78/100\n",
            "286/286 [==============================] - 12s 43ms/step - loss: 0.1012 - dice_coefficient: 0.9384 - val_loss: 1.2011 - val_dice_coefficient: 0.5183\n",
            "Epoch 79/100\n",
            "286/286 [==============================] - 12s 43ms/step - loss: 0.0935 - dice_coefficient: 0.9410 - val_loss: 1.1941 - val_dice_coefficient: 0.5234\n",
            "Epoch 80/100\n",
            "286/286 [==============================] - 12s 43ms/step - loss: 0.0915 - dice_coefficient: 0.9427 - val_loss: 1.1793 - val_dice_coefficient: 0.5344\n",
            "Epoch 81/100\n",
            "286/286 [==============================] - 12s 43ms/step - loss: 0.0941 - dice_coefficient: 0.9416 - val_loss: 1.2687 - val_dice_coefficient: 0.5148\n",
            "Epoch 82/100\n",
            "286/286 [==============================] - 12s 43ms/step - loss: 0.0915 - dice_coefficient: 0.9434 - val_loss: 1.1022 - val_dice_coefficient: 0.5626\n",
            "Epoch 83/100\n",
            "286/286 [==============================] - 12s 44ms/step - loss: 0.0919 - dice_coefficient: 0.9431 - val_loss: 1.1713 - val_dice_coefficient: 0.5501\n",
            "Epoch 84/100\n",
            "286/286 [==============================] - 12s 44ms/step - loss: 0.0842 - dice_coefficient: 0.9462 - val_loss: 1.1573 - val_dice_coefficient: 0.5473\n",
            "Epoch 85/100\n",
            "286/286 [==============================] - 12s 43ms/step - loss: 0.0876 - dice_coefficient: 0.9460 - val_loss: 0.9128 - val_dice_coefficient: 0.6387\n",
            "Epoch 86/100\n",
            "286/286 [==============================] - 12s 44ms/step - loss: 0.0887 - dice_coefficient: 0.9437 - val_loss: 1.0572 - val_dice_coefficient: 0.5833\n",
            "Epoch 87/100\n",
            "286/286 [==============================] - 12s 43ms/step - loss: 0.0820 - dice_coefficient: 0.9487 - val_loss: 0.9761 - val_dice_coefficient: 0.6123\n",
            "Epoch 88/100\n",
            "286/286 [==============================] - 12s 43ms/step - loss: 0.0827 - dice_coefficient: 0.9464 - val_loss: 0.9050 - val_dice_coefficient: 0.6450\n",
            "Epoch 89/100\n",
            "286/286 [==============================] - 12s 43ms/step - loss: 0.0841 - dice_coefficient: 0.9471 - val_loss: 0.9381 - val_dice_coefficient: 0.6287\n",
            "Epoch 90/100\n",
            "286/286 [==============================] - 12s 44ms/step - loss: 0.0785 - dice_coefficient: 0.9521 - val_loss: 0.9238 - val_dice_coefficient: 0.6468\n",
            "Epoch 91/100\n",
            "286/286 [==============================] - 12s 43ms/step - loss: 0.0970 - dice_coefficient: 0.9421 - val_loss: 0.9552 - val_dice_coefficient: 0.6242\n",
            "Epoch 92/100\n",
            "286/286 [==============================] - 12s 43ms/step - loss: 0.0894 - dice_coefficient: 0.9438 - val_loss: 1.1761 - val_dice_coefficient: 0.5397\n",
            "Epoch 93/100\n",
            "286/286 [==============================] - 12s 43ms/step - loss: 0.0863 - dice_coefficient: 0.9406 - val_loss: 0.8042 - val_dice_coefficient: 0.6941\n",
            "Epoch 94/100\n",
            "286/286 [==============================] - 12s 43ms/step - loss: 0.0847 - dice_coefficient: 0.9467 - val_loss: 0.9780 - val_dice_coefficient: 0.6249\n",
            "Epoch 95/100\n",
            "286/286 [==============================] - 12s 43ms/step - loss: 0.0856 - dice_coefficient: 0.9477 - val_loss: 1.0114 - val_dice_coefficient: 0.6224\n",
            "Epoch 96/100\n",
            "286/286 [==============================] - 12s 43ms/step - loss: 0.0785 - dice_coefficient: 0.9497 - val_loss: 0.9277 - val_dice_coefficient: 0.6487\n",
            "Epoch 97/100\n",
            "286/286 [==============================] - 12s 43ms/step - loss: 0.0733 - dice_coefficient: 0.9528 - val_loss: 1.1023 - val_dice_coefficient: 0.5804\n",
            "Epoch 98/100\n",
            "286/286 [==============================] - 12s 43ms/step - loss: 0.0843 - dice_coefficient: 0.9483 - val_loss: 1.5226 - val_dice_coefficient: 0.4283\n",
            "Epoch 99/100\n",
            "286/286 [==============================] - 12s 43ms/step - loss: 0.0954 - dice_coefficient: 0.9444 - val_loss: 1.4775 - val_dice_coefficient: 0.4964\n",
            "Epoch 100/100\n",
            "286/286 [==============================] - 12s 43ms/step - loss: 0.0799 - dice_coefficient: 0.9523 - val_loss: 1.6837 - val_dice_coefficient: 0.4876\n"
          ],
          "name": "stdout"
        },
        {
          "output_type": "execute_result",
          "data": {
            "text/plain": [
              "<keras.callbacks.callbacks.History at 0x7f881fd9bd68>"
            ]
          },
          "metadata": {
            "tags": []
          },
          "execution_count": 183
        }
      ]
    },
    {
      "cell_type": "code",
      "metadata": {
        "id": "m_5LgdRE9fsa",
        "colab_type": "code",
        "colab": {}
      },
      "source": [
        "import matplotlib.pyplot as plt"
      ],
      "execution_count": 112,
      "outputs": []
    },
    {
      "cell_type": "code",
      "metadata": {
        "id": "OKEHG9w22lwp",
        "colab_type": "code",
        "colab": {
          "base_uri": "https://localhost:8080/",
          "height": 50
        },
        "outputId": "00e95024-88fd-48f1-d75a-0bbd3ad715eb"
      },
      "source": [
        "print(X_train.shape)\n",
        "print(masks.shape)"
      ],
      "execution_count": 113,
      "outputs": [
        {
          "output_type": "stream",
          "text": [
            "(286, 224, 224, 3)\n",
            "(409, 224, 224, 1)\n"
          ],
          "name": "stdout"
        }
      ]
    },
    {
      "cell_type": "markdown",
      "metadata": {
        "colab_type": "text",
        "id": "5VtnuzlOf4uL"
      },
      "source": [
        "### Get the predicted mask for a sample image   (5 marks)"
      ]
    },
    {
      "cell_type": "code",
      "metadata": {
        "colab_type": "code",
        "id": "o-CBCMysrchu",
        "colab": {}
      },
      "source": [
        "n = 145\n",
        "sample_image = X_train[n]\n",
        "#pred_mask = cv2.resize(1.0*(model.predict(x=np.array([sample_image]))[0] > 0.5), (IMAGE_WIDTH, IMAGE_HEIGHT))\n",
        "pred_mask = model.predict(sample_image.reshape((1,IMAGE_HEIGHT, IMAGE_WIDTH, 3)))"
      ],
      "execution_count": 208,
      "outputs": []
    },
    {
      "cell_type": "code",
      "metadata": {
        "id": "Vv-bQ1KV8PPP",
        "colab_type": "code",
        "colab": {
          "base_uri": "https://localhost:8080/",
          "height": 302
        },
        "outputId": "a0e8dbd1-5ef2-474a-e75b-059b5743de3b"
      },
      "source": [
        "plt.imshow(sample_image)"
      ],
      "execution_count": 209,
      "outputs": [
        {
          "output_type": "stream",
          "text": [
            "Clipping input data to the valid range for imshow with RGB data ([0..1] for floats or [0..255] for integers).\n"
          ],
          "name": "stderr"
        },
        {
          "output_type": "execute_result",
          "data": {
            "text/plain": [
              "<matplotlib.image.AxesImage at 0x7f881d251278>"
            ]
          },
          "metadata": {
            "tags": []
          },
          "execution_count": 209
        },
        {
          "output_type": "display_data",
          "data": {
            "image/png": "[encoded data removed]",
            "text/plain": [
              "<Figure size 432x288 with 1 Axes>"
            ]
          },
          "metadata": {
            "tags": [],
            "needs_background": "light"
          }
        }
      ]
    },
    {
      "cell_type": "code",
      "metadata": {
        "id": "Y-DDpXYhMnUc",
        "colab_type": "code",
        "colab": {
          "base_uri": "https://localhost:8080/",
          "height": 286
        },
        "outputId": "bcc12ed9-4b5b-4100-be40-df57c89bec38"
      },
      "source": [
        "prediction = pred_mask.reshape(pred_mask.shape[1:-1])\n",
        "plt.imshow(prediction)"
      ],
      "execution_count": 210,
      "outputs": [
        {
          "output_type": "execute_result",
          "data": {
            "text/plain": [
              "<matplotlib.image.AxesImage at 0x7f881d22ba90>"
            ]
          },
          "metadata": {
            "tags": []
          },
          "execution_count": 210
        },
        {
          "output_type": "display_data",
          "data": {
            "image/png": "[encoded data removed]",
            "text/plain": [
              "<Figure size 432x288 with 1 Axes>"
            ]
          },
          "metadata": {
            "tags": [],
            "needs_background": "light"
          }
        }
      ]
    },
    {
      "cell_type": "markdown",
      "metadata": {
        "colab_type": "text",
        "id": "fDIetz0HgA4R"
      },
      "source": [
        "[### Impose the mask on the image (5 marks)"
      ]
    },
    {
      "cell_type": "code",
      "metadata": {
        "colab_type": "code",
        "id": "MTAHGkb5xdzu",
        "colab": {
          "base_uri": "https://localhost:8080/",
          "height": 302
        },
        "outputId": "7018d527-1589-4648-a952-c10989f4dcdc"
      },
      "source": [
        "image2 = sample_image\n",
        "image2[:, :, 0] = prediction*sample_image[:, :, 0]\n",
        "image2[:, :, 1] = prediction*sample_image[:, :, 1]\n",
        "image2[:, :, 2] = prediction*sample_image[:, :, 2]\n",
        "\n",
        "out_image = image2\n",
        "plt.imshow(out_image)"
      ],
      "execution_count": 211,
      "outputs": [
        {
          "output_type": "stream",
          "text": [
            "Clipping input data to the valid range for imshow with RGB data ([0..1] for floats or [0..255] for integers).\n"
          ],
          "name": "stderr"
        },
        {
          "output_type": "execute_result",
          "data": {
            "text/plain": [
              "<matplotlib.image.AxesImage at 0x7f881d18aac8>"
            ]
          },
          "metadata": {
            "tags": []
          },
          "execution_count": 211
        },
        {
          "output_type": "display_data",
          "data": {
            "image/png": "[encoded data removed]",
            "text/plain": [
              "<Figure size 432x288 with 1 Axes>"
            ]
          },
          "metadata": {
            "tags": [],
            "needs_background": "light"
          }
        }
      ]
    }
  ]
}