{
  "nbformat": 4,
  "nbformat_minor": 0,
  "metadata": {
    "kernelspec": {
      "display_name": "Python 3",
      "language": "python",
      "name": "python3"
    },
    "language_info": {
      "codemirror_mode": {
        "name": "ipython",
        "version": 3
      },
      "file_extension": ".py",
      "mimetype": "text/x-python",
      "name": "python",
      "nbconvert_exporter": "python",
      "pygments_lexer": "ipython3",
      "version": "3.7.4"
    },
    "colab": {
      "name": "TF2 - 1b. MNIST_CNN_History.ipynb",
      "provenance": []
    }
  },
  "cells": [
    {
      "cell_type": "markdown",
      "metadata": {
        "id": "q34beo4DkFWk",
        "colab_type": "text"
      },
      "source": [
        "### Package version\n",
        "- tensorflow==2.2.0rc2\n",
        "- matplotlib==3.2.1"
      ]
    },
    {
      "cell_type": "markdown",
      "metadata": {
        "id": "m7uHeoVo9eAQ",
        "colab_type": "text"
      },
      "source": [
        "### Load tensorflow"
      ]
    },
    {
      "cell_type": "code",
      "metadata": {
        "id": "SEUKOxRU9eAS",
        "colab_type": "code",
        "outputId": "b3d35e65-3c11-474b-8f20-549f4a933e61",
        "colab": {
          "base_uri": "https://localhost:8080/",
          "height": 34
        }
      },
      "source": [
        "import tensorflow as tf\n",
        "tf.__version__"
      ],
      "execution_count": 1,
      "outputs": [
        {
          "output_type": "execute_result",
          "data": {
            "text/plain": [
              "'2.2.0-rc2'"
            ]
          },
          "metadata": {
            "tags": []
          },
          "execution_count": 1
        }
      ]
    },
    {
      "cell_type": "markdown",
      "metadata": {
        "id": "hiX6l_Hm9eAY",
        "colab_type": "text"
      },
      "source": [
        "### Collect Data"
      ]
    },
    {
      "cell_type": "code",
      "metadata": {
        "id": "7sgU91Vn9eAZ",
        "colab_type": "code",
        "outputId": "6e6c1d3b-3d83-45dc-8a9b-f0aa391c841b",
        "colab": {
          "base_uri": "https://localhost:8080/",
          "height": 52
        }
      },
      "source": [
        "(trainX, trainY),(testX, testY) = tf.keras.datasets.mnist.load_data()"
      ],
      "execution_count": 2,
      "outputs": [
        {
          "output_type": "stream",
          "text": [
            "Downloading data from https://storage.googleapis.com/tensorflow/tf-keras-datasets/mnist.npz\n",
            "11493376/11490434 [==============================] - 0s 0us/step\n"
          ],
          "name": "stdout"
        }
      ]
    },
    {
      "cell_type": "code",
      "metadata": {
        "id": "jSXCMW5l9eAi",
        "colab_type": "code",
        "outputId": "84f2145c-a43d-46b6-a9f7-19c1cdc09336",
        "colab": {
          "base_uri": "https://localhost:8080/",
          "height": 34
        }
      },
      "source": [
        "trainX.shape"
      ],
      "execution_count": 3,
      "outputs": [
        {
          "output_type": "execute_result",
          "data": {
            "text/plain": [
              "(60000, 28, 28)"
            ]
          },
          "metadata": {
            "tags": []
          },
          "execution_count": 3
        }
      ]
    },
    {
      "cell_type": "markdown",
      "metadata": {
        "id": "ERdf_g1q9eAo",
        "colab_type": "text"
      },
      "source": [
        "### Convert Output label to multiple values"
      ]
    },
    {
      "cell_type": "code",
      "metadata": {
        "id": "WGV5PFSB9eAs",
        "colab_type": "code",
        "colab": {}
      },
      "source": [
        "trainY = tf.keras.utils.to_categorical(trainY, num_classes=10)\n",
        "testY = tf.keras.utils.to_categorical(testY, num_classes=10)"
      ],
      "execution_count": 0,
      "outputs": []
    },
    {
      "cell_type": "markdown",
      "metadata": {
        "id": "rCMdGZoy9eA0",
        "colab_type": "text"
      },
      "source": [
        "## Build the Graph"
      ]
    },
    {
      "cell_type": "code",
      "metadata": {
        "id": "2uV7-ESI9eA1",
        "colab_type": "code",
        "colab": {}
      },
      "source": [
        "#Initialize model, reshape & normalize data\n",
        "model = tf.keras.models.Sequential()\n",
        "\n",
        "#Reshape data from 2D (28,28) to 3D (28, 28, 1)\n",
        "model.add(tf.keras.layers.Reshape((28,28,1),input_shape=(28,28,)))\n",
        "\n",
        "#normalize data\n",
        "model.add(tf.keras.layers.BatchNormalization())"
      ],
      "execution_count": 0,
      "outputs": []
    },
    {
      "cell_type": "markdown",
      "metadata": {
        "id": "aVbF69H39eA7",
        "colab_type": "text"
      },
      "source": [
        "### Apply Convolutional Layers, MaxPooling"
      ]
    },
    {
      "cell_type": "code",
      "metadata": {
        "id": "rZezl78E9eA8",
        "colab_type": "code",
        "colab": {}
      },
      "source": [
        "#Add first convolutional layer\n",
        "model.add(tf.keras.layers.Conv2D(32, #Number of filters \n",
        "                                 kernel_size=(3,3), #Size of the filter\n",
        "                                 activation='relu'))\n",
        "\n",
        "#Add second convolutional layer\n",
        "model.add(tf.keras.layers.Conv2D(64, kernel_size=(3,3), activation='relu'))\n",
        "\n",
        "#Add MaxPooling layer\n",
        "model.add(tf.keras.layers.MaxPool2D(pool_size=(2,2)))"
      ],
      "execution_count": 0,
      "outputs": []
    },
    {
      "cell_type": "markdown",
      "metadata": {
        "id": "eMGluy_o9eBD",
        "colab_type": "text"
      },
      "source": [
        "### Add layers for Classification"
      ]
    },
    {
      "cell_type": "code",
      "metadata": {
        "id": "cAb1TRj09eBG",
        "colab_type": "code",
        "colab": {}
      },
      "source": [
        "#Flatten the output\n",
        "model.add(tf.keras.layers.Flatten())\n",
        "\n",
        "#Dense layer\n",
        "model.add(tf.keras.layers.Dense(128, activation='relu'))\n",
        "\n",
        "#Add another dropout layer\n",
        "model.add(tf.keras.layers.Dropout(0.25))\n",
        "\n",
        "#Output layer\n",
        "model.add(tf.keras.layers.Dense(10, activation='softmax'))"
      ],
      "execution_count": 0,
      "outputs": []
    },
    {
      "cell_type": "code",
      "metadata": {
        "id": "E5A94Hkn9eBN",
        "colab_type": "code",
        "colab": {}
      },
      "source": [
        "model.compile(optimizer='adam', loss='categorical_crossentropy', metrics=['accuracy'])"
      ],
      "execution_count": 0,
      "outputs": []
    },
    {
      "cell_type": "markdown",
      "metadata": {
        "id": "lRszgDwQ9eBS",
        "colab_type": "text"
      },
      "source": [
        "## Train the model"
      ]
    },
    {
      "cell_type": "code",
      "metadata": {
        "id": "ctYiXTqk9eBT",
        "colab_type": "code",
        "outputId": "eba50409-c519-42de-f6f3-be5080a53ead",
        "colab": {
          "base_uri": "https://localhost:8080/",
          "height": 193
        }
      },
      "source": [
        "#Train the model\n",
        "history = model.fit(trainX,trainY,\n",
        "                    validation_data=(testX,testY),\n",
        "                    epochs=5,\n",
        "                    batch_size=128)"
      ],
      "execution_count": 9,
      "outputs": [
        {
          "output_type": "stream",
          "text": [
            "Epoch 1/5\n",
            "469/469 [==============================] - 137s 292ms/step - loss: 0.1738 - accuracy: 0.9471 - val_loss: 0.0382 - val_accuracy: 0.9870\n",
            "Epoch 2/5\n",
            "469/469 [==============================] - 136s 291ms/step - loss: 0.0502 - accuracy: 0.9848 - val_loss: 0.0342 - val_accuracy: 0.9893\n",
            "Epoch 3/5\n",
            "469/469 [==============================] - 136s 290ms/step - loss: 0.0361 - accuracy: 0.9884 - val_loss: 0.0380 - val_accuracy: 0.9880\n",
            "Epoch 4/5\n",
            "469/469 [==============================] - 136s 290ms/step - loss: 0.0255 - accuracy: 0.9920 - val_loss: 0.0301 - val_accuracy: 0.9913\n",
            "Epoch 5/5\n",
            "469/469 [==============================] - 136s 290ms/step - loss: 0.0198 - accuracy: 0.9933 - val_loss: 0.0306 - val_accuracy: 0.9917\n"
          ],
          "name": "stdout"
        }
      ]
    },
    {
      "cell_type": "markdown",
      "metadata": {
        "id": "7E5PCQaP9eBY",
        "colab_type": "text"
      },
      "source": [
        "### Exploring History"
      ]
    },
    {
      "cell_type": "code",
      "metadata": {
        "id": "xslz-Skz9eBZ",
        "colab_type": "code",
        "outputId": "d484f391-1c32-4e5f-e918-c44ee165eecf",
        "colab": {
          "base_uri": "https://localhost:8080/",
          "height": 34
        }
      },
      "source": [
        "history"
      ],
      "execution_count": 10,
      "outputs": [
        {
          "output_type": "execute_result",
          "data": {
            "text/plain": [
              "<tensorflow.python.keras.callbacks.History at 0x7f58bd796dd8>"
            ]
          },
          "metadata": {
            "tags": []
          },
          "execution_count": 10
        }
      ]
    },
    {
      "cell_type": "code",
      "metadata": {
        "id": "TNXHeesl9eBj",
        "colab_type": "code",
        "outputId": "e326dbd3-83b3-4c6e-c778-f551358b26a8",
        "colab": {
          "base_uri": "https://localhost:8080/",
          "height": 34
        }
      },
      "source": [
        "history.history.keys()"
      ],
      "execution_count": 11,
      "outputs": [
        {
          "output_type": "execute_result",
          "data": {
            "text/plain": [
              "dict_keys(['loss', 'accuracy', 'val_loss', 'val_accuracy'])"
            ]
          },
          "metadata": {
            "tags": []
          },
          "execution_count": 11
        }
      ]
    },
    {
      "cell_type": "code",
      "metadata": {
        "id": "DCnZ3Jps9eBo",
        "colab_type": "code",
        "outputId": "1272b8e8-24f2-41df-d949-9d7622908b79",
        "colab": {
          "base_uri": "https://localhost:8080/",
          "height": 369
        }
      },
      "source": [
        "history.history"
      ],
      "execution_count": 12,
      "outputs": [
        {
          "output_type": "execute_result",
          "data": {
            "text/plain": [
              "{'accuracy': [0.9470999836921692,\n",
              "  0.9847833514213562,\n",
              "  0.9884333610534668,\n",
              "  0.9919833540916443,\n",
              "  0.9933333396911621],\n",
              " 'loss': [0.17378148436546326,\n",
              "  0.050235945731401443,\n",
              "  0.03607380390167236,\n",
              "  0.025486232712864876,\n",
              "  0.01981000415980816],\n",
              " 'val_accuracy': [0.9869999885559082,\n",
              "  0.989300012588501,\n",
              "  0.9879999756813049,\n",
              "  0.9912999868392944,\n",
              "  0.9916999936103821],\n",
              " 'val_loss': [0.038195013999938965,\n",
              "  0.03417138010263443,\n",
              "  0.03803705424070358,\n",
              "  0.03014790266752243,\n",
              "  0.030577518045902252]}"
            ]
          },
          "metadata": {
            "tags": []
          },
          "execution_count": 12
        }
      ]
    },
    {
      "cell_type": "markdown",
      "metadata": {
        "id": "8TL2k_m59eBu",
        "colab_type": "text"
      },
      "source": [
        "### Plotting history"
      ]
    },
    {
      "cell_type": "code",
      "metadata": {
        "id": "oCWakHEV9eBv",
        "colab_type": "code",
        "colab": {}
      },
      "source": [
        "import matplotlib.pyplot as plt"
      ],
      "execution_count": 0,
      "outputs": []
    },
    {
      "cell_type": "markdown",
      "metadata": {
        "id": "UkGUp_Wu9eB1",
        "colab_type": "text"
      },
      "source": [
        "Accuracy"
      ]
    },
    {
      "cell_type": "code",
      "metadata": {
        "id": "coIvNSi99eB2",
        "colab_type": "code",
        "outputId": "b458df8a-d871-4993-e761-4157cb4d4d6f",
        "colab": {
          "base_uri": "https://localhost:8080/",
          "height": 279
        }
      },
      "source": [
        "plt.plot(history.history['val_accuracy'])\n",
        "plt.plot(history.history['accuracy'])\n",
        "plt.xlabel('Iterations')\n",
        "plt.ylabel('Accuracy')\n",
        "plt.show()"
      ],
      "execution_count": 14,
      "outputs": [
        {
          "output_type": "display_data",
          "data": {
            "image/png": "[encoded data removed]",
            "text/plain": [
              "<Figure size 432x288 with 1 Axes>"
            ]
          },
          "metadata": {
            "tags": [],
            "needs_background": "light"
          }
        }
      ]
    },
    {
      "cell_type": "markdown",
      "metadata": {
        "id": "frPCUekK9eB6",
        "colab_type": "text"
      },
      "source": [
        "Loss"
      ]
    },
    {
      "cell_type": "code",
      "metadata": {
        "id": "aEABbnOV9eB7",
        "colab_type": "code",
        "outputId": "02aa9bef-5754-48e3-a0a8-bce0652de3ee",
        "colab": {
          "base_uri": "https://localhost:8080/",
          "height": 281
        }
      },
      "source": [
        "plt.plot(history.history['val_loss'])\n",
        "plt.plot(history.history['loss'])\n",
        "plt.xlabel('Iterations')\n",
        "plt.ylabel('Loss')\n",
        "plt.show()"
      ],
      "execution_count": 15,
      "outputs": [
        {
          "output_type": "display_data",
          "data": {
            "image/png": "[encoded data removed]",
            "text/plain": [
              "<Figure size 432x288 with 1 Axes>"
            ]
          },
          "metadata": {
            "tags": [],
            "needs_background": "light"
          }
        }
      ]
    },
    {
      "cell_type": "code",
      "metadata": {
        "id": "zFE52zPM9eCE",
        "colab_type": "code",
        "colab": {}
      },
      "source": [
        ""
      ],
      "execution_count": 0,
      "outputs": []
    }
  ]
}