{
  "nbformat": 4,
  "nbformat_minor": 0,
  "metadata": {
    "kernelspec": {
      "display_name": "Python 3",
      "language": "python",
      "name": "python3"
    },
    "language_info": {
      "codemirror_mode": {
        "name": "ipython",
        "version": 3
      },
      "file_extension": ".py",
      "mimetype": "text/x-python",
      "name": "python",
      "nbconvert_exporter": "python",
      "pygments_lexer": "ipython3",
      "version": "3.7.4"
    },
    "colab": {
      "name": "TF2 - 1e. MNIST_CNN_TensorBoard_Embeddings.ipynb",
      "provenance": []
    }
  },
  "cells": [
    {
      "cell_type": "markdown",
      "metadata": {
        "id": "YQkNH0N-jvR7",
        "colab_type": "text"
      },
      "source": [
        "### Package version\n",
        "- tensorflow==2.2.0rc2\n",
        "- tensorboard==2.2.0\n",
        "- numpy==1.18.2"
      ]
    },
    {
      "cell_type": "markdown",
      "metadata": {
        "id": "-2xUDnHPHPZ0",
        "colab_type": "text"
      },
      "source": [
        "### Load tensorflow"
      ]
    },
    {
      "cell_type": "code",
      "metadata": {
        "id": "WjpCIN5yHPZ2",
        "colab_type": "code",
        "colab": {}
      },
      "source": [
        "from tensorflow import keras\n",
        "import numpy as np"
      ],
      "execution_count": 0,
      "outputs": []
    },
    {
      "cell_type": "markdown",
      "metadata": {
        "id": "p_dGwOjwHPaA",
        "colab_type": "text"
      },
      "source": [
        "### Collect Data"
      ]
    },
    {
      "cell_type": "code",
      "metadata": {
        "id": "c5qj_11qHPaC",
        "colab_type": "code",
        "colab": {}
      },
      "source": [
        "(trainX, trainY),(testX, testY) = keras.datasets.mnist.load_data()"
      ],
      "execution_count": 0,
      "outputs": []
    },
    {
      "cell_type": "code",
      "metadata": {
        "id": "Ez_35fmOHPaI",
        "colab_type": "code",
        "outputId": "0ca9377b-3339-4622-f3fa-d110a75a5cb3",
        "colab": {
          "base_uri": "https://localhost:8080/",
          "height": 34
        }
      },
      "source": [
        "trainX.shape"
      ],
      "execution_count": 25,
      "outputs": [
        {
          "output_type": "execute_result",
          "data": {
            "text/plain": [
              "(60000, 28, 28)"
            ]
          },
          "metadata": {
            "tags": []
          },
          "execution_count": 25
        }
      ]
    },
    {
      "cell_type": "code",
      "metadata": {
        "colab_type": "code",
        "id": "_ZSQmBhGTSrv",
        "colab": {}
      },
      "source": [
        "log_dir = '.'"
      ],
      "execution_count": 0,
      "outputs": []
    },
    {
      "cell_type": "markdown",
      "metadata": {
        "id": "xixt010XHPak",
        "colab_type": "text"
      },
      "source": [
        "### Convert Output label to multiple values"
      ]
    },
    {
      "cell_type": "code",
      "metadata": {
        "id": "-yDIA-zbHPal",
        "colab_type": "code",
        "colab": {}
      },
      "source": [
        "trainY = keras.utils.to_categorical(trainY, num_classes=10)\n",
        "testY = keras.utils.to_categorical(testY, num_classes=10)"
      ],
      "execution_count": 0,
      "outputs": []
    },
    {
      "cell_type": "markdown",
      "metadata": {
        "id": "tYxGqTSCHPat",
        "colab_type": "text"
      },
      "source": [
        "## Build the Graph"
      ]
    },
    {
      "cell_type": "code",
      "metadata": {
        "id": "PBxa77RlHPav",
        "colab_type": "code",
        "colab": {}
      },
      "source": [
        "#Initialize model, reshape & normalize data\n",
        "model = keras.models.Sequential()\n",
        "\n",
        "#Reshape data from 2D (28,28) to 3D (28, 28, 1)\n",
        "model.add(keras.layers.Reshape((28,28,1),input_shape=(28,28,)))\n",
        "\n",
        "#normalize data\n",
        "model.add(keras.layers.BatchNormalization())"
      ],
      "execution_count": 0,
      "outputs": []
    },
    {
      "cell_type": "markdown",
      "metadata": {
        "id": "5nEyXD0NHPa3",
        "colab_type": "text"
      },
      "source": [
        "### Apply Convolutional Layers, MaxPooling"
      ]
    },
    {
      "cell_type": "code",
      "metadata": {
        "id": "M8kuTzr_HPa4",
        "colab_type": "code",
        "colab": {}
      },
      "source": [
        "# Add first convolutional layer\n",
        "model.add(keras.layers.Conv2D(32, #Number of filters \n",
        "                                 kernel_size=(3,3), #Size of the filter\n",
        "                                 activation='relu'))\n",
        "\n",
        "# Add second convolutional layer\n",
        "model.add(keras.layers.Conv2D(64, kernel_size=(3,3), activation='relu'))\n",
        "\n",
        "# Add MaxPooling layer\n",
        "model.add(keras.layers.MaxPool2D(pool_size=(2,2)))"
      ],
      "execution_count": 0,
      "outputs": []
    },
    {
      "cell_type": "markdown",
      "metadata": {
        "id": "s71qErhLHPa-",
        "colab_type": "text"
      },
      "source": [
        "### Add layers for Classification"
      ]
    },
    {
      "cell_type": "code",
      "metadata": {
        "id": "cJxx9WmNHPbA",
        "colab_type": "code",
        "colab": {}
      },
      "source": [
        "# Flatten the output\n",
        "model.add(keras.layers.Flatten())\n",
        "\n",
        "# Dense layer\n",
        "model.add(keras.layers.Dense(128, activation='relu', name='features'))\n",
        "\n",
        "# Add another dropout layer\n",
        "model.add(keras.layers.Dropout(0.25))\n",
        "\n",
        "# Output layer\n",
        "model.add(keras.layers.Dense(10, activation='softmax'))"
      ],
      "execution_count": 0,
      "outputs": []
    },
    {
      "cell_type": "code",
      "metadata": {
        "id": "HbbCDjMdHPbH",
        "colab_type": "code",
        "colab": {}
      },
      "source": [
        "model.compile(optimizer='adam', loss='categorical_crossentropy', metrics=['accuracy'])"
      ],
      "execution_count": 0,
      "outputs": []
    },
    {
      "cell_type": "markdown",
      "metadata": {
        "id": "bQIj72BDHPbP",
        "colab_type": "text"
      },
      "source": [
        "### Define TensorBoard to log Embeddings"
      ]
    },
    {
      "cell_type": "code",
      "metadata": {
        "scrolled": true,
        "id": "gjmOIvwuHPbQ",
        "colab_type": "code",
        "colab": {}
      },
      "source": [
        "tensorboard = keras.callbacks.TensorBoard(embeddings_freq=1, \n",
        "                                          log_dir=log_dir)"
      ],
      "execution_count": 0,
      "outputs": []
    },
    {
      "cell_type": "markdown",
      "metadata": {
        "id": "sHYZ_MTAHPbX",
        "colab_type": "text"
      },
      "source": [
        "## Train the model"
      ]
    },
    {
      "cell_type": "code",
      "metadata": {
        "id": "yZsvYgJBHPbY",
        "colab_type": "code",
        "outputId": "62b4b5d0-eff6-4a49-980a-eb3bccfa3747",
        "colab": {
          "base_uri": "https://localhost:8080/",
          "height": 52
        }
      },
      "source": [
        "# Train the model\n",
        "model.fit(trainX, trainY,          \n",
        "          validation_data=(testX,testY),\n",
        "          callbacks=[tensorboard],\n",
        "          epochs=1,\n",
        "          batch_size=128)"
      ],
      "execution_count": 33,
      "outputs": [
        {
          "output_type": "stream",
          "text": [
            "469/469 [==============================] - 139s 297ms/step - loss: 0.1636 - accuracy: 0.9491 - val_loss: 0.0485 - val_accuracy: 0.9831\n"
          ],
          "name": "stdout"
        },
        {
          "output_type": "execute_result",
          "data": {
            "text/plain": [
              "<tensorflow.python.keras.callbacks.History at 0x7fbd21bf94e0>"
            ]
          },
          "metadata": {
            "tags": []
          },
          "execution_count": 33
        }
      ]
    },
    {
      "cell_type": "markdown",
      "metadata": {
        "id": "okWCZ2riHPbd",
        "colab_type": "text"
      },
      "source": [
        "### Starting TensorBoard"
      ]
    },
    {
      "cell_type": "markdown",
      "metadata": {
        "id": "0CPD3abUHPbf",
        "colab_type": "text"
      },
      "source": [
        "**tensorboard** --logdir=log_dir_path"
      ]
    }
  ]
}